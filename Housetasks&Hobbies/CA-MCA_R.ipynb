{
 "cells": [
  {
   "cell_type": "markdown",
   "id": "eb93e292-d195-4a13-b257-12b445bb0422",
   "metadata": {},
   "source": [
    "# Correspondence Analysis with <a href=\"https://cran.r-project.org/\"><img src=\"https://cran.r-project.org/Rlogo.svg\" style=\"max-width: 40px; display: inline\" alt=\"R\"/></a>"
   ]
  },
  {
   "cell_type": "code",
   "execution_count": null,
   "id": "e3b8eb93-ec20-4596-a56e-fa6a1c23a80a",
   "metadata": {},
   "outputs": [],
   "source": [
    "library(ggplot2)"
   ]
  },
  {
   "cell_type": "markdown",
   "id": "106fea14-8512-47e1-a1dc-14c186263901",
   "metadata": {},
   "source": [
    "With [`R`](https://cran.r-project.org/), the reference packages for factor analysis are (i) [`FactoMineR`](http://factominer.free.fr/index_fr.html) for the analysis and (ii) [`factoextra`](https://cran.r-project.org/web/packages/factoextra/index.html) for data visualization, both of which we have already used. Here, we will use these packages to perform a correspondence analysis (part 1) and a multiple correspondence analysis (part 2)."
   ]
  },
  {
   "cell_type": "code",
   "execution_count": null,
   "id": "1da58c27-bd71-4dd7-93f9-4e51165c28cd",
   "metadata": {},
   "outputs": [],
   "source": [
    "library(FactoMineR)\n",
    "library(factoextra)"
   ]
  },
  {
   "cell_type": "markdown",
   "id": "763bd886-ed6e-4d69-9d10-ba63766d5344",
   "metadata": {},
   "source": [
    "## **CA** - Correspondence Analysis\n",
    "\n",
    "In this section, we look at a dataset listing the division of domestic tasks within a couple. This dataset is available in the `R` package `factoextra`. "
   ]
  },
  {
   "cell_type": "markdown",
   "id": "bb46bcf2-f611-43c3-a8f9-e28c43415304",
   "metadata": {},
   "source": [
    "### The data\n",
    "\n",
    "The data is a contingency table containing 13 housetasks and their repartition in the couple:\n",
    "- rows are the different tasks\n",
    "- values are the frequencies of the tasks done :\n",
    "    - by the _wife_ only,\n",
    "    - _alternatively_,\n",
    "    - by the _husband_ only,\n",
    "    - or _jointly_.\n",
    "    \n",
    "The data for this example deal with married women’s integration into the labour market in **1977**. Dual-wage earning, newly-wed, childless couples from five German cities were asked who was responsible for each of the following tasks:\n",
    "\n",
    "1. taking care of the laundry, \n",
    "2. preparing main meals, \n",
    "3. making dinner, \n",
    "4. preparing breakfast, \n",
    "5. tidying the house, \n",
    "6. washing dishes, \n",
    "7. shopping, \n",
    "8. taking care of official matters (tax returns, etc.), \n",
    "9. automobile driving, \n",
    "10. taking care of financial matters, \n",
    "11. taking care of insurance matters, \n",
    "12. minor household repairs, \n",
    "13. planning trips and vacations.\n",
    "\n",
    "Complete data were obtained from 223 couples. However, the data reported here relates only to couples who have reached an agreement on repartition (request made independently to the two protagonists).\n",
    "\n",
    "\n",
    "Further (sociological) information can be found in the original article by Thiessen, Rohlinger and Blasius (1994), and a more detailed description is available on page 379 (13) of the article by [Kroonenberg and Lombardo (1999)](https://www.researchgate.net/profile/Rosaria-Lombardo/publication/28648781_Nonsymmetric_Correspondence_Analysis_A_Tool_for_Analysing_Contingency_TablesWith_a_Dependence_Structure/links/55689ad908aec22683032b28/Nonsymmetric-Correspondence-Analysis-A-Tool-for-Analysing-Contingency-TablesWith-a-Dependence-Structure.pdf?origin=journalDetail&_tp=eyJwYWdlIjoiam91cm5hbERldGFpbCJ9): Non-symmetric correspondence analysis, A tool for analysing contingency tables with a dependence structure. Multivariate Behavioral Research 34(3)."
   ]
  },
  {
   "cell_type": "code",
   "execution_count": null,
   "id": "b6a23ae7-8b0a-4774-9a8d-9e7daa65f07c",
   "metadata": {},
   "outputs": [],
   "source": [
    "data(housetasks)\n",
    "housetasks"
   ]
  },
  {
   "cell_type": "markdown",
   "id": "40136c57-a743-4dbf-9053-fa002f683574",
   "metadata": {},
   "source": [
    "##### <span style=\"color:purple\">**Todo:** Visualize this contingency table.</span>\n",
    "\n",
    "- Contingency table can be visualized using the function `balloonplot` from the [`gplots`](https://cran.r-project.org/web/packages/gplots/index.html) package. This function draws a graphical matrix where each cell contains a dot whose size reflects the relative magnitude of the corresponding component;\n",
    "- It is also possible to visualize a contingency table as a mosaic plot. We can, for instance, do this using the `mosaicplot` function from the [`garphics`](https://cran.r-project.org/web/packages/RGraphics/index.html) package."
   ]
  },
  {
   "cell_type": "code",
   "execution_count": null,
   "id": "ac290de9-2bc8-4477-9332-0870218d4a01",
   "metadata": {},
   "outputs": [],
   "source": [
    "library(gplots)\n",
    "library(graphics)"
   ]
  },
  {
   "cell_type": "code",
   "execution_count": null,
   "id": "888cb032-cf23-4247-bb1b-77bd1f2ba2c6",
   "metadata": {},
   "outputs": [],
   "source": [
    "# solutions/ca/visualize.r"
   ]
  },
  {
   "cell_type": "code",
   "execution_count": null,
   "id": "2392ab0b-446d-4654-9811-e231c450cd27",
   "metadata": {},
   "outputs": [],
   "source": [
    "## TO BE COMPLETED ##"
   ]
  },
  {
   "cell_type": "markdown",
   "id": "f702ff23-03db-4dc7-9eef-1fd0a789679a",
   "metadata": {},
   "source": [
    "##### <span style=\"color:purple\">**Question:** Which task did husband and wife agree on most (in terms of distribution)?</span>\n",
    "\n",
    "Remember that the table only lists the answers for which both members of the couple agreed on the level of allocation."
   ]
  },
  {
   "cell_type": "code",
   "execution_count": null,
   "id": "806901f3-40a9-4343-b735-aac9494615ac",
   "metadata": {},
   "outputs": [],
   "source": [
    "# solutions/ca/common.r"
   ]
  },
  {
   "cell_type": "code",
   "execution_count": null,
   "id": "a0814fea-3776-48a7-be1e-c07e8bb6661d",
   "metadata": {},
   "outputs": [],
   "source": [
    "## TO BE COMPLETED ##"
   ]
  },
  {
   "cell_type": "markdown",
   "id": "909d83b3-43ef-46c9-a8cb-7d969bba61a4",
   "metadata": {},
   "source": [
    "##### <span style=\"color:purple\">**Question:** Is the distribution of household tasks significantly unequal, _i.e._ not evenly distributed?</span>"
   ]
  },
  {
   "cell_type": "code",
   "execution_count": null,
   "id": "6ce77f31-94f5-490d-ae4f-c6e4789c78b2",
   "metadata": {},
   "outputs": [],
   "source": [
    "# solutions/ca/dependence.r"
   ]
  },
  {
   "cell_type": "code",
   "execution_count": null,
   "id": "bd1aa5ff-383f-46d0-a731-237f3f5c4642",
   "metadata": {},
   "outputs": [],
   "source": [
    "## TO BE COMPLETED ##"
   ]
  },
  {
   "cell_type": "markdown",
   "id": "988e160e-c1cf-41c7-8e21-8f64e3051aab",
   "metadata": {},
   "source": [
    "### Correspondence Analysis\n",
    "\n",
    "With the `CA` function of [`FactoMineR`](http://factominer.free.fr/index_fr.html), we can perform Correspondence Analysis."
   ]
  },
  {
   "cell_type": "code",
   "execution_count": null,
   "id": "66c5c077-c50c-4e57-81cf-5463e6f26183",
   "metadata": {},
   "outputs": [],
   "source": [
    "res.ca = CA(housetasks, graph=FALSE)\n",
    "print(res.ca)"
   ]
  },
  {
   "cell_type": "markdown",
   "id": "b01ecc3b-a90a-45c2-83be-89b82125f961",
   "metadata": {},
   "source": [
    "##### <span style=\"color:purple\">**Question:** How many dimensions should we keep for further analysis?</span>"
   ]
  },
  {
   "cell_type": "code",
   "execution_count": null,
   "id": "19e56d93-5656-45f9-853b-c42757492afc",
   "metadata": {},
   "outputs": [],
   "source": [
    "# solutions/ca/dimensions.r"
   ]
  },
  {
   "cell_type": "code",
   "execution_count": null,
   "id": "fcdab463-c594-4899-a394-a0000cf28cb0",
   "metadata": {},
   "outputs": [],
   "source": [
    "## TO BE COMPLETED ##"
   ]
  },
  {
   "cell_type": "markdown",
   "id": "fd0fe9ce-b0b0-4884-b52a-431285b0f9d5",
   "metadata": {},
   "source": [
    "##### <span style=\"color:purple\">**Todo:** View the biplot.</span>\n",
    "\n",
    "- What conclusions can you draw?\n",
    "- One can use the `fviz_ca_biplot` function."
   ]
  },
  {
   "cell_type": "code",
   "execution_count": null,
   "id": "9c8bd304-43cb-429a-9ce2-913f0f3e4b18",
   "metadata": {},
   "outputs": [],
   "source": [
    "# solutions/ca/biplot.r"
   ]
  },
  {
   "cell_type": "code",
   "execution_count": null,
   "id": "58cc326b-06d6-46a7-a5ff-beac2b00d6ff",
   "metadata": {},
   "outputs": [],
   "source": [
    "## TO BE COMPLETED ##"
   ]
  },
  {
   "cell_type": "markdown",
   "id": "e5033979-9b26-412d-9309-2bc4354bfbdc",
   "metadata": {},
   "source": [
    "### Quality of representation"
   ]
  },
  {
   "cell_type": "markdown",
   "id": "8f49176f-66a3-42a7-ae3d-5c0be5377bb5",
   "metadata": {},
   "source": [
    "##### <span style=\"color:purple\">**Question:** Which task is best represented by axis 1?</span>"
   ]
  },
  {
   "cell_type": "code",
   "execution_count": null,
   "id": "92d198c9-ee32-4437-a86e-297d71662d2e",
   "metadata": {},
   "outputs": [],
   "source": [
    "# solutions/ca/representation.r"
   ]
  },
  {
   "cell_type": "code",
   "execution_count": null,
   "id": "41f8e0d4-b648-4ded-bf6b-cfe35b41d859",
   "metadata": {},
   "outputs": [],
   "source": [
    "## TO BE COMPLETED ##"
   ]
  },
  {
   "cell_type": "markdown",
   "id": "655f1def-2af9-498e-96c4-becb66ab9c8c",
   "metadata": {},
   "source": [
    "##### <span style=\"color:purple\">**Question:** Which task is best represented in the CA plan? Which is least well represented?</span>\n",
    "\n",
    "- View the projection of tasks in the CA plane colored according to the quality of their representation.\n",
    "- One may use the `fviz_ca_row` function"
   ]
  },
  {
   "cell_type": "code",
   "execution_count": null,
   "id": "a9ddda60-96d6-4161-bca1-72678bc296fd",
   "metadata": {},
   "outputs": [],
   "source": [
    "# solutions/ca/row_representation.r"
   ]
  },
  {
   "cell_type": "code",
   "execution_count": null,
   "id": "63b99664-bdd1-4014-8b99-3c5f9512d42f",
   "metadata": {},
   "outputs": [],
   "source": [
    "## TO BE COMPLETED ##"
   ]
  },
  {
   "cell_type": "markdown",
   "id": "0db74231-19c1-4dc2-acb7-55dcb691cdca",
   "metadata": {},
   "source": [
    "##### <span style=\"color:purple\">**Todo:** Carry out the same study with the columns in the table.</span>"
   ]
  },
  {
   "cell_type": "code",
   "execution_count": null,
   "id": "72ef4062-ff67-4b75-8b35-91b823a9821e",
   "metadata": {},
   "outputs": [],
   "source": [
    "# solutions/ca/col_representation.r"
   ]
  },
  {
   "cell_type": "code",
   "execution_count": null,
   "id": "4fc7b214-1d2a-4fc0-a6f7-4386ec82dbdf",
   "metadata": {},
   "outputs": [],
   "source": [
    "## TO BE COMPLETED ##"
   ]
  },
  {
   "cell_type": "markdown",
   "id": "1fdaa734-d324-4cb7-914a-3748ef2b1244",
   "metadata": {},
   "source": [
    "### Contribution to the dimensions"
   ]
  },
  {
   "cell_type": "markdown",
   "id": "b9745a2d-4b64-4cfc-bc15-0a873b1373ca",
   "metadata": {},
   "source": [
    "##### <span style=\"color:purple\">**Question:** Which task contributes most to axis 2?</span>"
   ]
  },
  {
   "cell_type": "code",
   "execution_count": null,
   "id": "a9a33ddb-e4ad-4857-b0a4-e353e637289d",
   "metadata": {},
   "outputs": [],
   "source": [
    "# solutions/ca/contribution.r"
   ]
  },
  {
   "cell_type": "code",
   "execution_count": null,
   "id": "40875d68-4f71-4ec3-aecf-7ff10ad9591d",
   "metadata": {},
   "outputs": [],
   "source": [
    "## TO BE COMPLETED ##"
   ]
  },
  {
   "cell_type": "markdown",
   "id": "40eba740-76dd-4aab-808d-7810f416a649",
   "metadata": {},
   "source": [
    "##### <span style=\"color:purple\">**Todo:** How do each of the tasks contribute to axes 1 and 2?</span>\n",
    "\n",
    "- Draw a bar plot of row contributions, to dimension 1 on the one hand, to dimension 2 on the other, and to the combination of these two dimensions (CA map).\n",
    "- One can use the `fviz_contrib` function."
   ]
  },
  {
   "cell_type": "code",
   "execution_count": null,
   "id": "33d303ff-ecd3-4a2b-978a-1a0adc688348",
   "metadata": {},
   "outputs": [],
   "source": [
    "# solutions/ca/row_contribution.r"
   ]
  },
  {
   "cell_type": "code",
   "execution_count": null,
   "id": "a0ba9bc3-8373-4a9e-a166-d2bc2e666515",
   "metadata": {},
   "outputs": [],
   "source": [
    "## TO BE COMPLETED ##"
   ]
  },
  {
   "cell_type": "markdown",
   "id": "927952df-9cfa-4cdc-92f0-e8fa865fec0f",
   "metadata": {},
   "source": [
    "##### <span style=\"color:purple\">**Todo:** Interpret the axes</span>"
   ]
  },
  {
   "cell_type": "code",
   "execution_count": null,
   "id": "76a01ed8-4b7e-4e9a-bbb0-39934ce41d19",
   "metadata": {},
   "outputs": [],
   "source": [
    "# solutions/ca/axes.r"
   ]
  },
  {
   "cell_type": "code",
   "execution_count": null,
   "id": "1d797895-48de-4a5f-9d02-53a5c1e13e83",
   "metadata": {},
   "outputs": [],
   "source": [
    "## TO BE COMPLETED ##"
   ]
  },
  {
   "cell_type": "markdown",
   "id": "d3c0b08b-4519-4982-b1a4-5e6f6b292a99",
   "metadata": {},
   "source": [
    "##### <span style=\"color:purple\">**Todo:** View the contribution of each column to each dimension.</span>\n",
    "\n",
    "- use the `corrplot` function the eponymous package to highlight the most contributing row points for each dimension:"
   ]
  },
  {
   "cell_type": "code",
   "execution_count": null,
   "id": "fc48fae7-71de-4f1a-a966-78ce93015a44",
   "metadata": {},
   "outputs": [],
   "source": [
    "library(corrplot)"
   ]
  },
  {
   "cell_type": "code",
   "execution_count": null,
   "id": "2a08c813-44f6-4f6a-a87a-457fed1a2cb6",
   "metadata": {},
   "outputs": [],
   "source": [
    "# solutions/ca/col_contrib.r"
   ]
  },
  {
   "cell_type": "code",
   "execution_count": null,
   "id": "1ccfc661-3876-49be-9560-bbe512cf6226",
   "metadata": {},
   "outputs": [],
   "source": [
    "## TO BE COMPLETED ##"
   ]
  },
  {
   "cell_type": "markdown",
   "id": "e23cd3c6-1a49-4f7a-a3f4-47c6323d4ef7",
   "metadata": {},
   "source": [
    "---"
   ]
  },
  {
   "cell_type": "markdown",
   "id": "0eb33836-8905-4fc8-8ea7-1822253e8452",
   "metadata": {},
   "source": [
    "## **MCA** - Multiple Correspondence Analysis\n",
    "\n",
    "We now focus on the Multiple Correspondence Analysis, extension of the simple Correspondence Analysis (CA)."
   ]
  },
  {
   "cell_type": "markdown",
   "id": "49bbf9e6-35be-4f3a-b09e-dda6bfacc538",
   "metadata": {},
   "source": [
    "### The data\n",
    "\n",
    "We are going to use data on leisure activities. These data are taken from a 2003 INSEE survey on identity construction, known as the \"life history\" survey, in which 8403 people were interviewed.\n",
    "\n",
    "This study includes 2 types of variable:\n",
    "- Which of the following leisure activities do you practice regularly? Reading, Listening to music, Cinema, Shows, Exhibitions, Computer, Sport, Walking, Travel, Playing a musical instrument, Collecting, Voluntary work, Home improvement, Gardening, Knitting, Cooking, Fishing, Number of hours of TV per day on average\n",
    "- Additional variables (4 questions): sex, gender, profession, marital status.\n",
    "\n",
    "This data is available in the \"hobbies\" $\\texttt{csv}$ file."
   ]
  },
  {
   "cell_type": "markdown",
   "id": "180f0193-0f3e-4f6c-880a-9138e8a882dd",
   "metadata": {},
   "source": [
    "##### <span style=\"color:purple\">**Todo:** Load the data and carry out any necessary transformations.</span>"
   ]
  },
  {
   "cell_type": "code",
   "execution_count": null,
   "id": "2afe933c-9144-4a4b-9bd4-4dbbdfff7408",
   "metadata": {},
   "outputs": [],
   "source": [
    "# solutions/mca/data.r"
   ]
  },
  {
   "cell_type": "code",
   "execution_count": null,
   "id": "6fba0160-eb16-4c07-ad48-25d3918daa35",
   "metadata": {
    "scrolled": true,
    "tags": []
   },
   "outputs": [],
   "source": [
    "## TO BE COMPLETED ##\n",
    "\n",
    "hobbies = ..."
   ]
  },
  {
   "cell_type": "markdown",
   "id": "13411e26-302d-48f7-a2a1-5f10f8eeb08f",
   "metadata": {},
   "source": [
    "##### <span style=\"color:purple\">**Question:** Are some leisure activities more popular than others? Is any age group over-represented in this dataset?</span>\n",
    "\n",
    "- For each variable, plot the frequency of variable categories."
   ]
  },
  {
   "cell_type": "code",
   "execution_count": null,
   "id": "e2e4635d-7232-499b-ae9a-e77f2f31e7dd",
   "metadata": {},
   "outputs": [],
   "source": [
    "# solutions/mca/frequency.r"
   ]
  },
  {
   "cell_type": "code",
   "execution_count": null,
   "id": "3ccf2c6a-c0f3-406e-acfe-c43bcac042b0",
   "metadata": {
    "scrolled": true,
    "tags": []
   },
   "outputs": [],
   "source": [
    "## TO BE COMPLETED ##"
   ]
  },
  {
   "cell_type": "markdown",
   "id": "602f0e6f-5025-440d-a2e3-444f1dc310ff",
   "metadata": {},
   "source": [
    "> _**Remark**: The graphs above can be used to identify variable categories with a very low frequency. These types of variables can distort the analysis and should be removed._"
   ]
  },
  {
   "cell_type": "markdown",
   "id": "6741fb25-85f0-4030-98e1-76fc509d1560",
   "metadata": {},
   "source": [
    "### Multiple Correspondence Analysis\n",
    "\n",
    "With the `MCA` function of [`FactoMineR`](http://factominer.free.fr/index_fr.html), we can perform Multiple Correspondence Analysis."
   ]
  },
  {
   "cell_type": "code",
   "execution_count": null,
   "id": "2174e40d-aa9d-4d95-82ae-2584eb67600d",
   "metadata": {},
   "outputs": [],
   "source": [
    "res.mca = MCA(hobbies[c(1:18)], graph=FALSE)\n",
    "print(res.mca)"
   ]
  },
  {
   "cell_type": "markdown",
   "id": "7ed972f7-5dfa-4ffe-9410-81a4dc01c39e",
   "metadata": {},
   "source": [
    "##### <span style=\"color:purple\">**Todo:** Visualize the percentages of inertia explained by each MCA dimensions.</span>\n",
    "\n",
    "- What percentage of the variance explains the first two axes?\n",
    "- How many dimensions would you recommend retaining?"
   ]
  },
  {
   "cell_type": "code",
   "execution_count": null,
   "id": "84933c5e-0d83-4a63-962c-a44f338e37ea",
   "metadata": {},
   "outputs": [],
   "source": [
    "# solutions/mca/inertia.r"
   ]
  },
  {
   "cell_type": "code",
   "execution_count": null,
   "id": "f8df201e-bc9a-4390-9632-286e76c4c428",
   "metadata": {},
   "outputs": [],
   "source": [
    "## TO BE COMPLETED ##"
   ]
  },
  {
   "cell_type": "markdown",
   "id": "c588cf1f-4357-4b57-9db4-270757e40e02",
   "metadata": {},
   "source": [
    "##### <span style=\"color:purple\">**Todo:** Visualize the mca biplot.</span>\n",
    "\n",
    "- One may use the `fviz_mca_biplot` function."
   ]
  },
  {
   "cell_type": "code",
   "execution_count": null,
   "id": "821035cd-b27a-49c4-84fc-1d940df22cd8",
   "metadata": {},
   "outputs": [],
   "source": [
    "# solutions/mca/biplot.r"
   ]
  },
  {
   "cell_type": "code",
   "execution_count": null,
   "id": "e55dd454-667a-4699-a18e-dda5930ad164",
   "metadata": {},
   "outputs": [],
   "source": [
    "## TO BE COMPLETED ##"
   ]
  },
  {
   "cell_type": "markdown",
   "id": "96544701-f7df-4720-9275-adf200226d94",
   "metadata": {},
   "source": [
    "##### <span style=\"color:purple\">**Question:** How do the different variables correlate with the different axes?</span>\n",
    "\n",
    "- What can you conclude from this?\n",
    "- One can refer to the `fviz_mca_var` function."
   ]
  },
  {
   "cell_type": "code",
   "execution_count": null,
   "id": "f5376f92-daa2-445c-83ca-9f6597598b4f",
   "metadata": {},
   "outputs": [],
   "source": [
    "# solutions/mca/var_correlation.r"
   ]
  },
  {
   "cell_type": "code",
   "execution_count": null,
   "id": "3eaa33d8-94c0-4ad9-8513-687db7d0cc52",
   "metadata": {},
   "outputs": [],
   "source": [
    "## TO BE COMPLETED ##"
   ]
  },
  {
   "cell_type": "markdown",
   "id": "79963784-b509-47c8-b68d-2d45ef90cecd",
   "metadata": {},
   "source": [
    "### Quality of representation\n",
    "\n",
    "The two dimensions 1 and 2 are sufficient to retain only $24\\%$ of the total inertia (variation) contained in the data. \n",
    "It is reasonable to assume that not all points are displayed with the same quality in these first two dimensions."
   ]
  },
  {
   "cell_type": "markdown",
   "id": "18120de4-2f0d-4928-8a31-ac657ddd5c57",
   "metadata": {
    "tags": []
   },
   "source": [
    "##### <span style=\"color:purple\">**Question:** Which hobby is best represented in Plan 1-2? Least well?</span>"
   ]
  },
  {
   "cell_type": "code",
   "execution_count": null,
   "id": "1efdf697-21ba-44c7-82a4-30fc61f067f5",
   "metadata": {},
   "outputs": [],
   "source": [
    "# solutions/mca/representation.r"
   ]
  },
  {
   "cell_type": "code",
   "execution_count": null,
   "id": "5102f85e-36a4-493b-a79c-c20505be3593",
   "metadata": {},
   "outputs": [],
   "source": [
    "## TO BE COMPLETED ##"
   ]
  },
  {
   "cell_type": "markdown",
   "id": "403ad40e-65eb-459d-a68b-6fef8133c669",
   "metadata": {},
   "source": [
    "##### <span style=\"color:purple\">**Todo:** Visualize the variables quality representation.</span>\n",
    "\n",
    "- Visualize the variable map, colored according the quality of representation $\\to$ `fviz_mca_var`\n",
    "- Create a bar plot of variable $\\cos^2$ $\\to$ `fviz_cos2`\n",
    "- What do you think of the quality of the representation of the hobby of \"watching TV\"?"
   ]
  },
  {
   "cell_type": "code",
   "execution_count": null,
   "id": "40760602-1252-498e-8a6e-206bd34a8187",
   "metadata": {},
   "outputs": [],
   "source": [
    "# solutions/mca/var_representation.r"
   ]
  },
  {
   "cell_type": "code",
   "execution_count": null,
   "id": "ae693f7c-c1a1-4366-833a-e3a62169a3a7",
   "metadata": {},
   "outputs": [],
   "source": [
    "## TO BE COMPLETED ##"
   ]
  },
  {
   "cell_type": "markdown",
   "id": "45a5802e-b411-48d8-a1b6-3937aad44b72",
   "metadata": {},
   "source": [
    "##### <span style=\"color:purple\">**Todo:** Would you say that all individuals are uniformly well represented?</span>"
   ]
  },
  {
   "cell_type": "code",
   "execution_count": null,
   "id": "bccebff9-fb93-44c1-8cf4-9b8e279dcde2",
   "metadata": {},
   "outputs": [],
   "source": [
    "# solutions/mca/ind_representation.r"
   ]
  },
  {
   "cell_type": "code",
   "execution_count": null,
   "id": "b0143664-42cf-4189-a34c-dc89e35aa988",
   "metadata": {},
   "outputs": [],
   "source": [
    "## TO BE COMPLETED ##"
   ]
  },
  {
   "cell_type": "markdown",
   "id": "420b8335-8cd0-466a-973f-775d516a5ac7",
   "metadata": {},
   "source": [
    "### Contribution to the dimensions"
   ]
  },
  {
   "cell_type": "markdown",
   "id": "eef3ab1b-83e7-45dd-ba09-d680437d2659",
   "metadata": {},
   "source": [
    "##### <span style=\"color:purple\">**Todo:** Evaluate the contribution of the various leisure activities to Axes 1 and 2 of the MCA.</span>\n",
    "\n",
    "- Which 20 leisure activities contribute most to axis 1 of the MCA? \n",
    "- Which of these leisure activities make a significant contribution?\n",
    "- Same questions for axis 2."
   ]
  },
  {
   "cell_type": "code",
   "execution_count": null,
   "id": "76c17c59-fc18-44b7-a1e9-38835395d180",
   "metadata": {},
   "outputs": [],
   "source": [
    "# solutions/mca/var_contrib.r"
   ]
  },
  {
   "cell_type": "code",
   "execution_count": null,
   "id": "4f7eaaf5-3b9d-4556-b017-0ccf9d8d452e",
   "metadata": {
    "scrolled": true,
    "tags": []
   },
   "outputs": [],
   "source": [
    "## TO BE COMPLETED ##"
   ]
  },
  {
   "cell_type": "markdown",
   "id": "382e917f-4fd7-4fc5-9af8-045b176d9105",
   "metadata": {},
   "source": [
    "The most important (or, contributing) hobbies can be highlighted on the scatter plot as follow:"
   ]
  },
  {
   "cell_type": "code",
   "execution_count": null,
   "id": "2e77a934-aa4b-4706-a80e-5c4e93edb4cc",
   "metadata": {},
   "outputs": [],
   "source": [
    "fviz_mca_var(res.mca, col.var = \"contrib\",\n",
    "             gradient.cols = c(\"blue\", \"yellow\", \"red\"), \n",
    "             repel = TRUE)"
   ]
  },
  {
   "cell_type": "markdown",
   "id": "b484b5c9-accf-4ce1-a122-e15bb1c4f13b",
   "metadata": {},
   "source": [
    "##### <span style=\"color:purple\">**Question:** More generally, can we distinguish between involvement in leisure activities and not?</span>"
   ]
  },
  {
   "cell_type": "code",
   "execution_count": null,
   "id": "cf7b0b79-6ec2-4c1a-a4c5-0fb84de35415",
   "metadata": {},
   "outputs": [],
   "source": [
    "# solutions/mca/grouped_var.r"
   ]
  },
  {
   "cell_type": "code",
   "execution_count": null,
   "id": "1becd755-0c80-4307-9671-2f140128f9df",
   "metadata": {},
   "outputs": [],
   "source": [
    "## TO BE COMPLETED ##"
   ]
  },
  {
   "cell_type": "markdown",
   "id": "d0307805-0cf0-49ae-bc2f-d010d2c71865",
   "metadata": {},
   "source": [
    "##### <span style=\"color:purple\">**Todo:** View the individuals on the main map of the MCA according to their hobbies.</span>\n",
    "\n",
    "- We could concentrate on visiting exhibitions, gardening or watching TV.\n",
    "- What do you think?"
   ]
  },
  {
   "cell_type": "code",
   "execution_count": null,
   "id": "aaac176e-a9e1-4d1d-b412-362f97ce9df9",
   "metadata": {},
   "outputs": [],
   "source": [
    "# solutions/mca/grouped_ind.r"
   ]
  },
  {
   "cell_type": "code",
   "execution_count": null,
   "id": "6ec92213-cc7f-411f-a841-9ba88920e52e",
   "metadata": {
    "scrolled": true,
    "tags": []
   },
   "outputs": [],
   "source": [
    "## TO BE COMPLETED ##"
   ]
  },
  {
   "cell_type": "markdown",
   "id": "8b1d5295-11c1-4a57-9c51-34fb2dc926f6",
   "metadata": {},
   "source": [
    "### Supplementary elements\n",
    "\n",
    "We will now take into account the additional socio-demographic variables in our analysis"
   ]
  },
  {
   "cell_type": "code",
   "execution_count": null,
   "id": "06a49fe3-67c1-42a3-b6c2-1bab0401ccae",
   "metadata": {},
   "outputs": [],
   "source": [
    "res.mca = MCA(hobbies, quali.sup=19:22, quanti.sup=23, graph=FALSE)"
   ]
  },
  {
   "cell_type": "markdown",
   "id": "5215153c-77df-4c1c-825f-79c4f00fa8ef",
   "metadata": {},
   "source": [
    "##### <span style=\"color:purple\">**Question:** What do the graphs below represent? What can you tell from them?</span>"
   ]
  },
  {
   "cell_type": "code",
   "execution_count": null,
   "id": "48696d85-8eb0-4af8-b3f1-0ef2837562bd",
   "metadata": {},
   "outputs": [],
   "source": [
    "fviz_mca_var(res.mca)\n",
    "\n",
    "# --- #\n",
    "\n",
    "plot(res.mca, invisible=c(\"ind\",\"var\"),\n",
    "     hab = \"quali\", \n",
    "     palette = palette(c(\"blue\",\"maroon\",\"darkgreen\",\"black\",\"red\")), \n",
    "     title = \"Graph of the socio-demographic categories\")\n",
    "\n",
    "# col = c( rep(\"Sex\",length(levels(hobbies$Sex))), rep(\"Age\",length(levels(hobbies$Age))), rep(\"Marital.status\",length(levels(hobbies$Marital.status))), rep(\"Profession\",length(levels(hobbies$Profession))) )\n",
    "# fviz_mca_var(res.mca, invisible=\"var\", col.var = col)\n",
    "\n",
    "# --- #\n",
    "\n",
    "fviz_mca_var(res.mca, choice = \"quanti.sup\")"
   ]
  },
  {
   "cell_type": "markdown",
   "id": "5a87005b-43a2-4abb-b746-03d9954cd828",
   "metadata": {},
   "source": [
    "##### <span style=\"color:purple\">**Question:** Are the additional socio-demographic variables well represented in the MCA space?</span>\n",
    "\n",
    "- Assessing the quality of the representation of additional qualitative variables.\n",
    "- Draw a bar chart to compare these different qualities."
   ]
  },
  {
   "cell_type": "code",
   "execution_count": null,
   "id": "61820794-6877-4c40-9faf-e07975bddccd",
   "metadata": {},
   "outputs": [],
   "source": [
    "library(tidyverse)\n",
    "library(ggpubr)"
   ]
  },
  {
   "cell_type": "code",
   "execution_count": null,
   "id": "6de24918-6b77-4f9f-908c-a427df999ab9",
   "metadata": {},
   "outputs": [],
   "source": [
    "# solutions/mcs/sup_representation.r"
   ]
  },
  {
   "cell_type": "code",
   "execution_count": null,
   "id": "048cb02d-381d-407f-87f2-983e41caa712",
   "metadata": {
    "tags": []
   },
   "outputs": [],
   "source": [
    "## TO BE COMPLETED ##"
   ]
  },
  {
   "cell_type": "markdown",
   "id": "c63084f0-b7fd-483d-a555-8a52c12cc5bb",
   "metadata": {},
   "source": [
    "##### <span style=\"color:purple\">**Question:** How are the additional variables correlated with dimensions 1 and 2?</span>"
   ]
  },
  {
   "cell_type": "code",
   "execution_count": null,
   "id": "88c5af3b-5222-43cb-b3c9-a6a36a2e5cd6",
   "metadata": {},
   "outputs": [],
   "source": [
    "# solutions/mca/sup_correlation.r"
   ]
  },
  {
   "cell_type": "code",
   "execution_count": null,
   "id": "baf6e0f3-9238-46a9-810c-a6cc2b7134c4",
   "metadata": {},
   "outputs": [],
   "source": [
    "## TO BE COMPLETED ##"
   ]
  },
  {
   "cell_type": "code",
   "execution_count": null,
   "id": "56f34b98-f8fb-43d7-a474-b259ffcbd061",
   "metadata": {},
   "outputs": [],
   "source": []
  },
  {
   "cell_type": "code",
   "execution_count": null,
   "id": "c50b91f6-fa56-43fc-bcec-68840ca04f51",
   "metadata": {},
   "outputs": [],
   "source": []
  }
 ],
 "metadata": {
  "kernelspec": {
   "display_name": "R",
   "language": "R",
   "name": "ir"
  },
  "language_info": {
   "codemirror_mode": "r",
   "file_extension": ".r",
   "mimetype": "text/x-r-source",
   "name": "R",
   "pygments_lexer": "r",
   "version": "4.3.1"
  }
 },
 "nbformat": 4,
 "nbformat_minor": 5
}
