{
 "cells": [
  {
   "cell_type": "markdown",
   "id": "8a1c1522",
   "metadata": {},
   "source": [
    "# Clustering with <a href=\"https://cran.r-project.org/\"><img src=\"https://cran.r-project.org/Rlogo.svg\" style=\"max-width: 40px; display: inline\" alt=\"R\"/></a>\n",
    "\n",
    "---\n",
    "\n",
    "The objective of this tutorial is to apply the different concepts studied during the course on clustering to identify groups of wines.\n",
    "\n",
    "---"
   ]
  },
  {
   "cell_type": "markdown",
   "id": "089e2f3e",
   "metadata": {},
   "source": [
    "## Data exploration\n",
    "\n",
    "In this tutoral we will studied the _wine_ dataset (_wine.txt_).\n",
    "This dataset includes physico-chemical measurements performed on a sample of $n=600$ wines (red and white) from Portugal. These measurements are complemented by a sensory evaluation of the quality by a set of experts. Each wine is described by the following variables:\n",
    "- _Quality:_ Wine quality according to experts (“bad“, “medium”, “good”),\n",
    "- _Type:_ 1 for red wine and 0 for white wine,\n",
    "- _AcidVol:_ The volatile acid content (in g/dm3 of acetic acid),\n",
    "- _AcidCitr:_ The citric acid content (in g/dm3),\n",
    "- _SO2lbr:_ The measurement of free sulfur dioxide (in mg/dm3),\n",
    "- _SO2tot:_ Total sulfur dioxide measurement (in mg/dm3),\n",
    "- _Density:_ The density (in g/cm3),\n",
    "- _Alcohol:_ The alcohol level (in % of Vol.)."
   ]
  },
  {
   "cell_type": "markdown",
   "id": "cd314362",
   "metadata": {},
   "source": [
    "### Some important parkages"
   ]
  },
  {
   "cell_type": "code",
   "execution_count": null,
   "id": "c272cbab-14de-4c47-b286-245210ec3806",
   "metadata": {},
   "outputs": [],
   "source": [
    "# install.packages('...')"
   ]
  },
  {
   "cell_type": "code",
   "execution_count": null,
   "id": "f63eb27a",
   "metadata": {
    "vscode": {
     "languageId": "r"
    }
   },
   "outputs": [],
   "source": [
    "library(ggplot2)\n",
    "library(reshape)\n",
    "library(gridExtra)"
   ]
  },
  {
   "cell_type": "markdown",
   "id": "7fac2560",
   "metadata": {},
   "source": [
    "##### <span style=\"color:purple\">**Todo:** Load the _wine.txt_ dataset and: </span>\n",
    "\n",
    "- Use the `str()` function to show information about variables. Are all variables on the appropriated type?\n",
    "- If not transform quantitative variables to factors with the `as.factor` function.\n",
    "- Rename the levels of the variable _type_ : 1=red and 0=white."
   ]
  },
  {
   "cell_type": "code",
   "execution_count": null,
   "id": "2fdfbe04",
   "metadata": {
    "vscode": {
     "languageId": "r"
    }
   },
   "outputs": [],
   "source": [
    "### TO BE COMPLETED ### \n",
    "\n",
    "wine = ...\n",
    "\n",
    "[...]\n",
    "\n",
    "head(wine)"
   ]
  },
  {
   "cell_type": "code",
   "execution_count": null,
   "id": "3e5b68be-5694-4bc4-898b-b62fedf1969f",
   "metadata": {
    "vscode": {
     "languageId": "r"
    }
   },
   "outputs": [],
   "source": [
    "# solutions/data/load_data.r"
   ]
  },
  {
   "cell_type": "markdown",
   "id": "bb68d1a3-955a-4602-b1a6-0e7d77a8dd6b",
   "metadata": {},
   "source": [
    "### Exploratory data analysis"
   ]
  },
  {
   "cell_type": "code",
   "execution_count": null,
   "id": "2e248c5a-9889-47e7-a56c-79d0ac709046",
   "metadata": {
    "vscode": {
     "languageId": "r"
    }
   },
   "outputs": [],
   "source": [
    "library(corrplot)"
   ]
  },
  {
   "cell_type": "code",
   "execution_count": null,
   "id": "e94d2094",
   "metadata": {
    "vscode": {
     "languageId": "r"
    }
   },
   "outputs": [],
   "source": [
    "summary(wine)"
   ]
  },
  {
   "cell_type": "markdown",
   "id": "cd3f3537",
   "metadata": {},
   "source": [
    "##### <span style=\"color:purple\">**Todo:** Descriptive statistic and bivariate analysis: </span>\n",
    "- Show description of variables with the `summary` function,\n",
    "- Draw boxplots of quantitative variables. Analyze the results,\n",
    "- Do graphical description of qualitative variables (barplot),\n",
    "- Analyze correlation between numeric variables."
   ]
  },
  {
   "cell_type": "code",
   "execution_count": null,
   "id": "a670e619-5165-4b7a-91ae-b228c384b17b",
   "metadata": {
    "vscode": {
     "languageId": "r"
    }
   },
   "outputs": [],
   "source": [
    "### TO BE COMPLETED ### \n",
    "# Descriptive statistics of quantitative data\n"
   ]
  },
  {
   "cell_type": "code",
   "execution_count": null,
   "id": "dd56c82d",
   "metadata": {
    "vscode": {
     "languageId": "r"
    }
   },
   "outputs": [],
   "source": [
    "# solutions/data/quanti.r"
   ]
  },
  {
   "cell_type": "code",
   "execution_count": null,
   "id": "4a37a27b-882a-4069-9144-7cf28efd67c5",
   "metadata": {
    "vscode": {
     "languageId": "r"
    }
   },
   "outputs": [],
   "source": [
    "### TO BE COMPLETED ### \n",
    "# Descriptive statistics of qualitative data\n"
   ]
  },
  {
   "cell_type": "code",
   "execution_count": null,
   "id": "5d6b3e81-83ec-4115-b58d-8e2c0acb1496",
   "metadata": {
    "vscode": {
     "languageId": "r"
    }
   },
   "outputs": [],
   "source": [
    "# solutions/data/quali.r"
   ]
  },
  {
   "cell_type": "code",
   "execution_count": null,
   "id": "6204b21d-41b3-4102-937e-d95ddeccc388",
   "metadata": {
    "vscode": {
     "languageId": "r"
    }
   },
   "outputs": [],
   "source": [
    "### TO BE COMPLETED ### \n",
    "# Correlation study\n"
   ]
  },
  {
   "cell_type": "code",
   "execution_count": null,
   "id": "9991a0a1",
   "metadata": {
    "vscode": {
     "languageId": "r"
    }
   },
   "outputs": [],
   "source": [
    "# solutions/data/correlation.r"
   ]
  },
  {
   "cell_type": "markdown",
   "id": "62650986-353e-4501-89fa-300eb3295570",
   "metadata": {},
   "source": [
    "### Principal Component Analysis"
   ]
  },
  {
   "cell_type": "code",
   "execution_count": null,
   "id": "18756ee8-db94-4d0a-875f-f21b3a8097ac",
   "metadata": {},
   "outputs": [],
   "source": [
    "library(FactoMineR)\n",
    "library(factoextra)"
   ]
  },
  {
   "cell_type": "code",
   "execution_count": null,
   "id": "b8be8220-1ef3-4339-ab3f-84a556135c4b",
   "metadata": {
    "vscode": {
     "languageId": "r"
    }
   },
   "outputs": [],
   "source": [
    "library(ggpubr)  #to get the ggarrange function"
   ]
  },
  {
   "cell_type": "markdown",
   "id": "1170a24c",
   "metadata": {},
   "source": [
    "##### <span style=\"color:purple\">**Todo:** PCA of wine dataset: </span>\n",
    "\n",
    "- What impact can the above analyses have on the PCA result?\n",
    "- Perform PCA of the _wine_ data (Quantitative variables should be specified as _supplementary_ variables) and make visualization of wines (ind.) on the first factorial plan (use _habillage_ parameter to show groups according to qualitative variables). \n",
    "- How many clusters groups of wines can be suggested?"
   ]
  },
  {
   "cell_type": "code",
   "execution_count": null,
   "id": "850d7f46",
   "metadata": {
    "vscode": {
     "languageId": "r"
    }
   },
   "outputs": [],
   "source": [
    "### TO BE COMPLETED ### \n",
    "# PCA of wine data -- Variables\n",
    "\n",
    "wine2 = wine\n",
    "wine2[,-c(1,2)] = scale(...)"
   ]
  },
  {
   "cell_type": "code",
   "execution_count": null,
   "id": "cfc8cea2",
   "metadata": {
    "vscode": {
     "languageId": "r"
    }
   },
   "outputs": [],
   "source": [
    "# solutions/data/pca_var.r"
   ]
  },
  {
   "cell_type": "code",
   "execution_count": null,
   "id": "a37f8efd-230f-4fd5-a0c9-0cad248e2a19",
   "metadata": {
    "vscode": {
     "languageId": "r"
    }
   },
   "outputs": [],
   "source": [
    "### TO BE COMPLETED ### \n",
    "# PCA of wine data -- Individuals\n"
   ]
  },
  {
   "cell_type": "code",
   "execution_count": null,
   "id": "838f0011",
   "metadata": {
    "vscode": {
     "languageId": "r"
    }
   },
   "outputs": [],
   "source": [
    "# solutions/data/pca_ind.r"
   ]
  },
  {
   "cell_type": "markdown",
   "id": "d5512c58",
   "metadata": {},
   "source": [
    "## Clustering with $k$-means\n",
    "\n",
    "In this part, we will perform the $k$-means clustering of wines by using only quantitative variable. Qualitative variable will be used to explains obtained clusters."
   ]
  },
  {
   "cell_type": "code",
   "execution_count": null,
   "id": "36704bad-5f52-4d6b-9589-45794eee1a0c",
   "metadata": {},
   "outputs": [],
   "source": [
    "library(cluster)"
   ]
  },
  {
   "cell_type": "markdown",
   "id": "869bbc8f",
   "metadata": {},
   "source": [
    "##### <span style=\"color:purple\">**Todo:** Clustering with $k=3$: </span>\n",
    "\n",
    "- By using the [`kmeans`](https://www.rdocumentation.org/packages/stats/versions/3.6.2/topics/kmeans) function, perform the clustering the wines. Numeric variables should be standardized before.\n",
    "- Use the [`fviz_cluster`](https://search.r-project.org/CRAN/refmans/factoextra/html/fviz_cluster.html) function to visualize cluster on the first factorial plan of the PCA.\n",
    "- Analyze the links between clusters and qualitative variables."
   ]
  },
  {
   "cell_type": "code",
   "execution_count": null,
   "id": "d9e27606",
   "metadata": {
    "vscode": {
     "languageId": "r"
    }
   },
   "outputs": [],
   "source": [
    "### TO BE COMPLETED ### \n",
    "# k-means, with k=3\n",
    "\n",
    "reskmeans = kmeans(...)"
   ]
  },
  {
   "cell_type": "code",
   "execution_count": null,
   "id": "dd2d3f12",
   "metadata": {
    "vscode": {
     "languageId": "r"
    }
   },
   "outputs": [],
   "source": [
    "# solutions/kmeans/kmeans.r"
   ]
  },
  {
   "cell_type": "code",
   "execution_count": null,
   "id": "6713eba0-b01f-4b70-a82e-d6d3acbd7312",
   "metadata": {
    "vscode": {
     "languageId": "r"
    }
   },
   "outputs": [],
   "source": [
    "### TO BE COMPLETED ### \n",
    "# Clusters vs Type of wine\n"
   ]
  },
  {
   "cell_type": "code",
   "execution_count": null,
   "id": "b0ba02c5",
   "metadata": {
    "vscode": {
     "languageId": "r"
    }
   },
   "outputs": [],
   "source": [
    "# solutions/kmeans/clust_vs_type.r"
   ]
  },
  {
   "cell_type": "code",
   "execution_count": null,
   "id": "149be167-a75a-47d1-b6fa-5fc4bc23f6ba",
   "metadata": {
    "vscode": {
     "languageId": "r"
    }
   },
   "outputs": [],
   "source": [
    "### TO BE COMPLETED ### \n",
    "# Clusters vs Quality of the wine\n"
   ]
  },
  {
   "cell_type": "code",
   "execution_count": null,
   "id": "b7bdfa95",
   "metadata": {
    "vscode": {
     "languageId": "r"
    }
   },
   "outputs": [],
   "source": [
    "# solutions/kmeans/clust_vs_quality.r"
   ]
  },
  {
   "cell_type": "markdown",
   "id": "4e16c0de",
   "metadata": {},
   "source": [
    "##### <span style=\"color:purple\">**Todo:** Determine the best value of $k$: </span>\n",
    "\n",
    "- using the elbow method\n",
    "- using the silhouette score\n",
    "\n",
    "**Note**: _One can use the [`fviz_nbclust`](https://search.r-project.org/CRAN/refmans/factoextra/html/fviz_nbclust.html) and [`fviz_silhouette`](https://search.r-project.org/CRAN/refmans/factoextra/html/fviz_silhouette.html) functions of the `factoextra` package_."
   ]
  },
  {
   "cell_type": "code",
   "execution_count": null,
   "id": "866a7c4f-bc64-436b-9bd2-7bd684cd53fe",
   "metadata": {
    "vscode": {
     "languageId": "r"
    }
   },
   "outputs": [],
   "source": [
    "### TO BE COMPLETED ### \n",
    "# Elbow method used with total within sum of square as metric\n",
    "\n",
    "fviz_nbclust(...)"
   ]
  },
  {
   "cell_type": "code",
   "execution_count": null,
   "id": "f5d9553b",
   "metadata": {
    "vscode": {
     "languageId": "r"
    }
   },
   "outputs": [],
   "source": [
    "# solutions/kmeans/elbow_wss.r"
   ]
  },
  {
   "cell_type": "code",
   "execution_count": null,
   "id": "55ef1828-02c6-47e8-b86d-e50e070d3320",
   "metadata": {
    "vscode": {
     "languageId": "r"
    }
   },
   "outputs": [],
   "source": [
    "### TO BE COMPLETED ### \n",
    "# Elbow method used with silhouette score as metric\n",
    "\n",
    "fviz_nbclust(...)"
   ]
  },
  {
   "cell_type": "code",
   "execution_count": null,
   "id": "64b85b24",
   "metadata": {
    "vscode": {
     "languageId": "r"
    }
   },
   "outputs": [],
   "source": [
    "# solutions/kmeans/elbow_silhouette.r"
   ]
  },
  {
   "cell_type": "code",
   "execution_count": null,
   "id": "c5275dcc-ed84-46b7-b54c-89153b5b4c44",
   "metadata": {},
   "outputs": [],
   "source": [
    "### TO BE COMPLETED ### \n",
    "# Silhouette plots, according to the number of clusters\n",
    "\n",
    "fviz_silhouette(...)"
   ]
  },
  {
   "cell_type": "code",
   "execution_count": null,
   "id": "62504b41-d72e-4515-82fd-c24c7383c321",
   "metadata": {},
   "outputs": [],
   "source": [
    "# solutions/kmeans/plot_silhouette.r"
   ]
  },
  {
   "cell_type": "markdown",
   "id": "892631a2",
   "metadata": {},
   "source": [
    "## Clustering with CAH\n",
    "\n",
    "In this section, we will perform the CAH to make the same analysis as in th preview section."
   ]
  },
  {
   "cell_type": "markdown",
   "id": "64309aa1",
   "metadata": {},
   "source": [
    "##### <span style=\"color:purple\">**Todo**: Use the [`hclust`](https://www.rdocumentation.org/packages/stats/versions/3.6.2/topics/hclust) function to perform a hierarchical classification of the wine data</span>\n",
    "\n",
    "- Test the different type of linkage : _single_, _complete_ and _average_,\n",
    "- Graphically, compare the associated dendrograms (_cf._ [`fviz_dend`](https://search.r-project.org/CRAN/refmans/factoextra/html/fviz_dend.html)), and comment on the results."
   ]
  },
  {
   "cell_type": "code",
   "execution_count": null,
   "id": "25c0663b",
   "metadata": {
    "vscode": {
     "languageId": "r"
    }
   },
   "outputs": [],
   "source": [
    "### TO BE COMPLETED ### \n",
    "\n",
    "# Clustering\n",
    "hclustsingle = hclust(...)\n",
    "hclustcomplete = hclust(...)\n",
    "hclustaverage = hclust(...)\n",
    "\n",
    "# Dendograms visualization\n",
    "fviz_dend(...)"
   ]
  },
  {
   "cell_type": "code",
   "execution_count": null,
   "id": "d746a744",
   "metadata": {
    "vscode": {
     "languageId": "r"
    }
   },
   "outputs": [],
   "source": [
    "# solutions/cah/cah.r"
   ]
  },
  {
   "cell_type": "markdown",
   "id": "a429bb42",
   "metadata": {},
   "source": [
    "##### <span style=\"color:purple\">**Todo:** Find the appropriate number of clusters for the _complete_ linkage ($\\texttt{hclustcomplete}$) by using the both methods (_wss_ and _silhouette_)</span>"
   ]
  },
  {
   "cell_type": "code",
   "execution_count": null,
   "id": "0efda783-338b-49a8-9ed9-c91fd712cb04",
   "metadata": {
    "vscode": {
     "languageId": "r"
    }
   },
   "outputs": [],
   "source": [
    "### TO BE COMPLETED ### \n"
   ]
  },
  {
   "cell_type": "code",
   "execution_count": null,
   "id": "507eb32f",
   "metadata": {
    "vscode": {
     "languageId": "r"
    }
   },
   "outputs": [],
   "source": [
    "# solutions/cah/cah_nb.r"
   ]
  },
  {
   "cell_type": "markdown",
   "id": "d5650d0e",
   "metadata": {},
   "source": [
    "##### <span style=\"color:purple\">**Todo:** Get a 3 classes cluster of wines, for the the _complete_ linkage ($\\texttt{hclustcomplete}$).</span>\n",
    "- You may use the [`cutetree`](https://stat.ethz.ch/R-manual/R-devel/library/stats/html/cutree.html) function,\n",
    "- View the dendrogram associated with this cut (_cf._ [`fviz_dend`](https://search.r-project.org/CRAN/refmans/factoextra/html/fviz_dend.html)),\n",
    "- Explain clusters with qualitative variables."
   ]
  },
  {
   "cell_type": "code",
   "execution_count": null,
   "id": "b7796dc1",
   "metadata": {
    "vscode": {
     "languageId": "r"
    }
   },
   "outputs": [],
   "source": [
    "### TO BE COMPLETED ### \n",
    "\n",
    "reshclust = cutree(...)"
   ]
  },
  {
   "cell_type": "code",
   "execution_count": null,
   "id": "ce369893",
   "metadata": {
    "vscode": {
     "languageId": "r"
    }
   },
   "outputs": [],
   "source": [
    "# solutions/cah/cah_cut.r"
   ]
  },
  {
   "cell_type": "code",
   "execution_count": null,
   "id": "d119b962",
   "metadata": {
    "vscode": {
     "languageId": "r"
    }
   },
   "outputs": [],
   "source": [
    "### TO BE COMPLETED ### \n",
    "# Clusters vs Type of wine\n"
   ]
  },
  {
   "cell_type": "code",
   "execution_count": null,
   "id": "24e9eab0",
   "metadata": {
    "vscode": {
     "languageId": "r"
    }
   },
   "outputs": [],
   "source": [
    "# solutions/cah/clust_vs_type.r"
   ]
  },
  {
   "cell_type": "code",
   "execution_count": null,
   "id": "3e729b52",
   "metadata": {
    "vscode": {
     "languageId": "r"
    }
   },
   "outputs": [],
   "source": [
    "### TO BE COMPLETED ### \n",
    "# Clusters vs Quality of wine\n"
   ]
  },
  {
   "cell_type": "code",
   "execution_count": null,
   "id": "01df0651",
   "metadata": {
    "vscode": {
     "languageId": "r"
    }
   },
   "outputs": [],
   "source": [
    "# solutions/cah/clust_vs_quality.r"
   ]
  },
  {
   "cell_type": "markdown",
   "id": "7e2c4e09",
   "metadata": {},
   "source": [
    "## Clustering with Gaussian Mixture\n",
    "\n",
    "In this part, we will do the same analysis as above by with the GMM method."
   ]
  },
  {
   "cell_type": "code",
   "execution_count": null,
   "id": "0822460b-c2e8-4be5-b29c-8558f12fdb12",
   "metadata": {},
   "outputs": [],
   "source": [
    "library(mclust)"
   ]
  },
  {
   "cell_type": "markdown",
   "id": "7ee39622",
   "metadata": {},
   "source": [
    "##### <span style=\"color:purple\">**Todo:** Perform GMM clustering. </span>\n",
    "- You may use the [`Mclust`](https://www.rdocumentation.org/packages/mclust/versions/5.4.6/topics/Mclust) function of the `mclust` package,\n",
    "- Select the best model for the _BIC_ criteria (_cf._ [`fviz_mclust`](https://search.r-project.org/CRAN/refmans/factoextra/html/fviz_mclust.html)),\n",
    "- Visualize the obtained clusters."
   ]
  },
  {
   "cell_type": "code",
   "execution_count": null,
   "id": "0d2f2f76-33e3-4599-88dd-34bd7ac77c09",
   "metadata": {
    "vscode": {
     "languageId": "r"
    }
   },
   "outputs": [],
   "source": [
    "wine3 = wine2[, -c(1, 2)]"
   ]
  },
  {
   "cell_type": "code",
   "execution_count": null,
   "id": "24e153f4",
   "metadata": {
    "vscode": {
     "languageId": "r"
    }
   },
   "outputs": [],
   "source": [
    "### TO BE COMPLETED ### \n",
    "# GMM with BIC\n",
    "\n",
    "resBICall = Mclust(...)\n",
    "summary(resBICall)\n",
    "\n",
    "fviz_mclust(...)"
   ]
  },
  {
   "cell_type": "code",
   "execution_count": null,
   "id": "aa8e2481",
   "metadata": {
    "vscode": {
     "languageId": "r"
    }
   },
   "outputs": [],
   "source": [
    "# solutions/gmm/gmm_bic.r"
   ]
  },
  {
   "cell_type": "code",
   "execution_count": null,
   "id": "5003eb86-bdd6-40fb-ab7b-35cd7c43c8ea",
   "metadata": {
    "vscode": {
     "languageId": "r"
    }
   },
   "outputs": [],
   "source": [
    "### TO BE COMPLETED ### \n",
    "# Best model with BIC\n"
   ]
  },
  {
   "cell_type": "code",
   "execution_count": null,
   "id": "3c4fb173",
   "metadata": {
    "vscode": {
     "languageId": "r"
    }
   },
   "outputs": [],
   "source": [
    "# solutions/gmm/gmm_best_bic.r"
   ]
  },
  {
   "cell_type": "markdown",
   "id": "b2cc0348",
   "metadata": {},
   "source": [
    "##### <span style=\"color:purple\">**Todo:** Redo the same analysis with the _ICL_ criteria. </span>\n",
    "- You may use the [`Mclust`](https://www.rdocumentation.org/packages/mclust/versions/5.4.6/topics/Mclust) function of the `mclust` package,\n",
    "- Select the best model for the _ICL_ criteria (_cf._ [`fviz_mclust`](https://search.r-project.org/CRAN/refmans/factoextra/html/fviz_mclust.html)),\n",
    "- Visualize the obtained clusters."
   ]
  },
  {
   "cell_type": "code",
   "execution_count": null,
   "id": "43937cd4",
   "metadata": {
    "vscode": {
     "languageId": "r"
    }
   },
   "outputs": [],
   "source": [
    "### TO BE COMPLETED ### \n",
    "# GMM with ICL\n",
    "\n",
    "resICLall = ...\n",
    "summary(resICLall)"
   ]
  },
  {
   "cell_type": "code",
   "execution_count": null,
   "id": "fc5de026",
   "metadata": {
    "vscode": {
     "languageId": "r"
    }
   },
   "outputs": [],
   "source": [
    "# solutions/gmm/gmm_icl.r"
   ]
  },
  {
   "cell_type": "code",
   "execution_count": null,
   "id": "a46e5157",
   "metadata": {
    "vscode": {
     "languageId": "r"
    }
   },
   "outputs": [],
   "source": [
    "### TO BE COMPLETED ### \n",
    "# Best model with ICL\n"
   ]
  },
  {
   "cell_type": "code",
   "execution_count": null,
   "id": "0030a286",
   "metadata": {
    "vscode": {
     "languageId": "r"
    }
   },
   "outputs": [],
   "source": [
    "# solutions/gmm/gmm_best_icl.r"
   ]
  },
  {
   "cell_type": "markdown",
   "id": "14956d81",
   "metadata": {},
   "source": [
    "##### <span style=\"color:purple\">**Question:** Which _GMM_ model to choose?</span>"
   ]
  },
  {
   "cell_type": "markdown",
   "id": "f72bc52b-9d36-4bd6-982d-8f9cdb72e60a",
   "metadata": {},
   "source": [
    "##### <span style=\"color:purple\">**Todo:** Analyze cluster with qualitative variables.</span>"
   ]
  },
  {
   "cell_type": "code",
   "execution_count": null,
   "id": "c2a4f9cc",
   "metadata": {
    "vscode": {
     "languageId": "r"
    }
   },
   "outputs": [],
   "source": [
    "### TO BE COMPLETED ### \n"
   ]
  },
  {
   "cell_type": "code",
   "execution_count": null,
   "id": "05a98120",
   "metadata": {
    "vscode": {
     "languageId": "r"
    }
   },
   "outputs": [],
   "source": [
    "# solutions/gmm/quali.r"
   ]
  },
  {
   "cell_type": "markdown",
   "id": "4eb6868f",
   "metadata": {},
   "source": [
    "## Comparison of clustering algorithms\n",
    "\n",
    "The purpose of this last section is to compare the different results we obtained previously."
   ]
  },
  {
   "cell_type": "markdown",
   "id": "c2fcf65d",
   "metadata": {},
   "source": [
    "### $k$-means _vs._ CAH"
   ]
  },
  {
   "cell_type": "code",
   "execution_count": null,
   "id": "817a041d-9e06-4a8f-b66e-dfab2a78a896",
   "metadata": {
    "vscode": {
     "languageId": "r"
    }
   },
   "outputs": [],
   "source": [
    "library(cvms)\n",
    "library(ggimage)\n",
    "library(rsvg)"
   ]
  },
  {
   "cell_type": "code",
   "execution_count": null,
   "id": "cdd61db1",
   "metadata": {
    "vscode": {
     "languageId": "r"
    }
   },
   "outputs": [],
   "source": [
    "# We remain that best model for these algorithms are:\n",
    "\n",
    "reskmeans = kmeans(wine2[,-c(1,2)], centers=3)\n",
    "ClassK3 = cutree(hclustcomplete, 3)"
   ]
  },
  {
   "cell_type": "markdown",
   "id": "2bd4d1ad",
   "metadata": {},
   "source": [
    "##### <span style=\"color:purple\">**Todo:** Visualize clusters of these models on the principal component plane</span>"
   ]
  },
  {
   "cell_type": "code",
   "execution_count": null,
   "id": "a95f6035",
   "metadata": {
    "vscode": {
     "languageId": "r"
    }
   },
   "outputs": [],
   "source": [
    "### TO BE COMPLETED ### \n"
   ]
  },
  {
   "cell_type": "code",
   "execution_count": null,
   "id": "1fc1093b",
   "metadata": {
    "vscode": {
     "languageId": "r"
    }
   },
   "outputs": [],
   "source": [
    "# solutions/compare/cah_vs_kmeans.r"
   ]
  },
  {
   "cell_type": "markdown",
   "id": "0aed1562",
   "metadata": {},
   "source": [
    "##### <span style=\"color:purple\">**Todo:** Analyze the result obtained with the `table` function</span>"
   ]
  },
  {
   "cell_type": "code",
   "execution_count": null,
   "id": "f8e37c60",
   "metadata": {
    "vscode": {
     "languageId": "r"
    }
   },
   "outputs": [],
   "source": [
    "### TO BE COMPLETED ### \n"
   ]
  },
  {
   "cell_type": "code",
   "execution_count": null,
   "id": "79808cbb",
   "metadata": {
    "vscode": {
     "languageId": "r"
    }
   },
   "outputs": [],
   "source": [
    "# solutions/compare/cah_vs_kmeans_conf.r"
   ]
  },
  {
   "cell_type": "markdown",
   "id": "2a192d89",
   "metadata": {},
   "source": [
    "### $k$-means _vs._ GMM"
   ]
  },
  {
   "cell_type": "markdown",
   "id": "e389147c",
   "metadata": {},
   "source": [
    "##### <span style=\"color:purple\">**Todo:** Do the same analysis as for $k$-means _vs._ GMM</span>"
   ]
  },
  {
   "cell_type": "code",
   "execution_count": null,
   "id": "906e4072",
   "metadata": {
    "vscode": {
     "languageId": "r"
    }
   },
   "outputs": [],
   "source": [
    "### TO BE COMPLETED ### \n"
   ]
  },
  {
   "cell_type": "code",
   "execution_count": null,
   "id": "95b0a488",
   "metadata": {
    "vscode": {
     "languageId": "r"
    }
   },
   "outputs": [],
   "source": [
    "# solutions/compare/gmm_vs_kmeans.r"
   ]
  },
  {
   "cell_type": "markdown",
   "id": "b398e774",
   "metadata": {},
   "source": [
    "### CAH _vs._ GMM"
   ]
  },
  {
   "cell_type": "markdown",
   "id": "592c87d8",
   "metadata": {},
   "source": [
    "##### <span style=\"color:purple\">**Todo:** Do the same analysis as for CAH _vs._ GMM</span>"
   ]
  },
  {
   "cell_type": "code",
   "execution_count": null,
   "id": "725f95ec",
   "metadata": {
    "vscode": {
     "languageId": "r"
    }
   },
   "outputs": [],
   "source": [
    "### TO BE COMPLETED ### \n"
   ]
  },
  {
   "cell_type": "code",
   "execution_count": null,
   "id": "33a3d6ab",
   "metadata": {
    "vscode": {
     "languageId": "r"
    }
   },
   "outputs": [],
   "source": [
    "# source(\"solutions/compare/cah_vs_gmm.r\", echo=TRUE)"
   ]
  },
  {
   "cell_type": "code",
   "execution_count": null,
   "id": "c371ddbb-5cff-44a1-a1d4-cdd61d690dc2",
   "metadata": {},
   "outputs": [],
   "source": [
    "# source(\"solutions/compare/kmeans_vs_cah_vs_gmm.r\", echo=TRUE)"
   ]
  }
 ],
 "metadata": {
  "kernelspec": {
   "display_name": "R",
   "language": "R",
   "name": "ir"
  },
  "language_info": {
   "codemirror_mode": "r",
   "file_extension": ".r",
   "mimetype": "text/x-r-source",
   "name": "R",
   "pygments_lexer": "r",
   "version": "4.3.1"
  },
  "toc-autonumbering": false
 },
 "nbformat": 4,
 "nbformat_minor": 5
}
