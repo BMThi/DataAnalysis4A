{
 "cells": [
  {
   "cell_type": "markdown",
   "metadata": {},
   "source": [
    "<center>\n",
    "<a href=\"http://www.insa-toulouse.fr/\" ><img src=\"http://www.math.univ-toulouse.fr/~besse/Wikistat/Images/logo-insa.jpg\" style=\"float:left; max-width: 120px; display: inline\" alt=\"INSA\"/></a> \n",
    "\n",
    "<a href=\"http://wikistat.fr/\" ><img src=\"http://www.math.univ-toulouse.fr/~besse/Wikistat/Images/wikistat.jpg\" style=\"float:right; max-width: 250px; display: inline\"  alt=\"Wikistat\"/></a>\n",
    "</center>"
   ]
  },
  {
   "cell_type": "markdown",
   "metadata": {},
   "source": [
    "# [Scénarios d'Exploration Statistique](https://github.com/wikistat/Exploration)"
   ]
  },
  {
   "cell_type": "markdown",
   "metadata": {},
   "source": [
    "# Initiation à l'AFC avec <a href=\"https://cran.r-project.org/\"><img src=\"https://cran.r-project.org/Rlogo.svg\" style=\"max-width: 40px; display: inline\" alt=\"R\"/></a>\n",
    "# De la SVD à l'AFC - exemple élémentaire\n",
    "#### Résumé \n",
    "Décomposition en valeurs singulières [SVD](http://wikistat.fr/pdf/st-m-explo-alglin.pdf) d'une matrice rectangulaire comme introduction à l'[Analyse Factorielle des Correspondances](http://wikistat.fr/pdf/st-m-explo-afc.pdf) (AFC); illustration sur des données élémentaires avec R puis avec le package [`FactoMineR`](http://factominer.free.fr/)."
   ]
  },
  {
   "cell_type": "markdown",
   "metadata": {},
   "source": [
    "#### Avertissement\n",
    "Les différents travaux et analyses proposés tout au long de ces documents sont largement explicités. Les commandes en R ou Python toutes fournies. L'important n'est pas de trouver la bonne syntaxe des commandes ni de finir au plus vite mais de réfléchir sur les méthodes, leurs conditions d'applications, les résultats obtenus. L'apprentissage de ces logiciels et de leur programmation est dispensés dans d'autres tutoriels.\n",
    "\n",
    "Répondre aux questions **Q** tout au long de la réalisation."
   ]
  },
  {
   "cell_type": "markdown",
   "metadata": {},
   "source": [
    "## 1 Données\n",
    "Les données sont une table de contingence croisant une variable de catégorie socioprofessionnelle avec un type d'hébergement en vacances mais sous une forme particulière car archivée en trois colonnes. La première contient l'effectif conjoint des modalités contenus dans les colonnes suivantes. La deuxième colonne est le code de catégorie socioprofessionnelle et la 3ème  le code correspondant à un type d'hébergement. La signification des modalités est la suivante : \n",
    "\n",
    "* CAMP : camping \n",
    "* HOTE : hotel \n",
    "* IRSP : invité en résidence principale\n",
    "* IRSS : invité en résidence secondaire\n",
    "* LOCA : location \n",
    "* RESS : résidence secondaire\n",
    "* AUTR : autres\n",
    "\n",
    "\n",
    "* cadm : cadre moyen\n",
    "* empl : employé\n",
    "* esag : exploitant ou salarié agricole\n",
    "* inac : retraité\n",
    "* lib : profession libérale\n",
    "* oups : ouvrier ou personnel de service\n",
    "* paic : patron de l'industrie ou du commerce\n",
    "\n",
    "### Lecture, description des données\n",
    "Les donnéees sont dans le fichier `vaccsp.dat`. Attention , les données ne sont pas sous une forme adaptée à la fonction `table`; il faut utiliser la fonction `xtab` pour définir la table de contingence associée."
   ]
  },
  {
   "cell_type": "code",
   "execution_count": 124,
   "metadata": {},
   "outputs": [
    {
     "data": {
      "text/plain": [
       "    effectif        CSP     heber  \n",
       " Min.   :  16.0   cadm:7   AUTR:7  \n",
       " 1st Qu.: 269.0   empl:7   CAMP:7  \n",
       " Median : 462.0   esag:7   HOTE:7  \n",
       " Mean   : 622.1   inac:7   IRPP:7  \n",
       " 3rd Qu.: 727.0   libe:7   IRSC:7  \n",
       " Max.   :3647.0   oups:7   LOCA:7  \n",
       "                  paic:7   RESS:7  "
      ]
     },
     "metadata": {},
     "output_type": "display_data"
    }
   ],
   "source": [
    "vaccsp <- read.table(\"Data/vaccsp.dat\", col.names = c(\"effectif\", \"CSP\", \"heber\"))\n",
    "summary(vaccsp)"
   ]
  },
  {
   "cell_type": "code",
   "execution_count": 125,
   "metadata": {},
   "outputs": [
    {
     "data": {
      "text/plain": [
       "      heber\n",
       "CSP    AUTR CAMP HOTE IRPP IRSC LOCA RESS\n",
       "  cadm  469 1320  738 1732  519  988  488\n",
       "  empl  301  499  317  825  199  480  138\n",
       "  esag   36  176   92  162   16   70   22\n",
       "  inac  269  361  923 1297  285  462  417\n",
       "  libe  414  600  677 1059  536  727  532\n",
       "  oups  671 3196  838 3647  325 1289  514\n",
       "  paic   85  331  387  446  123  344  143"
      ]
     },
     "metadata": {},
     "output_type": "display_data"
    }
   ],
   "source": [
    "# construire la table de contingence\n",
    "T <- xtabs(effectif ~ CSP + heber, vaccsp)\n",
    "T"
   ]
  },
  {
   "cell_type": "code",
   "execution_count": 126,
   "metadata": {},
   "outputs": [
    {
     "data": {
      "image/png": "[encoded data removed]",
      "text/plain": [
       "Plot with title “T”"
      ]
     },
     "metadata": {
      "image/png": {
       "height": 420,
       "width": 420
      }
     },
     "output_type": "display_data"
    }
   ],
   "source": [
    "# graphe associé\n",
    "mosaicplot(T)"
   ]
  },
  {
   "cell_type": "markdown",
   "metadata": {},
   "source": [
    "**Q** Quel est ce graphique ? Est-il facile à interpréter ?"
   ]
  },
  {
   "cell_type": "code",
   "execution_count": 127,
   "metadata": {},
   "outputs": [
    {
     "data": {
      "text/plain": [
       "\n",
       "\tPearson's Chi-squared test\n",
       "\n",
       "data:  T\n",
       "X-squared = 2628.7, df = 36, p-value < 2.2e-16\n"
      ]
     },
     "metadata": {},
     "output_type": "display_data"
    }
   ],
   "source": [
    "# test du chi2\n",
    "chisq.test(T)"
   ]
  },
  {
   "cell_type": "markdown",
   "metadata": {},
   "source": [
    "**Q** Conclusion sur la description de ces variables, de leur liaison."
   ]
  },
  {
   "cell_type": "markdown",
   "metadata": {},
   "source": [
    "## 2 AFC pas à pas\n",
    "### 2.1 Calcul des marges, métriques et profils."
   ]
  },
  {
   "cell_type": "code",
   "execution_count": 128,
   "metadata": {},
   "outputs": [],
   "source": [
    "# Fréquences marginales ou barycentres\n",
    "n <- sum(T)\n",
    "gc <- colSums(T) / n\n",
    "gr <- rowSums(T) / n"
   ]
  },
  {
   "cell_type": "code",
   "execution_count": 129,
   "metadata": {},
   "outputs": [],
   "source": [
    "# Métriques\n",
    "Dr <- diag(gr)\n",
    "Dc <- diag(gc)\n",
    "Dr1 <- diag(1 / gr)\n",
    "Dc1 <- diag(1 / gc)"
   ]
  },
  {
   "cell_type": "code",
   "execution_count": 130,
   "metadata": {},
   "outputs": [
    {
     "data": {
      "text/html": [
       "<table>\n",
       "<caption>A matrix: 7 × 7 of type dbl</caption>\n",
       "<thead>\n",
       "\t<tr><th></th><th scope=col>cadm</th><th scope=col>empl</th><th scope=col>esag</th><th scope=col>inac</th><th scope=col>libe</th><th scope=col>oups</th><th scope=col>paic</th></tr>\n",
       "</thead>\n",
       "<tbody>\n",
       "\t<tr><th scope=row>AUTR</th><td>0.07499201</td><td>0.10909750</td><td>0.06271777</td><td>0.06701545</td><td>0.09108911</td><td>0.06402672</td><td>0.04572351</td></tr>\n",
       "\t<tr><th scope=row>CAMP</th><td>0.21106492</td><td>0.18086263</td><td>0.30662021</td><td>0.08993523</td><td>0.13201320</td><td>0.30496183</td><td>0.17805272</td></tr>\n",
       "\t<tr><th scope=row>HOTE</th><td>0.11800448</td><td>0.11489670</td><td>0.16027875</td><td>0.22994519</td><td>0.14895490</td><td>0.07996183</td><td>0.20817644</td></tr>\n",
       "\t<tr><th scope=row>IRPP</th><td>0.27694276</td><td>0.29902138</td><td>0.28222997</td><td>0.32311908</td><td>0.23300330</td><td>0.34799618</td><td>0.23991393</td></tr>\n",
       "\t<tr><th scope=row>IRSC</th><td>0.08298689</td><td>0.07212758</td><td>0.02787456</td><td>0.07100149</td><td>0.11793179</td><td>0.03101145</td><td>0.06616460</td></tr>\n",
       "\t<tr><th scope=row>LOCA</th><td>0.15797889</td><td>0.17397608</td><td>0.12195122</td><td>0.11509716</td><td>0.15995600</td><td>0.12299618</td><td>0.18504572</td></tr>\n",
       "\t<tr><th scope=row>RESS</th><td>0.07803006</td><td>0.05001812</td><td>0.03832753</td><td>0.10388640</td><td>0.11705171</td><td>0.04904580</td><td>0.07692308</td></tr>\n",
       "</tbody>\n",
       "</table>\n"
      ],
      "text/latex": [
       "A matrix: 7 × 7 of type dbl\n",
       "\\begin{tabular}{r|lllllll}\n",
       "  & cadm & empl & esag & inac & libe & oups & paic\\\\\n",
       "\\hline\n",
       "\tAUTR & 0.07499201 & 0.10909750 & 0.06271777 & 0.06701545 & 0.09108911 & 0.06402672 & 0.04572351\\\\\n",
       "\tCAMP & 0.21106492 & 0.18086263 & 0.30662021 & 0.08993523 & 0.13201320 & 0.30496183 & 0.17805272\\\\\n",
       "\tHOTE & 0.11800448 & 0.11489670 & 0.16027875 & 0.22994519 & 0.14895490 & 0.07996183 & 0.20817644\\\\\n",
       "\tIRPP & 0.27694276 & 0.29902138 & 0.28222997 & 0.32311908 & 0.23300330 & 0.34799618 & 0.23991393\\\\\n",
       "\tIRSC & 0.08298689 & 0.07212758 & 0.02787456 & 0.07100149 & 0.11793179 & 0.03101145 & 0.06616460\\\\\n",
       "\tLOCA & 0.15797889 & 0.17397608 & 0.12195122 & 0.11509716 & 0.15995600 & 0.12299618 & 0.18504572\\\\\n",
       "\tRESS & 0.07803006 & 0.05001812 & 0.03832753 & 0.10388640 & 0.11705171 & 0.04904580 & 0.07692308\\\\\n",
       "\\end{tabular}\n"
      ],
      "text/markdown": [
       "\n",
       "A matrix: 7 × 7 of type dbl\n",
       "\n",
       "| <!--/--> | cadm | empl | esag | inac | libe | oups | paic |\n",
       "|---|---|---|---|---|---|---|---|\n",
       "| AUTR | 0.07499201 | 0.10909750 | 0.06271777 | 0.06701545 | 0.09108911 | 0.06402672 | 0.04572351 |\n",
       "| CAMP | 0.21106492 | 0.18086263 | 0.30662021 | 0.08993523 | 0.13201320 | 0.30496183 | 0.17805272 |\n",
       "| HOTE | 0.11800448 | 0.11489670 | 0.16027875 | 0.22994519 | 0.14895490 | 0.07996183 | 0.20817644 |\n",
       "| IRPP | 0.27694276 | 0.29902138 | 0.28222997 | 0.32311908 | 0.23300330 | 0.34799618 | 0.23991393 |\n",
       "| IRSC | 0.08298689 | 0.07212758 | 0.02787456 | 0.07100149 | 0.11793179 | 0.03101145 | 0.06616460 |\n",
       "| LOCA | 0.15797889 | 0.17397608 | 0.12195122 | 0.11509716 | 0.15995600 | 0.12299618 | 0.18504572 |\n",
       "| RESS | 0.07803006 | 0.05001812 | 0.03832753 | 0.10388640 | 0.11705171 | 0.04904580 | 0.07692308 |\n",
       "\n"
      ],
      "text/plain": [
       "      CSP\n",
       "heber  cadm       empl       esag       inac       libe       oups      \n",
       "  AUTR 0.07499201 0.10909750 0.06271777 0.06701545 0.09108911 0.06402672\n",
       "  CAMP 0.21106492 0.18086263 0.30662021 0.08993523 0.13201320 0.30496183\n",
       "  HOTE 0.11800448 0.11489670 0.16027875 0.22994519 0.14895490 0.07996183\n",
       "  IRPP 0.27694276 0.29902138 0.28222997 0.32311908 0.23300330 0.34799618\n",
       "  IRSC 0.08298689 0.07212758 0.02787456 0.07100149 0.11793179 0.03101145\n",
       "  LOCA 0.15797889 0.17397608 0.12195122 0.11509716 0.15995600 0.12299618\n",
       "  RESS 0.07803006 0.05001812 0.03832753 0.10388640 0.11705171 0.04904580\n",
       "      CSP\n",
       "heber  paic      \n",
       "  AUTR 0.04572351\n",
       "  CAMP 0.17805272\n",
       "  HOTE 0.20817644\n",
       "  IRPP 0.23991393\n",
       "  IRSC 0.06616460\n",
       "  LOCA 0.18504572\n",
       "  RESS 0.07692308"
      ]
     },
     "metadata": {},
     "output_type": "display_data"
    },
    {
     "data": {
      "text/html": [
       "<table>\n",
       "<caption>A matrix: 7 × 7 of type dbl</caption>\n",
       "<thead>\n",
       "\t<tr><th></th><th scope=col>AUTR</th><th scope=col>CAMP</th><th scope=col>HOTE</th><th scope=col>IRPP</th><th scope=col>IRSC</th><th scope=col>LOCA</th><th scope=col>RESS</th></tr>\n",
       "</thead>\n",
       "<tbody>\n",
       "\t<tr><th scope=row>cadm</th><td>0.20890869</td><td>0.20360944</td><td>0.18580060</td><td>0.18891798</td><td>0.259111333</td><td>0.22660550</td><td>0.216503993</td></tr>\n",
       "\t<tr><th scope=row>empl</th><td>0.13407572</td><td>0.07697054</td><td>0.07980866</td><td>0.08998691</td><td>0.099350974</td><td>0.11009174</td><td>0.061224490</td></tr>\n",
       "\t<tr><th scope=row>esag</th><td>0.01603563</td><td>0.02714793</td><td>0.02316213</td><td>0.01767016</td><td>0.007988018</td><td>0.01605505</td><td>0.009760426</td></tr>\n",
       "\t<tr><th scope=row>inac</th><td>0.11982183</td><td>0.05568410</td><td>0.23237664</td><td>0.14147033</td><td>0.142286570</td><td>0.10596330</td><td>0.185004437</td></tr>\n",
       "\t<tr><th scope=row>libe</th><td>0.18440980</td><td>0.09254975</td><td>0.17044310</td><td>0.11551047</td><td>0.267598602</td><td>0.16674312</td><td>0.236024845</td></tr>\n",
       "\t<tr><th scope=row>oups</th><td>0.29888641</td><td>0.49298164</td><td>0.21097684</td><td>0.39779668</td><td>0.162256615</td><td>0.29564220</td><td>0.228039042</td></tr>\n",
       "\t<tr><th scope=row>paic</th><td>0.03786192</td><td>0.05105661</td><td>0.09743202</td><td>0.04864747</td><td>0.061407888</td><td>0.07889908</td><td>0.063442768</td></tr>\n",
       "</tbody>\n",
       "</table>\n"
      ],
      "text/latex": [
       "A matrix: 7 × 7 of type dbl\n",
       "\\begin{tabular}{r|lllllll}\n",
       "  & AUTR & CAMP & HOTE & IRPP & IRSC & LOCA & RESS\\\\\n",
       "\\hline\n",
       "\tcadm & 0.20890869 & 0.20360944 & 0.18580060 & 0.18891798 & 0.259111333 & 0.22660550 & 0.216503993\\\\\n",
       "\templ & 0.13407572 & 0.07697054 & 0.07980866 & 0.08998691 & 0.099350974 & 0.11009174 & 0.061224490\\\\\n",
       "\tesag & 0.01603563 & 0.02714793 & 0.02316213 & 0.01767016 & 0.007988018 & 0.01605505 & 0.009760426\\\\\n",
       "\tinac & 0.11982183 & 0.05568410 & 0.23237664 & 0.14147033 & 0.142286570 & 0.10596330 & 0.185004437\\\\\n",
       "\tlibe & 0.18440980 & 0.09254975 & 0.17044310 & 0.11551047 & 0.267598602 & 0.16674312 & 0.236024845\\\\\n",
       "\toups & 0.29888641 & 0.49298164 & 0.21097684 & 0.39779668 & 0.162256615 & 0.29564220 & 0.228039042\\\\\n",
       "\tpaic & 0.03786192 & 0.05105661 & 0.09743202 & 0.04864747 & 0.061407888 & 0.07889908 & 0.063442768\\\\\n",
       "\\end{tabular}\n"
      ],
      "text/markdown": [
       "\n",
       "A matrix: 7 × 7 of type dbl\n",
       "\n",
       "| <!--/--> | AUTR | CAMP | HOTE | IRPP | IRSC | LOCA | RESS |\n",
       "|---|---|---|---|---|---|---|---|\n",
       "| cadm | 0.20890869 | 0.20360944 | 0.18580060 | 0.18891798 | 0.259111333 | 0.22660550 | 0.216503993 |\n",
       "| empl | 0.13407572 | 0.07697054 | 0.07980866 | 0.08998691 | 0.099350974 | 0.11009174 | 0.061224490 |\n",
       "| esag | 0.01603563 | 0.02714793 | 0.02316213 | 0.01767016 | 0.007988018 | 0.01605505 | 0.009760426 |\n",
       "| inac | 0.11982183 | 0.05568410 | 0.23237664 | 0.14147033 | 0.142286570 | 0.10596330 | 0.185004437 |\n",
       "| libe | 0.18440980 | 0.09254975 | 0.17044310 | 0.11551047 | 0.267598602 | 0.16674312 | 0.236024845 |\n",
       "| oups | 0.29888641 | 0.49298164 | 0.21097684 | 0.39779668 | 0.162256615 | 0.29564220 | 0.228039042 |\n",
       "| paic | 0.03786192 | 0.05105661 | 0.09743202 | 0.04864747 | 0.061407888 | 0.07889908 | 0.063442768 |\n",
       "\n"
      ],
      "text/plain": [
       "      heber\n",
       "CSP    AUTR       CAMP       HOTE       IRPP       IRSC        LOCA      \n",
       "  cadm 0.20890869 0.20360944 0.18580060 0.18891798 0.259111333 0.22660550\n",
       "  empl 0.13407572 0.07697054 0.07980866 0.08998691 0.099350974 0.11009174\n",
       "  esag 0.01603563 0.02714793 0.02316213 0.01767016 0.007988018 0.01605505\n",
       "  inac 0.11982183 0.05568410 0.23237664 0.14147033 0.142286570 0.10596330\n",
       "  libe 0.18440980 0.09254975 0.17044310 0.11551047 0.267598602 0.16674312\n",
       "  oups 0.29888641 0.49298164 0.21097684 0.39779668 0.162256615 0.29564220\n",
       "  paic 0.03786192 0.05105661 0.09743202 0.04864747 0.061407888 0.07889908\n",
       "      heber\n",
       "CSP    RESS       \n",
       "  cadm 0.216503993\n",
       "  empl 0.061224490\n",
       "  esag 0.009760426\n",
       "  inac 0.185004437\n",
       "  libe 0.236024845\n",
       "  oups 0.228039042\n",
       "  paic 0.063442768"
      ]
     },
     "metadata": {},
     "output_type": "display_data"
    }
   ],
   "source": [
    "# Profils lignes et colonnes\n",
    "A <- t(T) %*% Dr1 / n\n",
    "B <- T %*% Dc1 / n\n",
    "dimnames(A) <- dimnames(t(T))\n",
    "dimnames(B) <- dimnames(T)\n",
    "A\n",
    "B"
   ]
  },
  {
   "cell_type": "markdown",
   "metadata": {},
   "source": [
    "**Q** Commenter les résultats ci-dessous : à quelle classe de matrices appartiennent A, B, AB, BA ? Que dire de leurs valeurs propres ? Que dire de celles de AB (ou BA) ? "
   ]
  },
  {
   "cell_type": "code",
   "execution_count": 131,
   "metadata": {},
   "outputs": [
    {
     "data": {
      "text/html": [
       "<style>\n",
       ".dl-inline {width: auto; margin:0; padding: 0}\n",
       ".dl-inline>dt, .dl-inline>dd {float: none; width: auto; display: inline-block}\n",
       ".dl-inline>dt::after {content: \":\\0020\"; padding-right: .5ex}\n",
       ".dl-inline>dt:not(:first-of-type) {padding-left: .5ex}\n",
       "</style><dl class=dl-inline><dt>cadm</dt><dd>1</dd><dt>empl</dt><dd>1</dd><dt>esag</dt><dd>1</dd><dt>inac</dt><dd>1</dd><dt>libe</dt><dd>1</dd><dt>oups</dt><dd>1</dd><dt>paic</dt><dd>1</dd></dl>\n"
      ],
      "text/latex": [
       "\\begin{description*}\n",
       "\\item[cadm] 1\n",
       "\\item[empl] 1\n",
       "\\item[esag] 1\n",
       "\\item[inac] 1\n",
       "\\item[libe] 1\n",
       "\\item[oups] 1\n",
       "\\item[paic] 1\n",
       "\\end{description*}\n"
      ],
      "text/markdown": [
       "cadm\n",
       ":   1empl\n",
       ":   1esag\n",
       ":   1inac\n",
       ":   1libe\n",
       ":   1oups\n",
       ":   1paic\n",
       ":   1\n",
       "\n"
      ],
      "text/plain": [
       "cadm empl esag inac libe oups paic \n",
       "   1    1    1    1    1    1    1 "
      ]
     },
     "metadata": {},
     "output_type": "display_data"
    },
    {
     "data": {
      "text/html": [
       "<style>\n",
       ".dl-inline {width: auto; margin:0; padding: 0}\n",
       ".dl-inline>dt, .dl-inline>dd {float: none; width: auto; display: inline-block}\n",
       ".dl-inline>dt::after {content: \":\\0020\"; padding-right: .5ex}\n",
       ".dl-inline>dt:not(:first-of-type) {padding-left: .5ex}\n",
       "</style><dl class=dl-inline><dt>AUTR</dt><dd>1</dd><dt>CAMP</dt><dd>1</dd><dt>HOTE</dt><dd>1</dd><dt>IRPP</dt><dd>1</dd><dt>IRSC</dt><dd>1</dd><dt>LOCA</dt><dd>1</dd><dt>RESS</dt><dd>1</dd></dl>\n"
      ],
      "text/latex": [
       "\\begin{description*}\n",
       "\\item[AUTR] 1\n",
       "\\item[CAMP] 1\n",
       "\\item[HOTE] 1\n",
       "\\item[IRPP] 1\n",
       "\\item[IRSC] 1\n",
       "\\item[LOCA] 1\n",
       "\\item[RESS] 1\n",
       "\\end{description*}\n"
      ],
      "text/markdown": [
       "AUTR\n",
       ":   1CAMP\n",
       ":   1HOTE\n",
       ":   1IRPP\n",
       ":   1IRSC\n",
       ":   1LOCA\n",
       ":   1RESS\n",
       ":   1\n",
       "\n"
      ],
      "text/plain": [
       "AUTR CAMP HOTE IRPP IRSC LOCA RESS \n",
       "   1    1    1    1    1    1    1 "
      ]
     },
     "metadata": {},
     "output_type": "display_data"
    },
    {
     "data": {
      "text/html": [
       "<style>\n",
       ".dl-inline {width: auto; margin:0; padding: 0}\n",
       ".dl-inline>dt, .dl-inline>dd {float: none; width: auto; display: inline-block}\n",
       ".dl-inline>dt::after {content: \":\\0020\"; padding-right: .5ex}\n",
       ".dl-inline>dt:not(:first-of-type) {padding-left: .5ex}\n",
       "</style><dl class=dl-inline><dt>AUTR</dt><dd>1</dd><dt>CAMP</dt><dd>1</dd><dt>HOTE</dt><dd>1</dd><dt>IRPP</dt><dd>1</dd><dt>IRSC</dt><dd>1</dd><dt>LOCA</dt><dd>1</dd><dt>RESS</dt><dd>1</dd></dl>\n"
      ],
      "text/latex": [
       "\\begin{description*}\n",
       "\\item[AUTR] 1\n",
       "\\item[CAMP] 1\n",
       "\\item[HOTE] 1\n",
       "\\item[IRPP] 1\n",
       "\\item[IRSC] 1\n",
       "\\item[LOCA] 1\n",
       "\\item[RESS] 1\n",
       "\\end{description*}\n"
      ],
      "text/markdown": [
       "AUTR\n",
       ":   1CAMP\n",
       ":   1HOTE\n",
       ":   1IRPP\n",
       ":   1IRSC\n",
       ":   1LOCA\n",
       ":   1RESS\n",
       ":   1\n",
       "\n"
      ],
      "text/plain": [
       "AUTR CAMP HOTE IRPP IRSC LOCA RESS \n",
       "   1    1    1    1    1    1    1 "
      ]
     },
     "metadata": {},
     "output_type": "display_data"
    },
    {
     "data": {
      "text/html": [
       "<style>\n",
       ".list-inline {list-style: none; margin:0; padding: 0}\n",
       ".list-inline>li {display: inline-block}\n",
       ".list-inline>li:not(:last-child)::after {content: \"\\00b7\"; padding: 0 .5ex}\n",
       "</style>\n",
       "<ol class=list-inline><li>1+0i</li><li>0.028385815116546+0.108836420175368i</li><li>0.028385815116546-0.108836420175368i</li><li>-0.0899414075635182+0i</li><li>0.0577106820384013+0i</li><li>0.042215077168142+0i</li><li>-0.00965246320933655+0i</li></ol>\n"
      ],
      "text/latex": [
       "\\begin{enumerate*}\n",
       "\\item 1+0i\n",
       "\\item 0.028385815116546+0.108836420175368i\n",
       "\\item 0.028385815116546-0.108836420175368i\n",
       "\\item -0.0899414075635182+0i\n",
       "\\item 0.0577106820384013+0i\n",
       "\\item 0.042215077168142+0i\n",
       "\\item -0.00965246320933655+0i\n",
       "\\end{enumerate*}\n"
      ],
      "text/markdown": [
       "1. 1+0i\n",
       "2. 0.028385815116546+0.108836420175368i\n",
       "3. 0.028385815116546-0.108836420175368i\n",
       "4. -0.0899414075635182+0i\n",
       "5. 0.0577106820384013+0i\n",
       "6. 0.042215077168142+0i\n",
       "7. -0.00965246320933655+0i\n",
       "\n",
       "\n"
      ],
      "text/plain": [
       "[1]  1.000000000+0.0000000i  0.028385815+0.1088364i  0.028385815-0.1088364i\n",
       "[4] -0.089941408+0.0000000i  0.057710682+0.0000000i  0.042215077+0.0000000i\n",
       "[7] -0.009652463+0.0000000i"
      ]
     },
     "metadata": {},
     "output_type": "display_data"
    },
    {
     "data": {
      "text/html": [
       "<style>\n",
       ".list-inline {list-style: none; margin:0; padding: 0}\n",
       ".list-inline>li {display: inline-block}\n",
       ".list-inline>li:not(:last-child)::after {content: \"\\00b7\"; padding: 0 .5ex}\n",
       "</style>\n",
       "<ol class=list-inline><li>1</li><li>0.0653940267861968</li><li>0.0134572177304345</li><li>0.00386635249087493</li><li>0.00306202574293834</li><li>0.000388404010431413</li><li>5.970212031309e-05</li></ol>\n"
      ],
      "text/latex": [
       "\\begin{enumerate*}\n",
       "\\item 1\n",
       "\\item 0.0653940267861968\n",
       "\\item 0.0134572177304345\n",
       "\\item 0.00386635249087493\n",
       "\\item 0.00306202574293834\n",
       "\\item 0.000388404010431413\n",
       "\\item 5.970212031309e-05\n",
       "\\end{enumerate*}\n"
      ],
      "text/markdown": [
       "1. 1\n",
       "2. 0.0653940267861968\n",
       "3. 0.0134572177304345\n",
       "4. 0.00386635249087493\n",
       "5. 0.00306202574293834\n",
       "6. 0.000388404010431413\n",
       "7. 5.970212031309e-05\n",
       "\n",
       "\n"
      ],
      "text/plain": [
       "[1] 1.000000e+00 6.539403e-02 1.345722e-02 3.866352e-03 3.062026e-03\n",
       "[6] 3.884040e-04 5.970212e-05"
      ]
     },
     "metadata": {},
     "output_type": "display_data"
    }
   ],
   "source": [
    "colSums(A); colSums(B); colSums(A %*% B)\n",
    "eigen(A)$values\n",
    "eigen(A %*% B)$values"
   ]
  },
  {
   "cell_type": "markdown",
   "metadata": {},
   "source": [
    "**Q** Commenter les résultats ci-dessous. Quel vecteur propre associé à quelle valeur propre ?"
   ]
  },
  {
   "cell_type": "code",
   "execution_count": 132,
   "metadata": {},
   "outputs": [
    {
     "data": {
      "text/html": [
       "<table>\n",
       "<caption>A matrix: 7 × 1 of type dbl</caption>\n",
       "<tbody>\n",
       "\t<tr><th scope=row>AUTR</th><td>0.000000e+00</td></tr>\n",
       "\t<tr><th scope=row>CAMP</th><td>0.000000e+00</td></tr>\n",
       "\t<tr><th scope=row>HOTE</th><td>0.000000e+00</td></tr>\n",
       "\t<tr><th scope=row>IRPP</th><td>5.551115e-17</td></tr>\n",
       "\t<tr><th scope=row>IRSC</th><td>1.387779e-17</td></tr>\n",
       "\t<tr><th scope=row>LOCA</th><td>0.000000e+00</td></tr>\n",
       "\t<tr><th scope=row>RESS</th><td>0.000000e+00</td></tr>\n",
       "</tbody>\n",
       "</table>\n"
      ],
      "text/latex": [
       "A matrix: 7 × 1 of type dbl\n",
       "\\begin{tabular}{r|l}\n",
       "\tAUTR & 0.000000e+00\\\\\n",
       "\tCAMP & 0.000000e+00\\\\\n",
       "\tHOTE & 0.000000e+00\\\\\n",
       "\tIRPP & 5.551115e-17\\\\\n",
       "\tIRSC & 1.387779e-17\\\\\n",
       "\tLOCA & 0.000000e+00\\\\\n",
       "\tRESS & 0.000000e+00\\\\\n",
       "\\end{tabular}\n"
      ],
      "text/markdown": [
       "\n",
       "A matrix: 7 × 1 of type dbl\n",
       "\n",
       "| AUTR | 0.000000e+00 |\n",
       "| CAMP | 0.000000e+00 |\n",
       "| HOTE | 0.000000e+00 |\n",
       "| IRPP | 5.551115e-17 |\n",
       "| IRSC | 1.387779e-17 |\n",
       "| LOCA | 0.000000e+00 |\n",
       "| RESS | 0.000000e+00 |\n",
       "\n"
      ],
      "text/plain": [
       "      \n",
       "heber  [,1]        \n",
       "  AUTR 0.000000e+00\n",
       "  CAMP 0.000000e+00\n",
       "  HOTE 0.000000e+00\n",
       "  IRPP 5.551115e-17\n",
       "  IRSC 1.387779e-17\n",
       "  LOCA 0.000000e+00\n",
       "  RESS 0.000000e+00"
      ]
     },
     "metadata": {},
     "output_type": "display_data"
    }
   ],
   "source": [
    "A %*% B %*% gc - gc"
   ]
  },
  {
   "cell_type": "code",
   "execution_count": 133,
   "metadata": {},
   "outputs": [
    {
     "data": {
      "text/html": [
       "<table>\n",
       "<caption>A matrix: 7 × 1 of type dbl</caption>\n",
       "<tbody>\n",
       "\t<tr><th scope=row>cadm</th><td>-2.775558e-17</td></tr>\n",
       "\t<tr><th scope=row>empl</th><td>-1.387779e-17</td></tr>\n",
       "\t<tr><th scope=row>esag</th><td> 0.000000e+00</td></tr>\n",
       "\t<tr><th scope=row>inac</th><td> 0.000000e+00</td></tr>\n",
       "\t<tr><th scope=row>libe</th><td> 2.775558e-17</td></tr>\n",
       "\t<tr><th scope=row>oups</th><td> 5.551115e-17</td></tr>\n",
       "\t<tr><th scope=row>paic</th><td> 0.000000e+00</td></tr>\n",
       "</tbody>\n",
       "</table>\n"
      ],
      "text/latex": [
       "A matrix: 7 × 1 of type dbl\n",
       "\\begin{tabular}{r|l}\n",
       "\tcadm & -2.775558e-17\\\\\n",
       "\templ & -1.387779e-17\\\\\n",
       "\tesag &  0.000000e+00\\\\\n",
       "\tinac &  0.000000e+00\\\\\n",
       "\tlibe &  2.775558e-17\\\\\n",
       "\toups &  5.551115e-17\\\\\n",
       "\tpaic &  0.000000e+00\\\\\n",
       "\\end{tabular}\n"
      ],
      "text/markdown": [
       "\n",
       "A matrix: 7 × 1 of type dbl\n",
       "\n",
       "| cadm | -2.775558e-17 |\n",
       "| empl | -1.387779e-17 |\n",
       "| esag |  0.000000e+00 |\n",
       "| inac |  0.000000e+00 |\n",
       "| libe |  2.775558e-17 |\n",
       "| oups |  5.551115e-17 |\n",
       "| paic |  0.000000e+00 |\n",
       "\n"
      ],
      "text/plain": [
       "      \n",
       "CSP    [,1]         \n",
       "  cadm -2.775558e-17\n",
       "  empl -1.387779e-17\n",
       "  esag  0.000000e+00\n",
       "  inac  0.000000e+00\n",
       "  libe  2.775558e-17\n",
       "  oups  5.551115e-17\n",
       "  paic  0.000000e+00"
      ]
     },
     "metadata": {},
     "output_type": "display_data"
    }
   ],
   "source": [
    "B %*% A %*% gr - gr"
   ]
  },
  {
   "cell_type": "markdown",
   "metadata": {},
   "source": [
    "### 2.2 AFC et double ACP\n",
    "\n",
    "**Q** Quelles sont les ACPs qui définissent l'AFC ?\n",
    "\n",
    "**Q** De quelles matrices faut-il alors calculer la SVD et par rapport à quelles métriques ? \n",
    "\n",
    "**Attention**, la SVD est dite *généralisée* car calculée par rapport à des métriques spécifiques différentes de celle usuelle (matrice identité). Se reporter au [scénario précédent]() pour plus d'explications. Il n'est pas possible d'utiliser directement une fonction comme par exemple `prcomp` ou `princomp` pour calculer les ACPs conduisant à l'AFC à cause de ce changement de métrique. Attention dans la construction des matrices, la matrice `T` est dans cet exemple carrée (autant de modalités lignes que colonnes) mais il ne faut pas confondre le rôle des métriques. "
   ]
  },
  {
   "cell_type": "code",
   "execution_count": 134,
   "metadata": {},
   "outputs": [
    {
     "data": {
      "text/html": [
       "<style>\n",
       ".list-inline {list-style: none; margin:0; padding: 0}\n",
       ".list-inline>li {display: inline-block}\n",
       ".list-inline>li:not(:last-child)::after {content: \"\\00b7\"; padding: 0 .5ex}\n",
       "</style>\n",
       "<ol class=list-inline><li>1</li><li>0.255722558227069</li><li>0.116005248719334</li><li>0.0621800007307412</li><li>0.0553355739370104</li><li>0.0197079681964263</li><li>0.00772671471668828</li></ol>\n"
      ],
      "text/latex": [
       "\\begin{enumerate*}\n",
       "\\item 1\n",
       "\\item 0.255722558227069\n",
       "\\item 0.116005248719334\n",
       "\\item 0.0621800007307412\n",
       "\\item 0.0553355739370104\n",
       "\\item 0.0197079681964263\n",
       "\\item 0.00772671471668828\n",
       "\\end{enumerate*}\n"
      ],
      "text/markdown": [
       "1. 1\n",
       "2. 0.255722558227069\n",
       "3. 0.116005248719334\n",
       "4. 0.0621800007307412\n",
       "5. 0.0553355739370104\n",
       "6. 0.0197079681964263\n",
       "7. 0.00772671471668828\n",
       "\n",
       "\n"
      ],
      "text/plain": [
       "[1] 1.000000000 0.255722558 0.116005249 0.062180001 0.055335574 0.019707968\n",
       "[7] 0.007726715"
      ]
     },
     "metadata": {},
     "output_type": "display_data"
    }
   ],
   "source": [
    "# SVD de 1/nT relative à Dr-1 et Dc-1\n",
    "Drm12 <- diag(1 / sqrt(gr))\n",
    "Dcm12 <- diag(1 / sqrt(gc))\n",
    "res <- svd(Drm12 %*% T %*% Dcm12 / n)\n",
    "res$d"
   ]
  },
  {
   "cell_type": "markdown",
   "metadata": {},
   "source": [
    "**Q** Pourquoi en AFC, centrer les matrices revient à éliminer la valeur propre 1 et le vecteur propre associé?"
   ]
  },
  {
   "cell_type": "code",
   "execution_count": 135,
   "metadata": {},
   "outputs": [],
   "source": [
    "L <- res$d[-1]"
   ]
  },
  {
   "cell_type": "code",
   "execution_count": 136,
   "metadata": {},
   "outputs": [],
   "source": [
    "# Rechangement de métrique\n",
    "U <- diag(sqrt(gr)) %*% res$u[, -1]\n",
    "V <- diag(sqrt(gc)) %*% res$v[, -1]"
   ]
  },
  {
   "cell_type": "code",
   "execution_count": 137,
   "metadata": {},
   "outputs": [
    {
     "data": {
      "text/html": [
       "<table>\n",
       "<caption>A matrix: 6 × 6 of type dbl</caption>\n",
       "<tbody>\n",
       "\t<tr><td> 1.000000e+00</td><td> 4.857226e-17</td><td>-2.498002e-16</td><td> 3.122502e-17</td><td> 4.996004e-16</td><td>-2.775558e-17</td></tr>\n",
       "\t<tr><td> 6.245005e-17</td><td> 1.000000e+00</td><td> 0.000000e+00</td><td>-1.873501e-16</td><td>-1.249001e-16</td><td>-1.387779e-16</td></tr>\n",
       "\t<tr><td>-1.665335e-16</td><td> 0.000000e+00</td><td> 1.000000e+00</td><td> 4.024558e-16</td><td>-1.387779e-16</td><td> 0.000000e+00</td></tr>\n",
       "\t<tr><td> 3.122502e-17</td><td>-1.873501e-16</td><td> 3.885781e-16</td><td> 1.000000e+00</td><td>-2.220446e-16</td><td>-5.551115e-17</td></tr>\n",
       "\t<tr><td> 5.065393e-16</td><td>-7.632783e-17</td><td>-1.665335e-16</td><td>-2.220446e-16</td><td> 1.000000e+00</td><td> 8.326673e-17</td></tr>\n",
       "\t<tr><td> 6.938894e-18</td><td>-1.249001e-16</td><td> 5.551115e-17</td><td>-4.163336e-17</td><td> 4.163336e-17</td><td> 1.000000e+00</td></tr>\n",
       "</tbody>\n",
       "</table>\n"
      ],
      "text/latex": [
       "A matrix: 6 × 6 of type dbl\n",
       "\\begin{tabular}{llllll}\n",
       "\t  1.000000e+00 &  4.857226e-17 & -2.498002e-16 &  3.122502e-17 &  4.996004e-16 & -2.775558e-17\\\\\n",
       "\t  6.245005e-17 &  1.000000e+00 &  0.000000e+00 & -1.873501e-16 & -1.249001e-16 & -1.387779e-16\\\\\n",
       "\t -1.665335e-16 &  0.000000e+00 &  1.000000e+00 &  4.024558e-16 & -1.387779e-16 &  0.000000e+00\\\\\n",
       "\t  3.122502e-17 & -1.873501e-16 &  3.885781e-16 &  1.000000e+00 & -2.220446e-16 & -5.551115e-17\\\\\n",
       "\t  5.065393e-16 & -7.632783e-17 & -1.665335e-16 & -2.220446e-16 &  1.000000e+00 &  8.326673e-17\\\\\n",
       "\t  6.938894e-18 & -1.249001e-16 &  5.551115e-17 & -4.163336e-17 &  4.163336e-17 &  1.000000e+00\\\\\n",
       "\\end{tabular}\n"
      ],
      "text/markdown": [
       "\n",
       "A matrix: 6 × 6 of type dbl\n",
       "\n",
       "|  1.000000e+00 |  4.857226e-17 | -2.498002e-16 |  3.122502e-17 |  4.996004e-16 | -2.775558e-17 |\n",
       "|  6.245005e-17 |  1.000000e+00 |  0.000000e+00 | -1.873501e-16 | -1.249001e-16 | -1.387779e-16 |\n",
       "| -1.665335e-16 |  0.000000e+00 |  1.000000e+00 |  4.024558e-16 | -1.387779e-16 |  0.000000e+00 |\n",
       "|  3.122502e-17 | -1.873501e-16 |  3.885781e-16 |  1.000000e+00 | -2.220446e-16 | -5.551115e-17 |\n",
       "|  5.065393e-16 | -7.632783e-17 | -1.665335e-16 | -2.220446e-16 |  1.000000e+00 |  8.326673e-17 |\n",
       "|  6.938894e-18 | -1.249001e-16 |  5.551115e-17 | -4.163336e-17 |  4.163336e-17 |  1.000000e+00 |\n",
       "\n"
      ],
      "text/plain": [
       "     [,1]          [,2]          [,3]          [,4]          [,5]         \n",
       "[1,]  1.000000e+00  4.857226e-17 -2.498002e-16  3.122502e-17  4.996004e-16\n",
       "[2,]  6.245005e-17  1.000000e+00  0.000000e+00 -1.873501e-16 -1.249001e-16\n",
       "[3,] -1.665335e-16  0.000000e+00  1.000000e+00  4.024558e-16 -1.387779e-16\n",
       "[4,]  3.122502e-17 -1.873501e-16  3.885781e-16  1.000000e+00 -2.220446e-16\n",
       "[5,]  5.065393e-16 -7.632783e-17 -1.665335e-16 -2.220446e-16  1.000000e+00\n",
       "[6,]  6.938894e-18 -1.249001e-16  5.551115e-17 -4.163336e-17  4.163336e-17\n",
       "     [,6]         \n",
       "[1,] -2.775558e-17\n",
       "[2,] -1.387779e-16\n",
       "[3,]  0.000000e+00\n",
       "[4,] -5.551115e-17\n",
       "[5,]  8.326673e-17\n",
       "[6,]  1.000000e+00"
      ]
     },
     "metadata": {},
     "output_type": "display_data"
    }
   ],
   "source": [
    "# Vérifications de la chi2-orthonormalité\n",
    "t(U) %*% Dr1 %*% U"
   ]
  },
  {
   "cell_type": "code",
   "execution_count": 138,
   "metadata": {},
   "outputs": [
    {
     "data": {
      "text/html": [
       "<table>\n",
       "<caption>A matrix: 6 × 6 of type dbl</caption>\n",
       "<tbody>\n",
       "\t<tr><td> 1.000000e+00</td><td>-1.179612e-16</td><td> 4.163336e-17</td><td> 8.326673e-17</td><td> 2.671474e-16</td><td> 1.387779e-16</td></tr>\n",
       "\t<tr><td>-2.255141e-16</td><td> 1.000000e+00</td><td>-4.284767e-16</td><td> 1.249001e-16</td><td>-1.604619e-16</td><td>-5.551115e-17</td></tr>\n",
       "\t<tr><td>-6.938894e-18</td><td>-4.284767e-16</td><td> 1.000000e+00</td><td> 0.000000e+00</td><td> 5.724587e-17</td><td>-8.326673e-17</td></tr>\n",
       "\t<tr><td> 1.110223e-16</td><td> 1.595946e-16</td><td>-1.387779e-17</td><td> 1.000000e+00</td><td> 5.551115e-17</td><td>-2.220446e-16</td></tr>\n",
       "\t<tr><td> 2.046974e-16</td><td>-1.604619e-16</td><td> 1.110223e-16</td><td> 6.938894e-18</td><td> 1.000000e+00</td><td> 9.020562e-17</td></tr>\n",
       "\t<tr><td> 1.387779e-16</td><td> 1.387779e-17</td><td>-5.551115e-17</td><td>-2.775558e-16</td><td> 6.245005e-17</td><td> 1.000000e+00</td></tr>\n",
       "</tbody>\n",
       "</table>\n"
      ],
      "text/latex": [
       "A matrix: 6 × 6 of type dbl\n",
       "\\begin{tabular}{llllll}\n",
       "\t  1.000000e+00 & -1.179612e-16 &  4.163336e-17 &  8.326673e-17 &  2.671474e-16 &  1.387779e-16\\\\\n",
       "\t -2.255141e-16 &  1.000000e+00 & -4.284767e-16 &  1.249001e-16 & -1.604619e-16 & -5.551115e-17\\\\\n",
       "\t -6.938894e-18 & -4.284767e-16 &  1.000000e+00 &  0.000000e+00 &  5.724587e-17 & -8.326673e-17\\\\\n",
       "\t  1.110223e-16 &  1.595946e-16 & -1.387779e-17 &  1.000000e+00 &  5.551115e-17 & -2.220446e-16\\\\\n",
       "\t  2.046974e-16 & -1.604619e-16 &  1.110223e-16 &  6.938894e-18 &  1.000000e+00 &  9.020562e-17\\\\\n",
       "\t  1.387779e-16 &  1.387779e-17 & -5.551115e-17 & -2.775558e-16 &  6.245005e-17 &  1.000000e+00\\\\\n",
       "\\end{tabular}\n"
      ],
      "text/markdown": [
       "\n",
       "A matrix: 6 × 6 of type dbl\n",
       "\n",
       "|  1.000000e+00 | -1.179612e-16 |  4.163336e-17 |  8.326673e-17 |  2.671474e-16 |  1.387779e-16 |\n",
       "| -2.255141e-16 |  1.000000e+00 | -4.284767e-16 |  1.249001e-16 | -1.604619e-16 | -5.551115e-17 |\n",
       "| -6.938894e-18 | -4.284767e-16 |  1.000000e+00 |  0.000000e+00 |  5.724587e-17 | -8.326673e-17 |\n",
       "|  1.110223e-16 |  1.595946e-16 | -1.387779e-17 |  1.000000e+00 |  5.551115e-17 | -2.220446e-16 |\n",
       "|  2.046974e-16 | -1.604619e-16 |  1.110223e-16 |  6.938894e-18 |  1.000000e+00 |  9.020562e-17 |\n",
       "|  1.387779e-16 |  1.387779e-17 | -5.551115e-17 | -2.775558e-16 |  6.245005e-17 |  1.000000e+00 |\n",
       "\n"
      ],
      "text/plain": [
       "     [,1]          [,2]          [,3]          [,4]          [,5]         \n",
       "[1,]  1.000000e+00 -1.179612e-16  4.163336e-17  8.326673e-17  2.671474e-16\n",
       "[2,] -2.255141e-16  1.000000e+00 -4.284767e-16  1.249001e-16 -1.604619e-16\n",
       "[3,] -6.938894e-18 -4.284767e-16  1.000000e+00  0.000000e+00  5.724587e-17\n",
       "[4,]  1.110223e-16  1.595946e-16 -1.387779e-17  1.000000e+00  5.551115e-17\n",
       "[5,]  2.046974e-16 -1.604619e-16  1.110223e-16  6.938894e-18  1.000000e+00\n",
       "[6,]  1.387779e-16  1.387779e-17 -5.551115e-17 -2.775558e-16  6.245005e-17\n",
       "     [,6]         \n",
       "[1,]  1.387779e-16\n",
       "[2,] -5.551115e-17\n",
       "[3,] -8.326673e-17\n",
       "[4,] -2.220446e-16\n",
       "[5,]  9.020562e-17\n",
       "[6,]  1.000000e+00"
      ]
     },
     "metadata": {},
     "output_type": "display_data"
    }
   ],
   "source": [
    "t(V) %*% Dc1 %*% V"
   ]
  },
  {
   "cell_type": "markdown",
   "metadata": {},
   "source": [
    "### 2.3 Calcul des composantes et graphiques\n",
    "\n",
    "**Q** Quelles sont les quantités calculées ci-dessous ?"
   ]
  },
  {
   "cell_type": "code",
   "execution_count": 139,
   "metadata": {},
   "outputs": [],
   "source": [
    "Cr <- Dr1 %*% U %*% diag(L)\n",
    "Cc <- Dc1 %*% V %*% diag(L)\n",
    "ratio <- L^2 / sum(L^2)"
   ]
  },
  {
   "cell_type": "code",
   "execution_count": 140,
   "metadata": {},
   "outputs": [
    {
     "data": {
      "image/png": "[encoded data removed]",
      "text/plain": [
       "plot without title"
      ]
     },
     "metadata": {
      "image/png": {
       "height": 420,
       "width": 420
      }
     },
     "output_type": "display_data"
    }
   ],
   "source": [
    "# représentations graphiques\n",
    "plot(Cc, type = \"n\", \n",
    "     xlab = paste(\"Dim 1 (\", round(100 * ratio[1], 1), \"%)\", sep = \"\"),\n",
    "     ylab = paste(\"Dim 2 (\", round(100 * ratio[2], 1), \"%)\", sep = \"\"))\n",
    "text(Cc, colnames(T))\n",
    "abline(h = 0, v = 0)"
   ]
  },
  {
   "cell_type": "markdown",
   "metadata": {},
   "source": [
    "Interpréter le graphique ci-dessus :\n",
    "\n",
    "**Q** Que sont les individus ? Que représente l'individu central de coordonnées (0, 0) ?\n",
    "\n",
    "**Q** Que représente le pourcentage d'inertie calculé pour chaque axe factoriel ?\n",
    "\n",
    "**Q** Que représente la distance entre les individus ? Considérons le cas de CAMP et RESS d'une part, et AUTR et LOCA d'autre part. Interpréter. Le résultat est-il visible sur la table de contingence ?"
   ]
  },
  {
   "cell_type": "code",
   "execution_count": 141,
   "metadata": {},
   "outputs": [
    {
     "data": {
      "image/png": "[encoded data removed]",
      "text/plain": [
       "plot without title"
      ]
     },
     "metadata": {
      "image/png": {
       "height": 420,
       "width": 420
      }
     },
     "output_type": "display_data"
    }
   ],
   "source": [
    "plot(Cr, type = \"n\", \n",
    "     xlab = paste(\"Dim 1 (\", round(100 * ratio[1], 1), \"%)\", sep = \"\"),\n",
    "     ylab = paste(\"Dim 2 (\", round(100 * ratio[2], 1), \"%)\", sep = \"\"))\n",
    "text(Cr, rownames(T))\n",
    "abline(h = 0, v = 0)"
   ]
  },
  {
   "cell_type": "markdown",
   "metadata": {},
   "source": [
    "**Q** Mêmes questions concernant l'interprétation. Pourquoi a t'on les même pourcentages d'inertie ?\n",
    "\n",
    "## 3 Avec `FactoMineR`\n",
    "Rien de bien compliqué dans ces instructions mais autant utiliser une librairie qui propose directement des graphiques de meilleure qualité avec une offre détaillée d'options."
   ]
  },
  {
   "cell_type": "code",
   "execution_count": 142,
   "metadata": {},
   "outputs": [
    {
     "name": "stdout",
     "output_type": "stream",
     "text": [
      "\n",
      "Call:\n",
      "CA(X = T, graph = F) \n",
      "\n",
      "The chi square of independence between the two variables is equal to 2628.652 (p-value =  0 ).\n",
      "\n",
      "Eigenvalues\n",
      "                       Dim.1   Dim.2   Dim.3   Dim.4   Dim.5   Dim.6\n",
      "Variance               0.065   0.013   0.004   0.003   0.000   0.000\n",
      "% of var.             75.839  15.607   4.484   3.551   0.450   0.069\n",
      "Cumulative % of var.  75.839  91.445  95.929  99.480  99.931 100.000\n",
      "\n",
      "Rows\n",
      "       Iner*1000    Dim.1    ctr   cos2    Dim.2    ctr   cos2    Dim.3    ctr\n",
      "cadm |     1.932 |  0.032  0.316  0.107 |  0.087 11.409  0.795 | -0.021  2.385\n",
      "empl |     3.504 |  0.023  0.074  0.014 |  0.098  6.505  0.250 |  0.045  4.808\n",
      "esag |     1.755 | -0.199  1.136  0.423 | -0.132  2.436  0.187 | -0.139  9.440\n",
      "inac |    22.030 |  0.335 22.568  0.670 | -0.227 50.561  0.309 |  0.060 12.065\n",
      "libe |    18.086 |  0.312 22.130  0.800 |  0.144 22.990  0.171 |  0.018  1.191\n",
      "oups |    33.583 | -0.310 50.599  0.985 | -0.029  2.177  0.009 |  0.015  1.948\n",
      "paic |     5.339 |  0.185  3.176  0.389 | -0.093  3.923  0.099 | -0.208 68.163\n",
      "       cos2  \n",
      "cadm  0.048 |\n",
      "empl  0.053 |\n",
      "esag  0.208 |\n",
      "inac  0.021 |\n",
      "libe  0.003 |\n",
      "oups  0.002 |\n",
      "paic  0.494 |\n",
      "\n",
      "Columns\n",
      "       Iner*1000    Dim.1    ctr   cos2    Dim.2    ctr   cos2    Dim.3    ctr\n",
      "AUTR |     3.352 |  0.072  0.582  0.114 |  0.140 10.701  0.430 |  0.102 19.810\n",
      "CAMP |    29.215 | -0.364 43.189  0.967 |  0.027  1.154  0.005 | -0.048 12.666\n",
      "HOTE |    20.489 |  0.339 22.835  0.729 | -0.195 36.842  0.242 | -0.062 12.932\n",
      "IRPP |     6.205 | -0.104  4.944  0.521 | -0.076 12.849  0.279 |  0.062 29.644\n",
      "IRSC |    13.943 |  0.395 15.655  0.734 |  0.232 26.227  0.253 |  0.011  0.219\n",
      "LOCA |     3.719 |  0.066  0.946  0.166 |  0.106 11.896  0.430 | -0.078 22.395\n",
      "RESS |     9.303 |  0.324 11.849  0.833 |  0.025  0.331  0.005 |  0.035  2.334\n",
      "       cos2  \n",
      "AUTR  0.228 |\n",
      "CAMP  0.017 |\n",
      "HOTE  0.024 |\n",
      "IRPP  0.185 |\n",
      "IRSC  0.001 |\n",
      "LOCA  0.233 |\n",
      "RESS  0.010 |\n"
     ]
    },
    {
     "data": {
      "image/png": "[encoded data removed]",
      "text/plain": [
       "plot without title"
      ]
     },
     "metadata": {
      "image/png": {
       "height": 420,
       "width": 420
      }
     },
     "output_type": "display_data"
    }
   ],
   "source": [
    "# Charger la librairie\n",
    "library(FactoMineR)\n",
    "# Analyse des correspondances\n",
    "afc <- CA(T, graph = F)\n",
    "summary(afc)\n",
    "plot(afc)"
   ]
  },
  {
   "cell_type": "markdown",
   "metadata": {},
   "source": [
    "Comparer les résultats avec ceux précédemment obtenus."
   ]
  },
  {
   "cell_type": "markdown",
   "metadata": {},
   "source": [
    "**Q** Comment se justifie la double représentation des modalités lignes et colonnes sur le même graphique ?\n",
    "\n",
    "**Q** Quelle interprétation en faire ? En particulier, interpréter la proximité entre CAMP et oups. Interpréter l'orthogonalité entre les vecteurs esag et HOTE (tracés à partir du centre)."
   ]
  },
  {
   "cell_type": "markdown",
   "metadata": {},
   "source": [
    "## Données de sociologie\n",
    "On reprend ici un jeu de données étudié par le sociologue Pierre Bourdieu, présentées dans le polycopié de cours de Xavier Gendre, \n",
    "\n",
    "https://www.math.univ-toulouse.fr/~xgendre/\n",
    "\n",
    "concernant 8869 étudiants. On dispose de la catéogorie socioprofessionnelle du père :\n",
    "\n",
    "* EAG : Exploitant agricole\n",
    "* SAG : Salarié agricole\n",
    "* PT : Patron\n",
    "* PLCS : Profession libérale & cadre supérieur\n",
    "* CM : Cadre moyen\n",
    "* EMP : Employé\n",
    "* OUV : Ouvrier\n",
    "* OTH : Autre\n",
    "\n",
    "et le type d'étude suivie par l'étudiant :\n",
    "\n",
    "* DR : Droit\n",
    "* SCE : Sciences économiques\n",
    "* LET : Lettres\n",
    "* SC : Sciences\n",
    "* MD : Médecine ou dentaire\n",
    "* PH : Pharmacie\n",
    "* PD : Pluridisciplinaire\n",
    "* IUT : Institut Universitaire de Technologie\n",
    "\n",
    "Il s'agit d'étudier la reproductibilité sociale, i.e. de savoir si la profession des parents a un lien avec le type d'études suivi par les enfants."
   ]
  },
  {
   "cell_type": "markdown",
   "metadata": {},
   "source": [
    "**Q** Réaliser une analyse de correspondance. Répondre à la question posée.\n",
    "\n",
    "**Q** Certaines modalités ont des effectifs faibles. Quelle conséquence sur les résultats ? Comment regrouper les modalités ? Refaire l'analyse avec les modalités regroupées."
   ]
  },
  {
   "cell_type": "code",
   "execution_count": 143,
   "metadata": {},
   "outputs": [],
   "source": [
    "T <- read.table(\"Data/dataBourdieu.dat\")"
   ]
  },
  {
   "cell_type": "markdown",
   "metadata": {},
   "source": [
    "## Accord de partitions de différents clusterings\n",
    "On considère les différents clusterings réalisés dans le notebook MARS (ou un autre de votre choix).\n",
    "On veut étudier la correspondance entre les partitions retournées par :\n",
    "* la classification hiérarchique ascendante (CAH) à K1 classes et la CAH à K2 classes.\n",
    "* k-means avec K classes, sur les données brutes et sur les scores de l'ACP\n",
    "* k-means avec K1 classes et CAH avec K2 classes\n",
    "* etc.\n",
    "\n",
    "**Q** Dans chaque cas, afficher la table de contingence. Afficher les valeurs propres obtenues avec l'AFC. Que signifie une valeur propre proche de 1 ? Interpréter les résultats de l'AFC."
   ]
  }
 ],
 "metadata": {
  "kernelspec": {
   "display_name": "R",
   "language": "R",
   "name": "ir"
  },
  "language_info": {
   "codemirror_mode": "r",
   "file_extension": ".r",
   "mimetype": "text/x-r-source",
   "name": "R",
   "pygments_lexer": "r",
   "version": "3.6.3"
  },
  "toc": {
   "base_numbering": 1,
   "nav_menu": {},
   "number_sections": true,
   "sideBar": true,
   "skip_h1_title": false,
   "title_cell": "Table of Contents",
   "title_sidebar": "Contents",
   "toc_cell": false,
   "toc_position": {},
   "toc_section_display": true,
   "toc_window_display": false
  }
 },
 "nbformat": 4,
 "nbformat_minor": 1
}
