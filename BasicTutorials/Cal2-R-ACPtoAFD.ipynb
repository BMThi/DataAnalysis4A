{
 "cells": [
  {
   "cell_type": "markdown",
   "metadata": {},
   "source": [
    "<center>\n",
    "<a href=\"http://www.insa-toulouse.fr/\" ><img src=\"http://www.math.univ-toulouse.fr/~besse/Wikistat/Images/logo-insa.jpg\" style=\"float:left; max-width: 120px; display: inline\" alt=\"INSA\"/></a> \n",
    "\n",
    "<a href=\"http://wikistat.fr/\" ><img src=\"http://www.math.univ-toulouse.fr/~besse/Wikistat/Images/wikistat.jpg\" style=\"float:right; max-width: 250px; display: inline\"  alt=\"Wikistat\"/></a>\n",
    "</center>"
   ]
  },
  {
   "cell_type": "markdown",
   "metadata": {},
   "source": [
    "# [Scénarios d'Exploration Statistique](https://github.com/wikistat/Exploration)"
   ]
  },
  {
   "cell_type": "markdown",
   "metadata": {},
   "source": [
    "# Introduction à l'[AFD](http://wikistat.fr/pdf/st-m-explo-afd.pdf) avec <a href=\"https://cran.r-project.org/\"><img src=\"https://cran.r-project.org/Rlogo.svg\" style=\"max-width: 40px; display: inline\" alt=\"R\"/></a>\n",
    "# Exemples élémentaires\n",
    "#### Résumé \n",
    "Illustration par un exemple jouet puis analyse de données socio-économiques par [ACP](http://wikistat.fr/pdf/st-m-explo-acp.pdf) et [Analyse Factorielle Discriminante](http://wikistat.fr/pdf/st-m-explo-afd.pdf) (AFD) avec R."
   ]
  },
  {
   "cell_type": "markdown",
   "metadata": {},
   "source": [
    "## 1 Introduction\n",
    "Il y a différentes approches du problème de la discrimination selon l'objectif visé et donc la méthodologie mise en oeuvre. Nous nous limitons ici à l'approche descriptive ou factorielle (décomposition en facteurs). L'approche décisionnelle est traité en [saison 3](https://github.com/wikistat/Apprentissage). \n",
    "\n",
    "L'[Analyse Factorielle Discriminante](http://wikistat.fr/pdf/st-m-explo-afd.pdf) est un cas particulier d'[ACP](http://wikistat.fr/pdf/st-m-explo-acp.pdf) pour décrire la capacité de discrimination des $m$ classes d'une variable qualitative $Y$ par un ensemble de variables quantitatives $X^1,...,X^p$ observées sur $n$ individus.\n",
    "\n",
    "**Q** Quelle est cette ACP?\n",
    "\n",
    "**Q** Quel est le rang de ma matrice à diagonaliser et donc le nombre maximal de composantes d'une AFD?\n",
    "\n",
    "Cette méthode encore appelée *canonical discriminant analysis* dans la littérature anglo-saxone est assez peu répandue et donc peu présente (procédure `CANDISC` de SAS/STAT), voire absente, des logiciels ou librairies. Son usage est néanmoins détaillé pour insister sur le rôle spécifique de la métrique de *Mahalabobis* qui se retrouve dans d'autres circonstances: analyse discriminante décisionnelle, $k$ plus proches voisins, détection d'anomalies.\n",
    "\n",
    "Sachant que l'AFD est une ACP, il suffirait de dérouler en R les calculs matriciels décrit dans  la [vignette](http://wikistat.fr/pdf/st-m-explo-afd.pdf) pour aboutir au résultat. Néanmoins le choix est fait d'utiliser les ressources déjà présentes de la fonction d'anayse discriminante décisionnelle `lda` de R afin d'obtenir une exécution plus efficace.\n",
    "\n",
    "Reda Boudjeltia de Bordeaux met à disposition une une [fonction R d'AFD](https://github.com/royceda/Data_Analysis) mais sans garantie de pérennité. \n",
    "\n",
    "## 2 Exemple jouet: les iris de Fisher\n",
    "Il s'agit d'un jeu de données historique le plus utilisé pour illustrer toute méthode exploratoire, inférentielle ou prédictive. \n",
    "### 2.1 Description élémentaire\n",
    "Les données sont déjà connues de R et décrivent 3 type d'iris par les longueurs et largeurs de leurs pétales et sépales."
   ]
  },
  {
   "cell_type": "code",
   "execution_count": null,
   "metadata": {},
   "outputs": [],
   "source": [
    "boxplot(iris[,1:4])"
   ]
  },
  {
   "cell_type": "code",
   "execution_count": null,
   "metadata": {},
   "outputs": [],
   "source": [
    "summary(iris)"
   ]
  },
  {
   "cell_type": "markdown",
   "metadata": {},
   "source": [
    "**Q** Quel est le graphique ci-dessous? Que dire de la séparation des classes?"
   ]
  },
  {
   "cell_type": "code",
   "execution_count": null,
   "metadata": {},
   "outputs": [],
   "source": [
    "options(repr.plot.width=5, repr.plot.height=5)\n",
    "pairs(iris[,1:4],col=iris$Species)"
   ]
  },
  {
   "cell_type": "markdown",
   "metadata": {},
   "source": [
    "### 2.2 ACP des iris"
   ]
  },
  {
   "cell_type": "code",
   "execution_count": null,
   "metadata": {},
   "outputs": [],
   "source": [
    "library(FactoMineR)\n",
    "acp=PCA(iris[,1:4], graph=F)\n",
    "options(repr.plot.width=4, repr.plot.height=4)\n",
    "plot(acp,choix=\"var\")"
   ]
  },
  {
   "cell_type": "markdown",
   "metadata": {},
   "source": [
    "**Q** Interprétation des axes."
   ]
  },
  {
   "cell_type": "code",
   "execution_count": null,
   "metadata": {},
   "outputs": [],
   "source": [
    "plot(acp, choix=\"ind\", habillage=\"ind\",col.hab=iris$Species)"
   ]
  },
  {
   "cell_type": "markdown",
   "metadata": {},
   "source": [
    "**Q** Quelle est la qualité de la représentation?\n",
    "\n",
    "**Q** Que dire de la séparation naturelle des classes?\n",
    "\n",
    "**Q** Que dire de la forme des nuages et donc de la structure de covariance intra-classe?\n",
    "\n",
    "**Q** Coment caractériser la classe rouge?\n",
    "### 2.3 AFD des iris\n",
    "\n",
    "#### Avec la fonction R ad'hoc\n",
    "L'option `type=\"GB\"` détrermine les diviseurs de la variance et le choix de la métrique de Mahalanobis comme inverse le matrice de variance intraclasse."
   ]
  },
  {
   "cell_type": "code",
   "execution_count": null,
   "metadata": {},
   "outputs": [],
   "source": [
    "source(\"Data/AFD_procedures.r\")\n",
    "X=iris[,1:4]\n",
    "y=as.factor(as.integer(iris[,5]))\n",
    "resAFD = AFD(X,y,type=\"GB\")"
   ]
  },
  {
   "cell_type": "code",
   "execution_count": null,
   "metadata": {},
   "outputs": [],
   "source": [
    "plotAFD(resAFD)"
   ]
  },
  {
   "cell_type": "markdown",
   "metadata": {},
   "source": [
    "**Q** Quel est la qualité de la représentation?\n",
    "\n",
    "**Q** En tenant compte des échelles des axes, que devient la forme des nuages des classes?\n",
    "\n",
    "**Q** Que représente le cosinus de l'angle entre un vecteur variable et un axe?\n",
    "\n",
    "**Q** Les résultats ci-dessous sont obtenus avec la fonction ad'hoc d'AFD ou avec celle `lda`. Comparer."
   ]
  },
  {
   "cell_type": "code",
   "execution_count": null,
   "metadata": {},
   "outputs": [],
   "source": [
    "library(MASS)\n",
    "# calcul de l'afd\n",
    "resLDA=lda(iris[,1:4],iris$Species)"
   ]
  },
  {
   "cell_type": "code",
   "execution_count": null,
   "metadata": {},
   "outputs": [],
   "source": [
    "resAFD$eig; resLDA$svd"
   ]
  },
  {
   "cell_type": "markdown",
   "metadata": {},
   "source": [
    "**Q** Que sont les valeurs 150-3 et 3-1 ci-dessous permettant de passer des résultats d'une analyse à l'autre."
   ]
  },
  {
   "cell_type": "code",
   "execution_count": null,
   "metadata": {},
   "outputs": [],
   "source": [
    "(resLDA$svd**2)/(150-3)*(3-1)"
   ]
  },
  {
   "cell_type": "code",
   "execution_count": null,
   "metadata": {},
   "outputs": [],
   "source": [
    "resLDA$scaling"
   ]
  },
  {
   "cell_type": "code",
   "execution_count": null,
   "metadata": {},
   "outputs": [],
   "source": [
    "resAFD$U"
   ]
  },
  {
   "cell_type": "markdown",
   "metadata": {},
   "source": [
    "**Q** Quelle est la dimension de l'espace de représentation?\n",
    "\n",
    "Un graphique est aussi proposé mais incomplet:"
   ]
  },
  {
   "cell_type": "code",
   "execution_count": null,
   "metadata": {},
   "outputs": [],
   "source": [
    "plot(resLDA, col=as.integer(iris$Species))"
   ]
  },
  {
   "cell_type": "markdown",
   "metadata": {},
   "source": [
    "**Q** Que manque-t-il dans ce graphique?\n",
    "\n",
    "**Q** Que dire de la forme des nuages en relation avec le choix de la métrique?\n",
    "\n",
    "Calcul des coordonnées des barycentres des classes dans le nouveau repère."
   ]
  },
  {
   "cell_type": "code",
   "execution_count": null,
   "metadata": {},
   "outputs": [],
   "source": [
    "pred=predict(resLDA,data=iris[,1:4])\n",
    "m=matrix(rep(0,6),nrow=3,ncol=2)\n",
    "for (i in 1:3){\n",
    " for (j in 1:2){m[i,j]=mean(pred$x[unclass(iris$Species)==i,j])}}"
   ]
  },
  {
   "cell_type": "code",
   "execution_count": null,
   "metadata": {},
   "outputs": [],
   "source": [
    "# graphe dans le premier plan\n",
    "color=as.integer(iris$Species)\n",
    "options(repr.plot.width=5, repr.plot.height=5)\n",
    "plot(pred$x[,1],pred$x[,2],type=\"p\",col=color,pch=19,cex=0.5,asp=1)\n",
    "abline(0,0,h=0); abline(0,0,v=0)\n",
    "text(m[,1],m[,2],labels=levels(iris$Species),cex=1,col=1:3)"
   ]
  },
  {
   "cell_type": "markdown",
   "metadata": {},
   "source": [
    "**Q** Que dire de la forme des nuages autour des barycentres? Remarquer le rôle important du paramètre `asp=1`.\n",
    "\n",
    "**Q** Que dire des capacités de discrimination des variables?\n",
    "\n",
    "Il manque encore une représentation des variables afin de mettre en évidence celles les plus liées aux axes et donc les plus discriminantes."
   ]
  },
  {
   "cell_type": "markdown",
   "metadata": {},
   "source": [
    "## 3 Données socio-économiques départementales *vs.* régionales\n",
    "Cette section se focalise sur l'exploration de données socio-économiques observées sur les différents départements regroupés en régions administratives. La question posée est: les régions définies géographiquement sont elles relativement homogènes sur ces aspects socio-économiques. Ce peut être une analyse éclairante de la volonté de supprimer les départements et regrouper des régions. On répond à cette question de façon indirecte et exploratoire, en cherchant à savoir si les variables socio-économiques permettent de discriminer les régions.\n",
    "\n",
    "\n",
    "### 3.1 Les données\n",
    "Les données proviennent du Groupe d'Étude et de Réflexion Inter-régional (GERI). Elles décrivent, quatre grands thèmes: la démographie, l'emploi, la fiscalité directe locale, la criminalité, de chacun des départements français métropolitains et la Corse. Les indicateurs ont été observés pendant l'année 1990, ils sont, pour la plupart, des taux calculés relativement à la population totale du département concerné. Voici leur liste~:\n",
    "- urbr: indicateur de concentration de la population mesurant le caractère urbain ou rural d''un département,\n",
    "- txcr: taux de croissance de la population sur la période intercensitaire 1982-1990,\n",
    "- jeun: part des 0-19 ans dans la population totale, \n",
    "- age: part des plus de 65 ans dans la population totale,\n",
    "- fe90: taux de fécondité (pour 1000) égal au nombre de naissances rapportés au nombre de femmes fécondes (15 à 49 ans) en moyenne triennale, \n",
    "- etra: part des étrangers dans la population totale, \n",
    "- chom: taux de chômage, \n",
    "- crim: taux de criminalité~: nombre de délits par habitant,\n",
    "- fisc: produit, en francs constants 1990 et par habitant des quatre taxes directes locales (professionnelle, habitation, foncier bâti, foncier non bâti).\n",
    "\n",
    "Parts de chaque profession et catégorie socioprofessionnelle (PCS) dans la population active occupée du département~:\n",
    "- agri: agriculteurs,\n",
    "- arti: artisans, \n",
    "- cadr: cadres supérieurs, \n",
    "- empl: employés, \n",
    "- ouvr: ouvriers, \n",
    "- prof: professions intermédiaires,\n",
    "\n",
    "En plus de ces variables, la première colonne identifie le département, la deuxième sa région avant le regroupement de 2016, la dernière une proposition de regroupement géographique en 6 grandes régions différentes de celles choisies en 2016.\n",
    "\n",
    "Une première étape descriptive n'a pas conduit à des re-transformations des variables. \n",
    "\n",
    "**Q** Celles-ci sont, pour la plupart, déjà des taux, pourquoi?. \n",
    "\n",
    "**Q** dan le même ordre d'idée, les départements d'Ile de France sont exclus. Pourquoi?\n",
    "\n",
    "Une ACP permet de se faire une première idée sur l'organisation de ces données. \n",
    "\n",
    "## 3.2 Analyse en composantes principales"
   ]
  },
  {
   "cell_type": "code",
   "execution_count": null,
   "metadata": {},
   "outputs": [],
   "source": [
    "depart=read.csv(\"Data/depart.csv\",row.names=1)\n",
    "summary(depart)"
   ]
  },
  {
   "cell_type": "code",
   "execution_count": null,
   "metadata": {},
   "outputs": [],
   "source": [
    "acp=PCA(depart[,3:17],graph=F,ncp=10)\n",
    "options(repr.plot.width=4, repr.plot.height=3)\n",
    "boxplot(acp$ind$coord)"
   ]
  },
  {
   "cell_type": "markdown",
   "metadata": {},
   "source": [
    "**Q** Quelle dimension retenir?"
   ]
  },
  {
   "cell_type": "code",
   "execution_count": null,
   "metadata": {},
   "outputs": [],
   "source": [
    "options(repr.plot.width=5, repr.plot.height=5)\n",
    "plot(acp,choix=\"var\")"
   ]
  },
  {
   "cell_type": "markdown",
   "metadata": {},
   "source": [
    "**Q** Interprétation des axes?"
   ]
  },
  {
   "cell_type": "code",
   "execution_count": null,
   "metadata": {},
   "outputs": [],
   "source": [
    "plot(acp, choix=\"ind\", habillage=\"ind\",col.hab=depart$groupreg)"
   ]
  },
  {
   "cell_type": "markdown",
   "metadata": {},
   "source": [
    "**Q** Homogénéité des classes?"
   ]
  },
  {
   "cell_type": "markdown",
   "metadata": {},
   "source": [
    "## 3.3 Analyse factorielle discriminante\n",
    "On se propose de mettre en évidence les plus grandes disparités inter-régionales et donc de rechercher les variables ou combinaisons de variables expliquant au mieux le découpage régional. Autre question: les régions administratives sont-elles homogènes d'un point de vue socio-économique. Pour simplifier, nous procédons à des regroupements afin de construire des régions moins nombreuses comprenant des nombres de départements plus semblables. La région Ile de France, trop particulière et donc trop facile à discriminer, a été laissée à part. Les regroupements proposés sont différents de ceux finalement adoptés en 2016 mais l'objectif est finalement assez similaire."
   ]
  },
  {
   "cell_type": "code",
   "execution_count": null,
   "metadata": {},
   "outputs": [],
   "source": [
    "library(MASS)\n",
    "# calcul de l'afd\n",
    "dep.afd=lda(depart[,3:17],depart$groupreg)\n",
    "print(dep.afd)"
   ]
  },
  {
   "cell_type": "markdown",
   "metadata": {},
   "source": [
    "Comme précédemmnent, le graphique inclus est peu adapté, il est préférable de construire à la main le plan factoriel"
   ]
  },
  {
   "cell_type": "code",
   "execution_count": null,
   "metadata": {},
   "outputs": [],
   "source": [
    "# calcul des coordonnées barycentres\n",
    "dep.pred=predict(dep.afd,data=depart[,3:17])\n",
    "m=matrix(rep(0,16),nrow=8,ncol=2)\n",
    "for (i in 1:8){\n",
    " for (j in 1:2){\n",
    " m[i,j]=mean(dep.pred$x[unclass(depart$groupreg)==i,j])}}"
   ]
  },
  {
   "cell_type": "code",
   "execution_count": null,
   "metadata": {},
   "outputs": [],
   "source": [
    "# graphe dans les axes 1 et 2\n",
    "color=as.integer(depart$groupreg)\n",
    "plot(dep.pred$x[,1],dep.pred$x[,2],cex=0.001)\n",
    "text(dep.pred$x[,1],dep.pred$x[,2],labels=row.names(depart),col=color)\n",
    "abline(0,0,h=0); abline(0,0,v=0)\n",
    "text(m[,1],m[,2],labels=levels(depart$groupreg),cex=1,col=1:8)"
   ]
  },
  {
   "cell_type": "markdown",
   "metadata": {},
   "source": [
    "**Q** Quelles sont les régions géographiques économiquement homogènes? Proches? \n",
    "\n",
    "**Q** Quelle est la région la plus disparate."
   ]
  }
 ],
 "metadata": {
  "kernelspec": {
   "display_name": "R",
   "language": "R",
   "name": "ir"
  },
  "language_info": {
   "codemirror_mode": "r",
   "file_extension": ".r",
   "mimetype": "text/x-r-source",
   "name": "R",
   "pygments_lexer": "r",
   "version": "3.5.1"
  }
 },
 "nbformat": 4,
 "nbformat_minor": 1
}
