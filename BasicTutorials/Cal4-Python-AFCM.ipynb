{
 "cells": [
  {
   "cell_type": "markdown",
   "metadata": {},
   "source": [
    "<center>\n",
    "<a href=\"http://www.insa-toulouse.fr/\" ><img src=\"http://www.math.univ-toulouse.fr/~besse/Wikistat/Images/logo-insa.jpg\" style=\"float:left; max-width: 120px; display: inline\" alt=\"INSA\"/></a> \n",
    "\n",
    "<a href=\"http://wikistat.fr/\" ><img src=\"http://www.math.univ-toulouse.fr/~besse/Wikistat/Images/wikistat.jpg\" style=\"float:right; max-width: 250px; display: inline\"  alt=\"Wikistat\"/></a>\n",
    "</center>"
   ]
  },
  {
   "cell_type": "markdown",
   "metadata": {},
   "source": [
    "# [Scénarios d'Exploration Statistique](https://github.com/wikistat/Exploration)"
   ]
  },
  {
   "cell_type": "markdown",
   "metadata": {},
   "source": [
    "# Analyse factorielle multiple des correspondances ([AFCM](http://wikistat.fr/pdf/st-m-explo-afcm.pdf)) avec <a href=\"https://www.python.org/\"><img src=\"https://upload.wikimedia.org/wikipedia/commons/thumb/f/f8/Python_logo_and_wordmark.svg/390px-Python_logo_and_wordmark.svg.png\" style=\"max-width: 150px; display: inline\" alt=\"Python\"/></a> \n",
    "**Résumé**: L'[analyse factorielle multiple des correspondance](http://wikistat.fr/pdf/st-m-explo-afcm.pdf) (AFCM) n'est pas disponible dans la librairie `scikit-learn` ni dans tout autre librairie officielle. Elle est obtenue en utilisant celle plus fruste: [`MCA`](https://github.com/esafak/mca). Illustration sommaire de l'[AFCM](http://wikistat.fr/pdf/st-m-explo-afcm.pdf), sur des données \"jouet\" puis sur celles du naufrage du Titanic.\n",
    "\n",
    "## 1 Disponibilité de l'AFCM\n",
    "L'AFCM est une méthode proposée en France par Benzécri en 1982 avant d'être diffusée en langue anglaise de Leeuw (1985) puis par Greenacre à partir de 2005 sans pour autant être très utilisée et donc présente dans la plupart des logiciels (sauf SAS). Elle est très développée dans la librairie R `factoMineR` au sein de l'Agrocampus de Rennes mais absente des principales lbrairies en Python plus concernées par des données physiques, signaux ou images. \n",
    "\n",
    "Il ne serait pas difficile de recontruire cette analyse en suivant le déroulement des calculs matriciels: SVD du tableau disjonctif complet. Néanmoins, ce qui reste le plus compliqué est la gestion des types possibles de données : table de contingence, tableau de Burt, tableau disjontif, en association ou nom à la classe `DataFrame`, ainsi que la production de graphiques de qualité. Il est aussi possible d'exploiter un embryon de programme: [`MCA`](https://github.com/esafak/mca)  en installant la librairie correspondante par la commande `pip install --user mca` selon l'installation, ou en chargeant le seul module [`mca.py`](http://wikistat/programmes/mca.py) dans le répertoire courant. \n",
    "\n",
    "Comme pour l'ACP ou l'AFD, il est bienvenu de contrôler les résultats fournis sur un exemple jouet avant d'aborder des données plus complexes.\n",
    "\n",
    "Il reste du travail pour: traiter directement un objet `DataFrame`, accepter des variables siupplémentaires, construire des fonction graphiques de qualité...\n",
    "\n",
    "## 2 AFCM de données jouet\n",
    "### 2.1 Lecture des données"
   ]
  },
  {
   "cell_type": "code",
   "execution_count": null,
   "metadata": {},
   "outputs": [],
   "source": [
    "# Librairies\n",
    "import pandas as pd\n",
    "import matplotlib.pyplot as plt\n",
    "%matplotlib inline\n",
    "\n",
    "# Lire les données avec plusieurs espaces comme séparateur\n",
    "# oublier la première colonne et utilisaer la première ligne pour le nom des variables\n",
    "datFic=pd.read_table('Data/afcfic.dat',header=0,sep='\\s+',usecols=[1,2])\n",
    "datFic"
   ]
  },
  {
   "cell_type": "code",
   "execution_count": null,
   "metadata": {},
   "outputs": [],
   "source": [
    "# Changer le type\n",
    "datFic[\"csp\"]=pd.Categorical(datFic[\"csp\"],ordered=False)\n",
    "datFic[\"sport\"]=pd.Categorical(datFic[\"sport\"],ordered=False)\n",
    "datFic"
   ]
  },
  {
   "cell_type": "markdown",
   "metadata": {},
   "source": [
    "### 2.2 Vérification"
   ]
  },
  {
   "cell_type": "code",
   "execution_count": null,
   "metadata": {},
   "outputs": [],
   "source": [
    "datFic.describe()"
   ]
  },
  {
   "cell_type": "code",
   "execution_count": null,
   "metadata": {},
   "outputs": [],
   "source": [
    "pd.crosstab(datFic[\"csp\"],datFic[\"sport\"])"
   ]
  },
  {
   "cell_type": "markdown",
   "metadata": {},
   "source": [
    "### 2.3 Tableau disjonctif\n",
    "La documentation de la fonction `MCA` est inexistante. Cette fonction peut en principe analyser un `DataFrame` mais la gestion de variables qualitatives complexes semble déffectueuse. Il est préférable d'anticiper en construisant les variables indicatrices (*dummies*)."
   ]
  },
  {
   "cell_type": "code",
   "execution_count": null,
   "metadata": {},
   "outputs": [],
   "source": [
    "# Indicatrices\n",
    "dc=pd.DataFrame(pd.get_dummies(datFic))\n",
    "dc.head()"
   ]
  },
  {
   "cell_type": "markdown",
   "metadata": {},
   "source": [
    "### 2.4 AFCM"
   ]
  },
  {
   "cell_type": "code",
   "execution_count": null,
   "metadata": {},
   "outputs": [],
   "source": [
    "from mca import MCA\n",
    "mcaFic=MCA(dc,benzecri=False)\n",
    "# Valeurs singulières\n",
    "print(mcaFic.L)"
   ]
  },
  {
   "cell_type": "markdown",
   "metadata": {},
   "source": [
    "**Q** De l'AFC de quel tableau sont ces valeurs propres? (comparer avec R).\n",
    "\n",
    "**Q** Que sont les tableaux ci-dessous?"
   ]
  },
  {
   "cell_type": "code",
   "execution_count": null,
   "metadata": {},
   "outputs": [],
   "source": [
    "print(mcaFic.fs_c())"
   ]
  },
  {
   "cell_type": "code",
   "execution_count": null,
   "metadata": {},
   "outputs": [],
   "source": [
    "print(mcaFic.fs_r())"
   ]
  },
  {
   "cell_type": "markdown",
   "metadata": {},
   "source": [
    "La fonction `MCA` calcule également des contributions, cosinus carrés et \"parts de variance expliquée\". \n",
    "### 2.5 Graphiques de l'AFCM"
   ]
  },
  {
   "cell_type": "code",
   "execution_count": null,
   "metadata": {},
   "outputs": [],
   "source": [
    "plt.scatter(mcaFic.fs_c()[:, 0],mcaFic.fs_c()[:, 1])\n",
    "for i, j, nom in zip(mcaFic.fs_c()[:, 0],mcaFic.fs_c()[:, 1], dc.columns):\n",
    "       plt.text(i, j, nom)\n",
    "plt.show()"
   ]
  },
  {
   "cell_type": "code",
   "execution_count": null,
   "metadata": {},
   "outputs": [],
   "source": [
    "plt.scatter(mcaFic.fs_r()[:, 0],mcaFic.fs_r()[:, 1])\n",
    "for i, j, nom in zip(mcaFic.fs_r()[:, 0],mcaFic.fs_r()[:, 1], dc.index):\n",
    "       plt.text(i, j, nom)\n",
    "plt.show()"
   ]
  },
  {
   "cell_type": "markdown",
   "metadata": {},
   "source": [
    "## 3 Données Titanic\n",
    "### 3.1 Lecture des données\n",
    "Les données sur le naufrage du Titanic sont décrites dans le calepin d'introduction à Python et consacré à `pandas`. Reconstruire la table de données en lisant le fichier `.csv`."
   ]
  },
  {
   "cell_type": "code",
   "execution_count": null,
   "metadata": {},
   "outputs": [],
   "source": [
    "# Lire les données\n",
    "df=pd.read_csv('Data/titanic.csv',skiprows=1,header=None,usecols=[1,2,4,5,9,11],\n",
    "  names=[\"Surv\",\"Classe\",\"Genre\",\"Age\",\"Prix\",\"Port\"],dtype={\"Surv\":object,\"Classe\":object,\"Genre\":object,\"Port\":object})\n",
    "df.head()"
   ]
  },
  {
   "cell_type": "code",
   "execution_count": null,
   "metadata": {},
   "outputs": [],
   "source": [
    "df.shape # dimensions"
   ]
  },
  {
   "cell_type": "code",
   "execution_count": null,
   "metadata": {},
   "outputs": [],
   "source": [
    "# Redéfinir les types \n",
    "df[\"Surv\"]=pd.Categorical(df[\"Surv\"],ordered=False)\n",
    "df[\"Classe\"]=pd.Categorical(df[\"Classe\"],ordered=False)\n",
    "df[\"Genre\"]=pd.Categorical(df[\"Genre\"],ordered=False)\n",
    "df[\"Port\"]=pd.Categorical(df[\"Port\"],ordered=False)\n",
    "df.dtypes"
   ]
  },
  {
   "cell_type": "markdown",
   "metadata": {},
   "source": [
    "### 3.2 Données manquantes\n",
    "\n",
    "Vérifier que les données contiennent des valeurs manquantes, faire des imputations à la médiane d'une valeur quantitative manquante ou la modalité la plus fréquente d'une valeur qualitative absente."
   ]
  },
  {
   "cell_type": "code",
   "execution_count": null,
   "metadata": {},
   "outputs": [],
   "source": [
    "df.count()"
   ]
  },
  {
   "cell_type": "code",
   "execution_count": null,
   "metadata": {},
   "outputs": [],
   "source": [
    "# imputation des valeurs manquantes\n",
    "df[\"Age\"]=df[\"Age\"].fillna(df[\"Age\"].median())\n",
    "df.Port=df[\"Port\"].fillna(\"S\")"
   ]
  },
  {
   "cell_type": "markdown",
   "metadata": {},
   "source": [
    "Continuer en transformant les variables.\n",
    "### 2.3 Transformations\n",
    "Les variabels quantitatives sont découpées en classes pour exécuter ue AFCM sur toutes les variables. Les modalités des variables qualitatives sont renommées afin de pouvoir construire des graphiques explicites."
   ]
  },
  {
   "cell_type": "code",
   "execution_count": null,
   "metadata": {},
   "outputs": [],
   "source": [
    "# Discrétiser les variables quantitatives\n",
    "df[\"AgeQ\"]=pd.qcut(df.Age,3,labels=[\"Ag1\",\"Ag2\",\"Ag3\"])\n",
    "df[\"PrixQ\"]=pd.qcut(df.Prix,3,labels=[\"Pr1\",\"Pr2\",\"Pr3\"])\n",
    "# redéfinir les noms des modalités \n",
    "df[\"Surv\"]=df[\"Surv\"].cat.rename_categories([\"Vnon\",\"Voui\"])\n",
    "df[\"Classe\"]=df[\"Classe\"].cat.rename_categories([\"Cl1\",\"Cl2\",\"Cl3\"])\n",
    "df[\"Genre\"]=df[\"Genre\"].cat.rename_categories([\"Gfem\",\"Gmas\"])\n",
    "df[\"Port\"]=df[\"Port\"].cat.rename_categories([\"Pc\",\"Pq\",\"Ps\"])\n",
    "df.head()"
   ]
  },
  {
   "cell_type": "markdown",
   "metadata": {},
   "source": [
    "### 2.4 [Analyse multiple des correspondances](http://wikistat.fr/pdf/st-m-explo-afcm.pdf)\n",
    "Les données \"Titanic\" regroupent des variables qualitatives et quantitatives. Après recodage en classes (discrétisation) des variables quantitatives, la table obtenue se prête à une [analyse](http://wikistat.fr/pdf/st-m-explo-afcm.pdf) factorielle multiple des correspondances. "
   ]
  },
  {
   "cell_type": "code",
   "execution_count": null,
   "metadata": {},
   "outputs": [],
   "source": [
    "# Suppression des variables quantitatives\n",
    "# pour l'AFCM\n",
    "df_q=df.drop([\"Age\",\"Prix\"],axis=1)\n",
    "df_q.head()\n",
    "# Indicatrices\n",
    "dc=pd.DataFrame(pd.get_dummies(df_q[[\"Surv\",\"Classe\",\"Genre\",\"Port\",\"AgeQ\",\"PrixQ\"]]))\n",
    "dc.head()"
   ]
  },
  {
   "cell_type": "markdown",
   "metadata": {},
   "source": [
    "Calcul de l'AFCM et représentations graphiques."
   ]
  },
  {
   "cell_type": "code",
   "execution_count": null,
   "metadata": {},
   "outputs": [],
   "source": [
    "mca_df=MCA(dc,benzecri=False)\n",
    "# Valeurs singulières\n",
    "print(mca_df.L)"
   ]
  },
  {
   "cell_type": "code",
   "execution_count": null,
   "metadata": {},
   "outputs": [],
   "source": [
    "# Composantes principales des colonnes (modalités)\n",
    "print(mca_df.fs_c())"
   ]
  },
  {
   "cell_type": "code",
   "execution_count": null,
   "metadata": {},
   "outputs": [],
   "source": [
    "# Premier plan principal\n",
    "col=[1,1,2,2,2,3,3,5,5,5,6,6,6,7,7,7]\n",
    "plt.scatter(mca_df.fs_c()[:, 0],mca_df.fs_c()[:, 1],c=col)\n",
    "for i, j, nom in zip(mca_df.fs_c()[:, 0],mca_df.fs_c()[:, 1], dc.columns):\n",
    "       plt.text(i, j, nom)\n",
    "plt.show()"
   ]
  },
  {
   "cell_type": "markdown",
   "metadata": {},
   "source": [
    "Comme pour l'ACP et au contraire de R (cf. [`FactoMineR`](http://factominer.free.fr/)), les librairies Python sont pauvres en fonctions graphiques directement adaptées à l'AFCM. Le graphique est construit à partir des fonctions de `MatPlotLib`. Remarquer l'évidente redondance entre la variable `Prix` et celle `Classe`.\n",
    "\n",
    "**Q** Tenter une interprétation des correspondances entre les modalités.  Il serait opportun d'en déclarer une supplémentaire; cela semble possible dans la fonction `MCA` mais n'est pas documenté."
   ]
  }
 ],
 "metadata": {
  "hide_input": false,
  "kernelspec": {
   "display_name": "Python 3",
   "language": "python",
   "name": "python3"
  },
  "language_info": {
   "codemirror_mode": {
    "name": "ipython",
    "version": 3
   },
   "file_extension": ".py",
   "mimetype": "text/x-python",
   "name": "python",
   "nbconvert_exporter": "python",
   "pygments_lexer": "ipython3",
   "version": "3.6.6"
  },
  "toc": {
   "nav_menu": {
    "height": "512px",
    "width": "252px"
   },
   "navigate_menu": true,
   "number_sections": true,
   "sideBar": true,
   "threshold": "10",
   "toc_cell": false,
   "toc_section_display": "block",
   "toc_window_display": false
  }
 },
 "nbformat": 4,
 "nbformat_minor": 1
}
