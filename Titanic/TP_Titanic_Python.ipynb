{
 "cells": [
  {
   "cell_type": "markdown",
   "id": "5163e9f2-71e5-4a33-b628-432e5ca66275",
   "metadata": {
    "id": "5163e9f2-71e5-4a33-b628-432e5ca66275"
   },
   "source": [
    "# Factor Analysis of Mixed Data with &nbsp;<a href=\"https://www.python.org/\"><img src=\"https://s3.dualstack.us-east-2.amazonaws.com/pythondotorg-assets/media/community/logos/python-logo-only.png\" style=\"max-width: 35px; display: inline\" alt=\"R\"/></a>\n",
    "\n",
    "## _Titanic Survival Prediction_\n",
    "\n",
    "---\n",
    "\n",
    "In this tutorial, we will use the [titanic dataset](https://www.kaggle.com/competitions/titanic/data), from Kaggle competition \"_Titanic - Machine Learning from Disaster_\".\n",
    "\n",
    "Our aim here is to mobilise several dimension reduction algorithms covered in the lesson (PCA, MCA) and attempt to predict passengers' chances of survival.\n",
    "As prediction algorithms are not at the heart of this course (unlike Machine Learning!), we will not optimise this part: we could implement much more efficient algorithms than the naive ones proposed here.\n",
    "\n",
    "For this tutorial, we will be using the [`prince`](https://maxhalford.github.io/prince/) package, based on the same syntax as scikit-learn.\n",
    "\n",
    "---"
   ]
  },
  {
   "cell_type": "code",
   "execution_count": null,
   "id": "f-C8iU92qvGv",
   "metadata": {
    "colab": {
     "base_uri": "https://localhost:8080/"
    },
    "id": "f-C8iU92qvGv",
    "outputId": "8b01f7ef-c756-4352-bbf8-b33c2e3b2411",
    "scrolled": true
   },
   "outputs": [],
   "source": [
    "# pip install prince"
   ]
  },
  {
   "cell_type": "code",
   "execution_count": null,
   "id": "a3d7c39f-b032-4093-9b64-720937d552bd",
   "metadata": {
    "id": "a3d7c39f-b032-4093-9b64-720937d552bd"
   },
   "outputs": [],
   "source": [
    "import pandas as pd\n",
    "import numpy as np\n",
    "import prince\n",
    "\n",
    "import matplotlib.pyplot as plt\n",
    "import seaborn as sns"
   ]
  },
  {
   "cell_type": "markdown",
   "id": "16581131-24e2-4fd6-a737-28dcecac4a97",
   "metadata": {
    "id": "16581131-24e2-4fd6-a737-28dcecac4a97"
   },
   "source": [
    "---\n",
    "## Data Loading\n",
    "\n",
    "First of all, we need to load the data and clean it up to make it easier to use. The Titanic dataset is available in `Seaborn` as the `titanic` datase. It consists of the following columns:\n",
    "\n",
    "- survived: Survival status (0 = No, 1 = Yes)\n",
    "- pclass: Passenger class (1 = 1st class, 2 = 2nd class, 3 = 3rd class)\n",
    "- sex: Passenger’s gender\n",
    "- age: Passenger’s age\n",
    "- sibsp: Number of siblings/spouses aboard\n",
    "- parch: Number of parents/children aboard\n",
    "- fare: Fare paid for the ticket\n",
    "- embarked: Port of embarkation (C = Cherbourg, Q = Queenstown, S = Southampton)\n",
    "- class: Equivalent to pclass (1 = 1st class, 2 = 2nd class, 3 = 3rd class)\n",
    "- who: Passenger’s category (man, woman, child)\n",
    "- adult_male: Whether the passenger is an adult male or not (True or False)\n",
    "- deck: Cabin deck\n",
    "- embark_town: Port of embarkation (Cherbourg, Queenstown, Southampton)\n",
    "- alive: Survival status (yes or no)\n",
    "- alone: Whether the passenger is alone or not (True or False)"
   ]
  },
  {
   "cell_type": "code",
   "execution_count": null,
   "id": "bd8aa5f3-21fa-44c5-8cd4-b2ec94b1c1c1",
   "metadata": {
    "colab": {
     "base_uri": "https://localhost:8080/",
     "height": 226
    },
    "id": "bd8aa5f3-21fa-44c5-8cd4-b2ec94b1c1c1",
    "outputId": "7f326e24-3ae7-4caf-fdc6-ce76be69ff7d"
   },
   "outputs": [],
   "source": [
    "# Load Data\n",
    "\n",
    "titanic = sns.load_dataset(\"titanic\")\n",
    "titanic.head()"
   ]
  },
  {
   "cell_type": "markdown",
   "id": "3625f74a-5f41-4aaa-a5e6-abcd487a13f4",
   "metadata": {
    "id": "3625f74a-5f41-4aaa-a5e6-abcd487a13f4"
   },
   "source": [
    "##### <span style=\"color:purple\">**Todo:** Clean the data.</span>\n",
    "\n",
    "1. Remove any redundant variables\n",
    "\n",
    "2. Manage missing values.\n",
    "    - Check whether or not the data contain missing values,\n",
    "    - Where this seems reasonable (not too many missing values, not too many modalities in the case of a categorical variable, etc.):\n",
    "        - Imput to the median for missing quantitative values,\n",
    "        - Imput to the most frequent modality for missing qualitative values.    <br><br>\n",
    "        \n",
    "3. Create a new 'family_size' variable that counts the number of siblings/spouses and parents/children aboard.\n",
    "    \n",
    "---\n",
    "\n",
    "The command `print(titanic.isnull().sum())` should produce the following output:\n",
    "```\n",
    "survived       0\n",
    "sex            0\n",
    "age            0\n",
    "sibsp          0\n",
    "parch          0\n",
    "fare           0\n",
    "embarked       0\n",
    "class          0\n",
    "who            0\n",
    "adult_male     0\n",
    "alone          0\n",
    "family_size    0\n",
    "```"
   ]
  },
  {
   "cell_type": "code",
   "execution_count": null,
   "id": "2f735b6c-b2b3-4784-8ff4-b47454c6adae",
   "metadata": {
    "id": "2f735b6c-b2b3-4784-8ff4-b47454c6adae"
   },
   "outputs": [],
   "source": [
    "### TO BE COMPLETED ###\n",
    "\n",
    "[...]\n",
    "\n",
    "# --- #\n",
    "\n",
    "print('')\n",
    "print('=== Checking ===')\n",
    "print(titanic.isnull().sum())"
   ]
  },
  {
   "cell_type": "code",
   "execution_count": null,
   "id": "a0948849-5769-4e50-ad3f-c6ae45aa6d8a",
   "metadata": {
    "colab": {
     "base_uri": "https://localhost:8080/",
     "height": 1000
    },
    "id": "a0948849-5769-4e50-ad3f-c6ae45aa6d8a",
    "outputId": "0e00b0b8-1a84-4924-a8ae-118cb6c8ade8",
    "tags": []
   },
   "outputs": [],
   "source": [
    "# %load solutions/data/clean_data.py"
   ]
  },
  {
   "cell_type": "markdown",
   "id": "813a8914-6534-4aa6-bcb6-3665ccfa76a3",
   "metadata": {
    "id": "813a8914-6534-4aa6-bcb6-3665ccfa76a3"
   },
   "source": [
    "##### <span style=\"color:purple\">**Todo:** Outliers detection.</span>\n",
    "\n",
    "Based on the two figures below, would you say that the data shows outliers? If so, remove them."
   ]
  },
  {
   "cell_type": "code",
   "execution_count": null,
   "id": "979dc237",
   "metadata": {
    "scrolled": true
   },
   "outputs": [],
   "source": [
    "# Fare\n",
    "sns.catplot(data=titanic, x='fare', hue='class')\n",
    "plt.title('Fare according to the class')\n",
    "plt.show()\n",
    "\n",
    "# Age\n",
    "sns.catplot(data=titanic, x='age', hue='class')\n",
    "plt.title('Age according to the class')\n",
    "plt.show()"
   ]
  },
  {
   "cell_type": "code",
   "execution_count": null,
   "id": "d5fb9de5-6f78-4775-9630-4cac6a0e51cb",
   "metadata": {
    "id": "d5fb9de5-6f78-4775-9630-4cac6a0e51cb"
   },
   "outputs": [],
   "source": [
    "### TO BE COMPLETED ###\n",
    "\n",
    "[...]"
   ]
  },
  {
   "cell_type": "code",
   "execution_count": null,
   "id": "abecde0e-2b2b-4ba6-8012-136078244387",
   "metadata": {
    "colab": {
     "base_uri": "https://localhost:8080/",
     "height": 424
    },
    "id": "abecde0e-2b2b-4ba6-8012-136078244387",
    "outputId": "9e548940-011a-43db-c0fa-d92844d995e1"
   },
   "outputs": [],
   "source": [
    "# %load solutions/data/outliers.py"
   ]
  },
  {
   "cell_type": "markdown",
   "id": "b7495c2d-c670-471d-8416-6b5e0ff2023c",
   "metadata": {
    "id": "b7495c2d-c670-471d-8416-6b5e0ff2023c"
   },
   "source": [
    "##### <span style=\"color:purple\">**Todo:** Explore the profile of the passengers on the titanic.</span>\n",
    "\n",
    "1. View the distribution of the passenger according to their status (man, woman, child), according to their class, _etc._\n",
    "2. View the breakdown of passengers who survived the shipwreck\n",
    "3. How does the survival rate change depending on the class and type of passenger (male, female, child)?\n",
    "4. What is the age profile of passengers according to the class of their ticket?\n",
    "5. Same question with ticket prices\n",
    "6. Do ticket prices seem to depend on the age of passengers?"
   ]
  },
  {
   "cell_type": "code",
   "execution_count": null,
   "id": "e0d09f9c-606b-449d-8792-bc108705bcad",
   "metadata": {},
   "outputs": [],
   "source": [
    "# Passenger distribution\n",
    "\n",
    "### TO BE COMPLETED ###\n",
    "\n",
    "[...]"
   ]
  },
  {
   "cell_type": "code",
   "execution_count": null,
   "id": "4720623b-f80b-4ba4-a9aa-a3cd49c95503",
   "metadata": {},
   "outputs": [],
   "source": [
    "# %load solutions/data/passengers.py"
   ]
  },
  {
   "cell_type": "code",
   "execution_count": null,
   "id": "e69efc8f-8c3f-4c2e-b023-48e02a8cc3a7",
   "metadata": {
    "id": "e69efc8f-8c3f-4c2e-b023-48e02a8cc3a7"
   },
   "outputs": [],
   "source": [
    "# Survival Count\n",
    "\n",
    "### TO BE COMPLETED ###\n",
    "\n",
    "[...]"
   ]
  },
  {
   "cell_type": "code",
   "execution_count": null,
   "id": "e0bf4def-9409-4033-a15c-0ac99236e6dd",
   "metadata": {
    "colab": {
     "base_uri": "https://localhost:8080/",
     "height": 529
    },
    "id": "e0bf4def-9409-4033-a15c-0ac99236e6dd",
    "outputId": "ce6a8191-d342-4910-d6bd-ec82c42fecb4"
   },
   "outputs": [],
   "source": [
    "# %load solutions/data/survival.py"
   ]
  },
  {
   "cell_type": "code",
   "execution_count": null,
   "id": "d5b315f5-c408-4f57-8ea4-b7bc41ca97d6",
   "metadata": {},
   "outputs": [],
   "source": [
    "# Survival depending on sex and class\n",
    "\n",
    "### TO BE COMPLETED ###\n",
    "\n",
    "[...]"
   ]
  },
  {
   "cell_type": "code",
   "execution_count": null,
   "id": "394101b1-efc4-4662-a789-c97cf31b480f",
   "metadata": {
    "colab": {
     "base_uri": "https://localhost:8080/",
     "height": 354
    },
    "id": "394101b1-efc4-4662-a789-c97cf31b480f",
    "outputId": "c65c4232-3ff0-450e-b21c-60f98b207f5d",
    "tags": []
   },
   "outputs": [],
   "source": [
    "# %load solutions/data/survival_sex_class.py"
   ]
  },
  {
   "cell_type": "code",
   "execution_count": null,
   "id": "73f80dbd-f1f6-4e2d-81d6-a921d11cbb54",
   "metadata": {},
   "outputs": [],
   "source": [
    "# Age vs. Class\n",
    "\n",
    "### TO BE COMPLETED ###\n",
    "\n",
    "[...]"
   ]
  },
  {
   "cell_type": "code",
   "execution_count": null,
   "id": "39bbd4cd-823b-4e64-8cad-fd91dd44670f",
   "metadata": {
    "colab": {
     "base_uri": "https://localhost:8080/",
     "height": 529
    },
    "id": "39bbd4cd-823b-4e64-8cad-fd91dd44670f",
    "outputId": "b2742da1-da27-4a42-da95-70caa777a279",
    "scrolled": true
   },
   "outputs": [],
   "source": [
    "# %load solutions/data/aga_class.py"
   ]
  },
  {
   "cell_type": "code",
   "execution_count": null,
   "id": "6eb8b87e-51bf-4c8b-b7e2-2fc3614dd40b",
   "metadata": {},
   "outputs": [],
   "source": [
    "# Class vs. Fare\n",
    "\n",
    "### TO BE COMPLETED ###\n",
    "\n",
    "[...]"
   ]
  },
  {
   "cell_type": "code",
   "execution_count": null,
   "id": "7c691390-03ab-490c-9174-ada775943f21",
   "metadata": {
    "colab": {
     "base_uri": "https://localhost:8080/",
     "height": 529
    },
    "id": "7c691390-03ab-490c-9174-ada775943f21",
    "outputId": "7290e433-4dfa-400d-a4f3-290dba0b3624",
    "scrolled": true,
    "tags": []
   },
   "outputs": [],
   "source": [
    "# %load solutions/data/class_fare.py"
   ]
  },
  {
   "cell_type": "code",
   "execution_count": null,
   "id": "4c5debb2-2c09-478a-a855-71c5b1707021",
   "metadata": {},
   "outputs": [],
   "source": [
    "# Age vs. Fare\n",
    "\n",
    "### TO BE COMPLETED ###\n",
    "\n",
    "[...]"
   ]
  },
  {
   "cell_type": "code",
   "execution_count": null,
   "id": "52427f4d-5330-409c-8c6c-e54ce2e92a81",
   "metadata": {
    "colab": {
     "base_uri": "https://localhost:8080/",
     "height": 472
    },
    "id": "52427f4d-5330-409c-8c6c-e54ce2e92a81",
    "outputId": "c591a4cc-8733-469d-ae67-e683fc333abc"
   },
   "outputs": [],
   "source": [
    "# %load solutions/data/age_fare.py"
   ]
  },
  {
   "cell_type": "markdown",
   "id": "581e873d-e35a-4734-9de1-cea12259f272",
   "metadata": {
    "id": "581e873d-e35a-4734-9de1-cea12259f272"
   },
   "source": [
    "##### <span style=\"color:purple\">**Question:** Under what age are passengers considered to be children?</span>"
   ]
  },
  {
   "cell_type": "code",
   "execution_count": null,
   "id": "bfd6e408-ecaf-4414-a368-b5da254eb160",
   "metadata": {
    "id": "bfd6e408-ecaf-4414-a368-b5da254eb160"
   },
   "outputs": [],
   "source": [
    "### TO BE COMPLETED ###\n",
    "\n",
    "[...]"
   ]
  },
  {
   "cell_type": "code",
   "execution_count": null,
   "id": "4e849a1c-d73d-438b-8163-808dd2fa00c5",
   "metadata": {
    "colab": {
     "base_uri": "https://localhost:8080/"
    },
    "id": "4e849a1c-d73d-438b-8163-808dd2fa00c5",
    "outputId": "bac1ce23-4839-402d-9331-3e8ab5358b30"
   },
   "outputs": [],
   "source": [
    "# %load solutions/data/children.py"
   ]
  },
  {
   "cell_type": "markdown",
   "id": "b3ed1987-3f73-421d-ac19-a2a468dd9e9a",
   "metadata": {
    "id": "b3ed1987-3f73-421d-ac19-a2a468dd9e9a"
   },
   "source": [
    "##### <span style=\"color:purple\">**Todo:** Visualize correlations between features.</span>\n",
    "\n",
    "- What do you think?"
   ]
  },
  {
   "cell_type": "code",
   "execution_count": null,
   "id": "c122d7ea-3880-41b4-aaab-f1fe643796f2",
   "metadata": {
    "id": "c122d7ea-3880-41b4-aaab-f1fe643796f2"
   },
   "outputs": [],
   "source": [
    "### TO BE COMPLETED ###\n",
    "\n",
    "[...]"
   ]
  },
  {
   "cell_type": "code",
   "execution_count": null,
   "id": "71238dfb-e914-490a-ab4c-cb111411904e",
   "metadata": {
    "colab": {
     "base_uri": "https://localhost:8080/",
     "height": 1000
    },
    "id": "71238dfb-e914-490a-ab4c-cb111411904e",
    "outputId": "ff753398-fc1c-4fdf-b05b-04f90fc4ce69"
   },
   "outputs": [],
   "source": [
    "# %load solutions/data/correlation.py"
   ]
  },
  {
   "cell_type": "markdown",
   "id": "c0cf1b3b-4ec8-4653-b78e-b9262d547cf9",
   "metadata": {
    "id": "c0cf1b3b-4ec8-4653-b78e-b9262d547cf9"
   },
   "source": [
    "## Principal Component Analysis\n",
    "\n",
    "PCA is the usual dimension reduction technique when working with quantitative variables."
   ]
  },
  {
   "cell_type": "markdown",
   "id": "SMuMw-0l3jdu",
   "metadata": {
    "id": "SMuMw-0l3jdu"
   },
   "source": [
    "##### <span style=\"color:purple\">**Todo:** Using the `prince` package, perform a [PCA](https://maxhalford.github.io/prince/pca/).</span>\n",
    "\n",
    "- Restrict to quantitative variables: survived, age, fare and family_size.\n",
    "- Fit the model."
   ]
  },
  {
   "cell_type": "code",
   "execution_count": null,
   "id": "kEuYyCjO4g8S",
   "metadata": {
    "id": "kEuYyCjO4g8S"
   },
   "outputs": [],
   "source": [
    "### TO BE COMPLETED ###\n",
    "\n",
    "titanic_quanti = ...\n",
    "titanic_quanti = titanic_quanti.set_index('survived')\n",
    "\n",
    "[...]"
   ]
  },
  {
   "cell_type": "code",
   "execution_count": null,
   "id": "35289522-0158-44e9-929b-260dcb28274e",
   "metadata": {
    "id": "35289522-0158-44e9-929b-260dcb28274e"
   },
   "outputs": [],
   "source": [
    "# %load solutions/pmca/titanic_quanti.py"
   ]
  },
  {
   "cell_type": "markdown",
   "id": "NIu7J9WK3kLl",
   "metadata": {
    "id": "NIu7J9WK3kLl"
   },
   "source": [
    "##### <span style=\"color:purple\">**Question:** What do you think of the inertia carried by each axis?</span>\n",
    "\n",
    "- Consider the `eigenvalues_summary` function\n",
    "- and/or view the `scree_plot`"
   ]
  },
  {
   "cell_type": "code",
   "execution_count": null,
   "id": "1hB_Uf4S6Cr9",
   "metadata": {
    "id": "1hB_Uf4S6Cr9"
   },
   "outputs": [],
   "source": [
    "### TO BE COMPLETED ###\n",
    "\n",
    "[...]"
   ]
  },
  {
   "cell_type": "code",
   "execution_count": null,
   "id": "71df0b2b-e46d-48f8-843d-1cdcecf05593",
   "metadata": {
    "colab": {
     "base_uri": "https://localhost:8080/",
     "height": 518
    },
    "id": "71df0b2b-e46d-48f8-843d-1cdcecf05593",
    "outputId": "46e283fb-a3c7-49e6-ee6c-32774876f0b7"
   },
   "outputs": [],
   "source": [
    "# %load solutions/pmca/pca_eigenvalues.py"
   ]
  },
  {
   "cell_type": "markdown",
   "id": "RzJQCH996teW",
   "metadata": {
    "id": "RzJQCH996teW"
   },
   "source": [
    "##### <span style=\"color:purple\">**Question:** Do you think we could easily predict the survival rate in PCA space?</span>\n",
    "\n",
    "- Show the projections of the points in the principal maps, colored according to their survival rate.\n",
    "- Refer to Prince's help for figures."
   ]
  },
  {
   "cell_type": "code",
   "execution_count": null,
   "id": "mr7Qn5H66slS",
   "metadata": {
    "id": "mr7Qn5H66slS"
   },
   "outputs": [],
   "source": [
    "### TO BE COMPLETED ###\n",
    "\n",
    "[...]"
   ]
  },
  {
   "cell_type": "code",
   "execution_count": null,
   "id": "64ae77d3-0383-40a5-bf69-5adad14ef5a2",
   "metadata": {
    "colab": {
     "base_uri": "https://localhost:8080/",
     "height": 369
    },
    "id": "64ae77d3-0383-40a5-bf69-5adad14ef5a2",
    "outputId": "13307d67-5656-4514-f2a0-cbb8f701e86e"
   },
   "outputs": [],
   "source": [
    "# %load solutions/pmca/plot_pca_prince.py"
   ]
  },
  {
   "cell_type": "markdown",
   "id": "633f3220-c8be-4c6e-8160-aa195c754f9d",
   "metadata": {},
   "source": [
    "> *Disclaimer:* If you get an error message when calling the Prince `plot` function on your machine (as is the case on mine), you can use the function below."
   ]
  },
  {
   "cell_type": "code",
   "execution_count": null,
   "id": "d8e60e0b-eeba-42a6-b577-25d0645be010",
   "metadata": {
    "scrolled": true
   },
   "outputs": [],
   "source": [
    "# %load solutions/pmca/plot_pca.py"
   ]
  },
  {
   "cell_type": "markdown",
   "id": "4AioJMzJBE9i",
   "metadata": {
    "id": "4AioJMzJBE9i"
   },
   "source": [
    "## Multiple Correspondence Analysis\n",
    "\n",
    "MCA is the usual dimension reduction technique when working with qualitative variables."
   ]
  },
  {
   "cell_type": "markdown",
   "id": "B2zB6hnDDbCa",
   "metadata": {
    "id": "B2zB6hnDDbCa"
   },
   "source": [
    "##### <span style=\"color:purple\">**Question:** Does it seem reasonable to assume family size as a qualitative variable?</span>"
   ]
  },
  {
   "cell_type": "code",
   "execution_count": null,
   "id": "crxyJUfuDXDi",
   "metadata": {
    "id": "crxyJUfuDXDi"
   },
   "outputs": [],
   "source": [
    "### TO BE COMPLETED ###\n",
    "\n",
    "[...]"
   ]
  },
  {
   "cell_type": "code",
   "execution_count": null,
   "id": "KIhWTuxXD1CB",
   "metadata": {
    "colab": {
     "base_uri": "https://localhost:8080/",
     "height": 524
    },
    "id": "KIhWTuxXD1CB",
    "outputId": "23d1aad8-d87f-4d9c-e0f6-3f3fc233c009"
   },
   "outputs": [],
   "source": [
    "# %load solutions/pmca/family_size.py"
   ]
  },
  {
   "cell_type": "markdown",
   "id": "AL9cF0ehPCcl",
   "metadata": {
    "id": "AL9cF0ehPCcl"
   },
   "source": [
    "##### <span style=\"color:purple\">**Question:** How many modalities does the dataset contain, taking `family_size` as a qualitative variable? And without?</span>"
   ]
  },
  {
   "cell_type": "code",
   "execution_count": null,
   "id": "ZmpyLm-fDXIg",
   "metadata": {
    "id": "ZmpyLm-fDXIg"
   },
   "outputs": [],
   "source": [
    "### TO BE COMPLETED ###\n",
    "\n",
    "[...]"
   ]
  },
  {
   "cell_type": "code",
   "execution_count": null,
   "id": "5XDwnXmTDXMp",
   "metadata": {
    "colab": {
     "base_uri": "https://localhost:8080/",
     "height": 475
    },
    "id": "5XDwnXmTDXMp",
    "outputId": "c0e58f13-c12f-433b-a737-2458237f85e4"
   },
   "outputs": [],
   "source": [
    "# %load solutions/pmca/titanic_quali.py"
   ]
  },
  {
   "cell_type": "markdown",
   "id": "MYO5t1CKg2Vz",
   "metadata": {
    "id": "MYO5t1CKg2Vz"
   },
   "source": [
    "##### <span style=\"color:purple\">**Todo:** Using the `prince` package, perform a [MCA](https://maxhalford.github.io/prince/mca/).</span>\n",
    "\n",
    "- Restrict to qualitative variables: survived, embarked, class, who, alone and possibly family_size\n",
    "- Fit the model."
   ]
  },
  {
   "cell_type": "code",
   "execution_count": null,
   "id": "bFSUPuUyhK89",
   "metadata": {
    "id": "bFSUPuUyhK89"
   },
   "outputs": [],
   "source": [
    "### TO BE COMPLETED ###\n",
    "\n",
    "[...]"
   ]
  },
  {
   "cell_type": "code",
   "execution_count": null,
   "id": "-stgHjd4FeSr",
   "metadata": {
    "id": "-stgHjd4FeSr"
   },
   "outputs": [],
   "source": [
    "# %load solutions/pmca/mca.py"
   ]
  },
  {
   "cell_type": "markdown",
   "id": "MvD_LxKwhbfp",
   "metadata": {
    "id": "MvD_LxKwhbfp"
   },
   "source": [
    "##### <span style=\"color:purple\">**Question:** What do you think of the inertia carried by each axis?</span>\n",
    "\n",
    "- Consider the `eigenvalues_summary` function\n",
    "- and/or view the `scree_plot`"
   ]
  },
  {
   "cell_type": "code",
   "execution_count": null,
   "id": "HaRuSkTRhb0b",
   "metadata": {
    "id": "HaRuSkTRhb0b"
   },
   "outputs": [],
   "source": [
    "### TO BE COMPLETED ###\n",
    "\n",
    "[...]"
   ]
  },
  {
   "cell_type": "code",
   "execution_count": null,
   "id": "1gpUK_LQcgdp",
   "metadata": {
    "colab": {
     "base_uri": "https://localhost:8080/",
     "height": 742
    },
    "id": "1gpUK_LQcgdp",
    "outputId": "da68bb9b-f58a-4ce2-e39f-48729749d022"
   },
   "outputs": [],
   "source": [
    "# %load solutions/pmca/mca_eigenvalues.py"
   ]
  },
  {
   "cell_type": "markdown",
   "id": "BpvY0OEJnbDV",
   "metadata": {
    "id": "BpvY0OEJnbDV"
   },
   "source": [
    "##### <span style=\"color:purple\">**Todo:** View MCA results.</span>"
   ]
  },
  {
   "cell_type": "code",
   "execution_count": null,
   "id": "09oizOf4homw",
   "metadata": {
    "id": "09oizOf4homw"
   },
   "outputs": [],
   "source": [
    "### TO BE COMPLETED ###\n",
    "\n",
    "[...]"
   ]
  },
  {
   "cell_type": "code",
   "execution_count": null,
   "id": "cL3RPdnT2_-x",
   "metadata": {
    "colab": {
     "base_uri": "https://localhost:8080/",
     "height": 364
    },
    "id": "cL3RPdnT2_-x",
    "outputId": "ac821057-6917-4182-e88c-a25c35642074"
   },
   "outputs": [],
   "source": [
    "# %load solutions/pmca/plot_mca_prince.py"
   ]
  },
  {
   "cell_type": "markdown",
   "id": "2URnd-juoHcH",
   "metadata": {
    "id": "2URnd-juoHcH"
   },
   "source": [
    "##### <span style=\"color:purple\">**Todo:** Write a function `plot_mca`.</span>\n",
    "\n",
    "- The function `plot_mca(ax1=0, ax2=1, mca=mca, data=titanic_quali)` plots the dataset projections on the MCA plane (ax1, ax2), colored according to the overvis of the passengers.\n",
    "- Choose colors consistent with the previous PCA graph.\n",
    "- Label each axis with the percentage of variance it explains (based on the graph above)."
   ]
  },
  {
   "cell_type": "code",
   "execution_count": null,
   "id": "NQdiPnxRDXRR",
   "metadata": {
    "id": "NQdiPnxRDXRR"
   },
   "outputs": [],
   "source": [
    "### TO BE COMPLETED ###\n",
    "\n",
    "def plot_mca(ax1=0, ax2=1, mca=mca, data=titanic_quali):\n",
    "  [...]"
   ]
  },
  {
   "cell_type": "code",
   "execution_count": null,
   "id": "8GfCJtmu2_8A",
   "metadata": {
    "id": "8GfCJtmu2_8A"
   },
   "outputs": [],
   "source": [
    "# %load solutions/pmca/plot_mca.py"
   ]
  },
  {
   "cell_type": "markdown",
   "id": "H-XjJt4JglPn",
   "metadata": {
    "id": "H-XjJt4JglPn"
   },
   "source": [
    "##### <span style=\"color:purple\">**Question:** What do you conclude from the graphs below?</span>"
   ]
  },
  {
   "cell_type": "code",
   "execution_count": null,
   "id": "UW474jiKSzdZ",
   "metadata": {
    "colab": {
     "base_uri": "https://localhost:8080/",
     "height": 1000
    },
    "id": "UW474jiKSzdZ",
    "outputId": "c7d46f24-617d-49cf-bf3c-192ebc3cd240",
    "scrolled": true
   },
   "outputs": [],
   "source": [
    "plot_mca(0,1)\n",
    "plot_mca(1,2)\n",
    "plot_mca(0,2)"
   ]
  },
  {
   "cell_type": "markdown",
   "id": "JtU7Il_iq2Ux",
   "metadata": {
    "id": "JtU7Il_iq2Ux"
   },
   "source": [
    "##### <span style=\"color:purple\">**Question:** Which variables contribute most strongly to the axes?</span>"
   ]
  },
  {
   "cell_type": "code",
   "execution_count": null,
   "id": "mt62f3dm2_4N",
   "metadata": {
    "id": "mt62f3dm2_4N"
   },
   "outputs": [],
   "source": [
    "### TO BE COMPLETED ###\n",
    "\n",
    "[...]"
   ]
  },
  {
   "cell_type": "code",
   "execution_count": null,
   "id": "b8feb6bc-dfec-4eaa-b58d-4050868a06e9",
   "metadata": {
    "colab": {
     "base_uri": "https://localhost:8080/",
     "height": 394
    },
    "id": "b8feb6bc-dfec-4eaa-b58d-4050868a06e9",
    "outputId": "f5bafefa-966a-4ce3-aeb3-8c8530fd2d7a"
   },
   "outputs": [],
   "source": [
    "# %load solutions/pmca/contrib_mca.py"
   ]
  },
  {
   "cell_type": "markdown",
   "id": "xV8tcnhbsmwM",
   "metadata": {
    "id": "xV8tcnhbsmwM"
   },
   "source": [
    "##### <span style=\"color:purple\">**Question:** What do you think of the quality of the representation of individuals? of variables?</span>\n"
   ]
  },
  {
   "cell_type": "code",
   "execution_count": null,
   "id": "08be75a9-f77a-4a8d-bbbe-b78549da96a7",
   "metadata": {
    "id": "08be75a9-f77a-4a8d-bbbe-b78549da96a7",
    "outputId": "b3a38d12-5f20-46ac-cead-005c12b0239c"
   },
   "outputs": [],
   "source": [
    "### TO BE COMPLETED ###\n",
    "\n",
    "[...]"
   ]
  },
  {
   "cell_type": "code",
   "execution_count": null,
   "id": "Lg4o7JWYrS49",
   "metadata": {
    "colab": {
     "base_uri": "https://localhost:8080/",
     "height": 772
    },
    "id": "Lg4o7JWYrS49",
    "outputId": "f3fcdb1e-5470-4b00-eb66-d434e468a762"
   },
   "outputs": [],
   "source": [
    "# %load solutions/pmca/quality_mca.py"
   ]
  },
  {
   "cell_type": "markdown",
   "id": "3M3BVg_stRCZ",
   "metadata": {
    "id": "3M3BVg_stRCZ"
   },
   "source": [
    "## Factor analysis of mixed data\n",
    "\n",
    "We now consider the following dataset, composed of quantitative _and_ qualitative variables.\n",
    "\n",
    "**Note**: FAMD is a special case of FMA in which the groups are of mixed type (some quantitative, others qualitative) and of size 1."
   ]
  },
  {
   "cell_type": "code",
   "execution_count": null,
   "id": "-w3Ki1lfrTLw",
   "metadata": {
    "colab": {
     "base_uri": "https://localhost:8080/",
     "height": 455
    },
    "id": "-w3Ki1lfrTLw",
    "outputId": "9f2ae0a8-5f56-402d-ada4-8f80bb7006dc"
   },
   "outputs": [],
   "source": [
    "titanic_clip = titanic[['survived','age','fare','embarked','class','who','alone']] #,'family_size'\n",
    "titanic_clip = titanic_clip.set_index('survived')\n",
    "display(titanic_clip)"
   ]
  },
  {
   "cell_type": "markdown",
   "id": "eudGiYcH9Qd6",
   "metadata": {
    "id": "eudGiYcH9Qd6"
   },
   "source": [
    "##### <span style=\"color:purple\">**Todo:** Using the `prince` package, perform a [FAMD](https://maxhalford.github.io/prince/famd/).</span>\n",
    "\n",
    "- Fit the data\n",
    "- Vizualise the result of the FAMD (plot)"
   ]
  },
  {
   "cell_type": "code",
   "execution_count": null,
   "id": "ujZ_hwXV9cRJ",
   "metadata": {
    "id": "ujZ_hwXV9cRJ"
   },
   "outputs": [],
   "source": [
    "### TO BE COMPLETED ###\n",
    "\n",
    "[...]"
   ]
  },
  {
   "cell_type": "code",
   "execution_count": null,
   "id": "mki8ngntrTRp",
   "metadata": {
    "id": "mki8ngntrTRp"
   },
   "outputs": [],
   "source": [
    "# %load solutions/pmca/famd.py"
   ]
  },
  {
   "cell_type": "markdown",
   "id": "blHblA2R9oPK",
   "metadata": {
    "id": "blHblA2R9oPK"
   },
   "source": [
    "##### <span style=\"color:purple\">**Question:** What do you think of the inertia carried by each axis?</span>\n",
    "\n",
    "- Consider the `eigenvalues_summary` function\n",
    "- and/or view the `scree_plot`"
   ]
  },
  {
   "cell_type": "code",
   "execution_count": null,
   "id": "fZ46Swbu9oPM",
   "metadata": {
    "id": "fZ46Swbu9oPM"
   },
   "outputs": [],
   "source": [
    "### TO BE COMPLETED ###\n",
    "\n",
    "[...]"
   ]
  },
  {
   "cell_type": "code",
   "execution_count": null,
   "id": "GbP0OPsc4mvB",
   "metadata": {
    "colab": {
     "base_uri": "https://localhost:8080/",
     "height": 711
    },
    "id": "GbP0OPsc4mvB",
    "outputId": "170fdc62-ec9a-4642-eaf5-edc020e9e9d2"
   },
   "outputs": [],
   "source": [
    "# %load solutions/pmca/famd_eigenvalues.py"
   ]
  },
  {
   "cell_type": "markdown",
   "id": "JA5SFY_S-Bk9",
   "metadata": {
    "id": "JA5SFY_S-Bk9"
   },
   "source": [
    "##### <span style=\"color:purple\">**Todo:** Write a function `plot_mca`.</span>\n",
    "\n",
    "- The function `plot_famd(ax1=0, ax2=1, famd=famd, data=titanic_clip)` plots the dataset projections on the FAMD plane (ax1, ax2), colored according to the overvis of the passengers.\n",
    "- Choose colors consistent with the previous PCA graph.\n",
    "- Label each axis with the percentage of variance it explains (based on the graph above)."
   ]
  },
  {
   "cell_type": "code",
   "execution_count": null,
   "id": "ncVAaaZV-Z5O",
   "metadata": {
    "id": "ncVAaaZV-Z5O"
   },
   "outputs": [],
   "source": [
    "### TO BE COMPLETED ###\n",
    "\n",
    "def plot_famd(ax1=0, ax2=1, famd=famd, data=titanic_clip):\n",
    "  [...]"
   ]
  },
  {
   "cell_type": "code",
   "execution_count": null,
   "id": "4GeGOxS94mzP",
   "metadata": {
    "id": "4GeGOxS94mzP"
   },
   "outputs": [],
   "source": [
    "# %load solutions/pmca/plot_famd.py"
   ]
  },
  {
   "cell_type": "markdown",
   "id": "DaciW80A-TNv",
   "metadata": {
    "id": "DaciW80A-TNv"
   },
   "source": [
    "##### <span style=\"color:purple\">**Question:** What do you conclude from the graphs below?</span>\n"
   ]
  },
  {
   "cell_type": "code",
   "execution_count": null,
   "id": "H69uPo6_4m3x",
   "metadata": {
    "colab": {
     "base_uri": "https://localhost:8080/",
     "height": 1000
    },
    "id": "H69uPo6_4m3x",
    "outputId": "efa361d2-8b4e-4270-eaa4-ccb1c1bf7567",
    "scrolled": true
   },
   "outputs": [],
   "source": [
    "plot_famd(0,1)\n",
    "plot_famd(0,2)\n",
    "plot_famd(1,2)"
   ]
  },
  {
   "cell_type": "markdown",
   "id": "-eeOKtz0-lpP",
   "metadata": {
    "id": "-eeOKtz0-lpP"
   },
   "source": [
    "##### <span style=\"color:purple\">**Question:** Which variables contribute most strongly to the axes?</span>"
   ]
  },
  {
   "cell_type": "code",
   "execution_count": null,
   "id": "qrUXYdQ37gKC",
   "metadata": {
    "id": "qrUXYdQ37gKC"
   },
   "outputs": [],
   "source": [
    "### TO BE COMPLETED ###\n",
    "\n",
    "[...]"
   ]
  },
  {
   "cell_type": "code",
   "execution_count": null,
   "id": "oV2GgzmI7gOM",
   "metadata": {
    "colab": {
     "base_uri": "https://localhost:8080/",
     "height": 269
    },
    "id": "oV2GgzmI7gOM",
    "outputId": "6cb806fb-91fa-44bb-ee1b-b60be70782b4"
   },
   "outputs": [],
   "source": [
    "# %load solutions/pmca/contrib_famd.py"
   ]
  },
  {
   "cell_type": "markdown",
   "id": "xlE1uUXi-2nJ",
   "metadata": {
    "id": "xlE1uUXi-2nJ"
   },
   "source": [
    "## Survival of the passengers on the titanic\n",
    "\n",
    "We are now going to take advantage of the dimension reduction techniques we have already seen to make predictions. \n",
    "\n",
    "First, we perform a classification of the points to assess whether we have correctly understood the distribution of the points. If we do not have access to the labels of the points, we will not be able to take the study any further. However, here we have access to the labels for the points. We therefore decide to apply two common classification algorithms to predict the survival, or otherwise, of the Titanic's passengers: SVM and logistic regression -- these algorithms are outside the scope of this course, but you are already familiar with them. We will not go into this part in detail, in order to focus on exploratory data analysis."
   ]
  },
  {
   "cell_type": "markdown",
   "id": "904424f9-4d61-4281-a4ef-0f759ab60b84",
   "metadata": {},
   "source": [
    "### Study in the FAMD space"
   ]
  },
  {
   "cell_type": "code",
   "execution_count": null,
   "id": "bNeDrtgSjtnW",
   "metadata": {
    "id": "bNeDrtgSjtnW"
   },
   "outputs": [],
   "source": [
    "titanic_famd = famd.transform(titanic_clip)\n",
    "titanic_famd.reset_index(inplace=True)\n",
    "titanic_famd['survived'] = titanic_famd['survived'].cat.rename_categories({'No': 0, 'Yes':1})\n",
    "\n",
    "X = titanic_famd[np.arange(5)].to_numpy()\n",
    "y = titanic_famd['survived'].to_numpy()"
   ]
  },
  {
   "cell_type": "markdown",
   "id": "2t_je_5P4wjt",
   "metadata": {
    "id": "2t_je_5P4wjt"
   },
   "source": [
    "#### k-means on FAMD Components"
   ]
  },
  {
   "cell_type": "code",
   "execution_count": null,
   "id": "ONQJbnrCjtrZ",
   "metadata": {
    "id": "ONQJbnrCjtrZ"
   },
   "outputs": [],
   "source": [
    "from sklearn.cluster import KMeans\n",
    "from sklearn.metrics import confusion_matrix, ConfusionMatrixDisplay"
   ]
  },
  {
   "cell_type": "markdown",
   "id": "0EZ8Sv2p4Thl",
   "metadata": {
    "id": "0EZ8Sv2p4Thl"
   },
   "source": [
    "##### <span style=\"color:purple\">**Todo:** Classification using the k-means algorithm (or another!)</span>\n",
    "\n",
    "- How many classes to impose?\n",
    "- What is the proportion of well-classified points?\n",
    "- Display the confusion matrix"
   ]
  },
  {
   "cell_type": "code",
   "execution_count": null,
   "id": "CS-U5rlW0_X8",
   "metadata": {
    "id": "CS-U5rlW0_X8"
   },
   "outputs": [],
   "source": [
    "### TO BE COMPLETED ###\n",
    "\n",
    "[...]"
   ]
  },
  {
   "cell_type": "code",
   "execution_count": null,
   "id": "MmNHbTOIjtu9",
   "metadata": {
    "colab": {
     "base_uri": "https://localhost:8080/",
     "height": 467
    },
    "id": "MmNHbTOIjtu9",
    "outputId": "afd637b0-4c69-428c-a567-9fb9816b7201"
   },
   "outputs": [],
   "source": [
    "# %load solutions/pred/kmeans_famd.py"
   ]
  },
  {
   "cell_type": "markdown",
   "id": "KBCMiGyfbFxh",
   "metadata": {
    "id": "KBCMiGyfbFxh"
   },
   "source": [
    "#### SVM Model on FAMD Components\n",
    "\n",
    "- We will run [SVM](https://scikit-learn.org/stable/modules/generated/sklearn.svm.SVC.html) for different values of the regularization parameter `C`, and different value of the kernel coefficient `gamma`\n",
    "\n",
    "- We will use [RandomSearchCV](https://scikit-learn.org/stable/modules/generated/sklearn.model_selection.RandomizedSearchCV.html) to slelect the optimal `C` and `Gamma` hyperparameters.\n",
    "\n",
    "- For more accurate results, you should use [Gridsearch](https://scikit-learn.org/stable/modules/generated/sklearn.model_selection.GridSearchCV.html) instead, but at the cost of computational time."
   ]
  },
  {
   "cell_type": "code",
   "execution_count": null,
   "id": "ybCkD9YPX8L6",
   "metadata": {
    "id": "ybCkD9YPX8L6"
   },
   "outputs": [],
   "source": [
    "from sklearn.model_selection import train_test_split"
   ]
  },
  {
   "cell_type": "markdown",
   "id": "IzE02OBlZV2d",
   "metadata": {
    "id": "IzE02OBlZV2d"
   },
   "source": [
    "##### <span style=\"color:purple\">**Todo:** Divide the dataset into test and train sets.</span>\n",
    "\n",
    "- Create test and training matrices containing projections into the FAMD space.\n",
    "- Create test and training vectors with related 'survived' labels.\n",
    "- Keep only those dimensions that carry sufficient inertia.\n",
    "- Refer to the `train_test_split` function of `scikit-learn`\n",
    "\n",
    "**Note**: When we want to train a (supervised) model, we _always_ need to make such a cut to avoid over-fitting."
   ]
  },
  {
   "cell_type": "code",
   "execution_count": null,
   "id": "ORry15jTZWRI",
   "metadata": {
    "id": "ORry15jTZWRI"
   },
   "outputs": [],
   "source": [
    "### TO BE COMPLETED ###\n",
    "\n",
    "[...]\n",
    "\n",
    "X_train = ...\n",
    "y_train = ...\n",
    "\n",
    "X_test = ...\n",
    "y_test = ..."
   ]
  },
  {
   "cell_type": "code",
   "execution_count": null,
   "id": "Iy5lVYDC7gga",
   "metadata": {
    "id": "Iy5lVYDC7gga"
   },
   "outputs": [],
   "source": [
    "# %load solutions/pred/train_test_famd.py"
   ]
  },
  {
   "cell_type": "markdown",
   "id": "I7TWz2vNetP1",
   "metadata": {
    "id": "I7TWz2vNetP1"
   },
   "source": [
    "##### Random search for best C and Gamma"
   ]
  },
  {
   "cell_type": "code",
   "execution_count": null,
   "id": "7iEgb1W-7gkJ",
   "metadata": {
    "id": "7iEgb1W-7gkJ"
   },
   "outputs": [],
   "source": [
    "from sklearn.svm import SVC\n",
    "from sklearn.model_selection import RandomizedSearchCV\n",
    "from scipy import stats"
   ]
  },
  {
   "cell_type": "code",
   "execution_count": null,
   "id": "B6qzyTSIdB_I",
   "metadata": {
    "colab": {
     "base_uri": "https://localhost:8080/"
    },
    "id": "B6qzyTSIdB_I",
    "outputId": "c64345f5-1475-4db3-98b2-66d5c317a986"
   },
   "outputs": [],
   "source": [
    "svm = SVC(random_state=42, probability=True);\n",
    "\n",
    "distributions = {\"C\": stats.uniform(2, 10),\n",
    "             \"gamma\": stats.uniform(0.1, 1)}\n",
    "clf = RandomizedSearchCV(svm,\n",
    "    param_distributions = distributions,\n",
    "    n_iter = 20, n_jobs = 4, cv = 3,\n",
    "    random_state = 0,\n",
    "    scoring = 'roc_auc')\n",
    "\n",
    "search = clf.fit(X_train, y_train)\n",
    "print('Optimized Hyperparameters: %s' % search.best_params_)"
   ]
  },
  {
   "cell_type": "markdown",
   "id": "d7o7nCmfe1n6",
   "metadata": {
    "id": "d7o7nCmfe1n6"
   },
   "source": [
    "##### SVM with optimized C and Gamma"
   ]
  },
  {
   "cell_type": "code",
   "execution_count": null,
   "id": "NrwG0bpadCEf",
   "metadata": {
    "id": "NrwG0bpadCEf"
   },
   "outputs": [],
   "source": [
    "from sklearn import metrics"
   ]
  },
  {
   "cell_type": "code",
   "execution_count": null,
   "id": "gnr_TPxHdCJ0",
   "metadata": {
    "colab": {
     "base_uri": "https://localhost:8080/",
     "height": 467
    },
    "id": "gnr_TPxHdCJ0",
    "outputId": "1f202070-8cb2-40c7-fada-4bb7ca36212e",
    "scrolled": true
   },
   "outputs": [],
   "source": [
    "svm = SVC(random_state = 42,\n",
    "          probability = True,\n",
    "          kernel = 'rbf',\n",
    "          gamma =search.best_params_['gamma'],\n",
    "          C= search.best_params_['C'])\n",
    "\n",
    "svm.fit(X_train, y_train)\n",
    "\n",
    "y_pred_svm_famd = svm.predict(X_test)\n",
    "svm_accuracy_famd = metrics.accuracy_score(y_test, y_pred_svm_famd)\n",
    "print(\"Accuracy of SVM: {:.3f}%\".format(100*svm_accuracy_famd))\n",
    "\n",
    "ConfusionMatrixDisplay(confusion_matrix(y_test, y_pred_svm_famd)).plot()\n",
    "plt.show()"
   ]
  },
  {
   "cell_type": "markdown",
   "id": "HikNJYSmizfj",
   "metadata": {
    "id": "HikNJYSmizfj"
   },
   "source": [
    "#### Logistic Regression on FAMD Components\n",
    "\n",
    "We can do exactly the same with logistic regression"
   ]
  },
  {
   "cell_type": "code",
   "execution_count": null,
   "id": "Cd6csBPYe_aa",
   "metadata": {
    "id": "Cd6csBPYe_aa"
   },
   "outputs": [],
   "source": [
    "from sklearn.linear_model import LogisticRegression"
   ]
  },
  {
   "cell_type": "code",
   "execution_count": null,
   "id": "Mg1zRUyve_eJ",
   "metadata": {
    "colab": {
     "base_uri": "https://localhost:8080/"
    },
    "id": "Mg1zRUyve_eJ",
    "outputId": "cf31e169-aaaf-4166-9ec5-46dea6c93bf8"
   },
   "outputs": [],
   "source": [
    "logistic = LogisticRegression(random_state=0, solver='saga',\n",
    "                              tol=1e-2, max_iter=200)\n",
    "\n",
    "distributions = {\"C\": stats.uniform(0, 4),\n",
    "                 \"penalty\": ['l2', 'l1']}\n",
    "clf = RandomizedSearchCV(logistic,\n",
    "    param_distributions = distributions,\n",
    "    n_iter = 20, n_jobs = 4, cv = 3,\n",
    "    random_state = 0,\n",
    "    scoring = 'roc_auc')\n",
    "\n",
    "search = clf.fit(X_train, y_train)\n",
    "print('Optimized Hyperparameters: %s' % search.best_params_)"
   ]
  },
  {
   "cell_type": "code",
   "execution_count": null,
   "id": "DyL3dKFfiQrJ",
   "metadata": {
    "colab": {
     "base_uri": "https://localhost:8080/",
     "height": 467
    },
    "id": "DyL3dKFfiQrJ",
    "outputId": "b16e346f-e554-445b-9f24-424e9e165713",
    "scrolled": true
   },
   "outputs": [],
   "source": [
    "logistic = LogisticRegression(random_state=0,\n",
    "                              solver='saga', tol=1e-2, max_iter=200,\n",
    "                              C= search.best_params_['C'],\n",
    "                              penalty =search.best_params_['penalty'])\n",
    "\n",
    "logistic.fit(X_train, y_train)\n",
    "\n",
    "y_pred_logistic_famd = logistic.predict(X_test)\n",
    "logistic_accuracy_famd = metrics.accuracy_score(y_test, y_pred_logistic_famd)\n",
    "print(\"Accuracy of Logistic Regression: {:.3f}%\".format(100*logistic_accuracy_famd))\n",
    "\n",
    "ConfusionMatrixDisplay(confusion_matrix(y_test, y_pred_logistic_famd)).plot()\n",
    "plt.show()"
   ]
  },
  {
   "cell_type": "markdown",
   "id": "540f52c3-3f19-4c82-9334-289a9569e6c5",
   "metadata": {},
   "source": [
    "### MCA for quantitative variables\n",
    "\n",
    "We saw in the course that we could process both quantitative and qualitative variables at the same time by thresholding the quantitative variables and then applying an MCA to all the variables (which are then all qualitative)."
   ]
  },
  {
   "cell_type": "markdown",
   "id": "2a538ea8-7d23-459d-8e09-9742d2c3b127",
   "metadata": {},
   "source": [
    "##### <span style=\"color:purple\">**Todo:** Threshold quantitative variables.</span>\n",
    "\n",
    "1. Threshold quantitative variables\n",
    "2. View the breakdown of classes created in this way"
   ]
  },
  {
   "cell_type": "code",
   "execution_count": null,
   "id": "9eb73ee9-1b67-474d-8dbb-91f87d119027",
   "metadata": {},
   "outputs": [],
   "source": [
    "### TO BE COMPLETED ###\n",
    "\n",
    "titanic_thresh = titanic_clip.copy()\n",
    "\n",
    "[...]"
   ]
  },
  {
   "cell_type": "code",
   "execution_count": null,
   "id": "6f7c44fe-4e5b-47de-994c-6e2d21d96c89",
   "metadata": {},
   "outputs": [],
   "source": [
    "# %load solutions/pred/titanic_thresh.py"
   ]
  },
  {
   "cell_type": "code",
   "execution_count": null,
   "id": "9785116f-21c1-4011-bfb2-71fd607ee271",
   "metadata": {},
   "outputs": [],
   "source": [
    "### TO BE COMPLETED ###\n",
    "\n",
    "[...]"
   ]
  },
  {
   "cell_type": "code",
   "execution_count": null,
   "id": "96ebe5c8-1f9a-45af-86a4-5ce18787c520",
   "metadata": {},
   "outputs": [],
   "source": [
    "# %load solutions/pred/breakdown.py"
   ]
  },
  {
   "cell_type": "markdown",
   "id": "6e592259-dc9e-451f-b9eb-d0b1329fafe7",
   "metadata": {},
   "source": [
    "##### <span style=\"color:purple\">**Todo:** Carry out the MCA of the variables thus truncated.</span>\n",
    "\n",
    "What is inertia like?"
   ]
  },
  {
   "cell_type": "code",
   "execution_count": null,
   "id": "86551b2b-20d2-4d53-9ea0-48d4298bea83",
   "metadata": {},
   "outputs": [],
   "source": [
    "### TO BE COMPLETED ###\n",
    "\n",
    "[...]"
   ]
  },
  {
   "cell_type": "code",
   "execution_count": null,
   "id": "31a4c8ca-9ea1-49c2-a4f8-b494012b957a",
   "metadata": {},
   "outputs": [],
   "source": [
    "# %load solutions/pred/mca.py"
   ]
  },
  {
   "cell_type": "markdown",
   "id": "ccb34f14-e667-45db-a115-658c6d73e744",
   "metadata": {},
   "source": [
    "##### <span style=\"color:purple\">**Todo:** Observe the distribution of points in MCA space.</span>\n",
    "\n",
    "One may use a previously coded function."
   ]
  },
  {
   "cell_type": "code",
   "execution_count": null,
   "id": "1ec5b09f-f4c3-4639-9b4f-d66ff69da58b",
   "metadata": {},
   "outputs": [],
   "source": [
    "### TO BE COMPLETED ###\n",
    "\n",
    "[...]"
   ]
  },
  {
   "cell_type": "code",
   "execution_count": null,
   "id": "36e7330a-ad76-4eb4-8bd0-836a33d0122d",
   "metadata": {
    "scrolled": true
   },
   "outputs": [],
   "source": [
    "# %load solutions/pred/plot_mca.py"
   ]
  },
  {
   "cell_type": "markdown",
   "id": "fb362de8-c6bc-4f69-b0f7-8f317c293d17",
   "metadata": {},
   "source": [
    "We are now going to repeat the previous study, but on the MCA space."
   ]
  },
  {
   "cell_type": "code",
   "execution_count": null,
   "id": "924b6633-8b5e-4e7f-8dbd-1f60ac4a1d18",
   "metadata": {},
   "outputs": [],
   "source": [
    "titanic_mca = mca.transform(titanic_thresh)\n",
    "titanic_mca.reset_index(inplace=True)\n",
    "titanic_mca['survived'] = titanic_mca['survived'].astype('category').cat.rename_categories({'No': 0, 'Yes':1})\n",
    "\n",
    "X = titanic_mca.drop('survived', axis=1).to_numpy()\n",
    "y = titanic_famd['survived'].to_numpy()"
   ]
  },
  {
   "cell_type": "markdown",
   "id": "16c0b810-7018-4c52-867e-947fd863c3df",
   "metadata": {
    "id": "2t_je_5P4wjt"
   },
   "source": [
    "#### k-means on MCA Components"
   ]
  },
  {
   "cell_type": "markdown",
   "id": "0bd92335-9a9b-4836-8165-f61f71681247",
   "metadata": {
    "id": "0EZ8Sv2p4Thl"
   },
   "source": [
    "##### <span style=\"color:purple\">**Todo:** Classification using the k-means algorithm (or another!)</span>\n",
    "\n",
    "- How many classes to impose?\n",
    "- What is the proportion of well-classified points?\n",
    "- Display the confusion matrix"
   ]
  },
  {
   "cell_type": "code",
   "execution_count": null,
   "id": "76832d44-aacb-4f75-8ffc-a804b7dd7554",
   "metadata": {
    "id": "CS-U5rlW0_X8"
   },
   "outputs": [],
   "source": [
    "### TO BE COMPLETED ###\n",
    "\n",
    "[...]"
   ]
  },
  {
   "cell_type": "code",
   "execution_count": null,
   "id": "74f4e5ad-7986-4a64-9b25-83f7334b5dc7",
   "metadata": {
    "colab": {
     "base_uri": "https://localhost:8080/",
     "height": 467
    },
    "id": "MmNHbTOIjtu9",
    "outputId": "afd637b0-4c69-428c-a567-9fb9816b7201"
   },
   "outputs": [],
   "source": [
    "# %load solutions/pred/kmeans_mca.py"
   ]
  },
  {
   "cell_type": "markdown",
   "id": "22294b07-eb53-42a5-b9c1-ab675f242763",
   "metadata": {
    "id": "KBCMiGyfbFxh"
   },
   "source": [
    "#### SVM Model on MCA Components"
   ]
  },
  {
   "cell_type": "markdown",
   "id": "ddd4a5df-e095-4c44-a7a9-ae0e7b64a440",
   "metadata": {
    "id": "IzE02OBlZV2d"
   },
   "source": [
    "##### <span style=\"color:purple\">**Todo:** Divide the dataset into test and train sets.</span>\n",
    "\n",
    "- Create test and training matrices containing projections into the MCA space.\n",
    "- Create test and training vectors with related 'survived' labels."
   ]
  },
  {
   "cell_type": "code",
   "execution_count": null,
   "id": "75b4b596-5a2f-4c4c-ba8c-60592a207d83",
   "metadata": {
    "id": "ORry15jTZWRI"
   },
   "outputs": [],
   "source": [
    "### TO BE COMPLETED ###\n",
    "\n",
    "[...]\n",
    "\n",
    "X_train = ...\n",
    "y_train = ...\n",
    "\n",
    "X_test = ...\n",
    "y_test = ..."
   ]
  },
  {
   "cell_type": "code",
   "execution_count": null,
   "id": "c5841d16-82df-48b9-b695-a7c05759e6b6",
   "metadata": {
    "id": "Iy5lVYDC7gga"
   },
   "outputs": [],
   "source": [
    "# %load solutions/pred/train_test_mca.py"
   ]
  },
  {
   "cell_type": "markdown",
   "id": "9d031eba-c399-4932-80a9-3a5a93046fa3",
   "metadata": {
    "id": "d7o7nCmfe1n6"
   },
   "source": [
    "##### SVM with optimized C and Gamma"
   ]
  },
  {
   "cell_type": "code",
   "execution_count": null,
   "id": "cd3d60a0-2343-40da-b11f-f81e6fa383d3",
   "metadata": {
    "colab": {
     "base_uri": "https://localhost:8080/"
    },
    "id": "B6qzyTSIdB_I",
    "outputId": "c64345f5-1475-4db3-98b2-66d5c317a986"
   },
   "outputs": [],
   "source": [
    "svm = SVC(random_state=42, probability=True);\n",
    "\n",
    "distributions = {\"C\": stats.uniform(2, 10),\n",
    "             \"gamma\": stats.uniform(0.1, 1)}\n",
    "clf = RandomizedSearchCV(svm,\n",
    "    param_distributions = distributions,\n",
    "    n_iter = 20, n_jobs = 4, cv = 3,\n",
    "    random_state = 0,\n",
    "    scoring = 'roc_auc')\n",
    "\n",
    "search = clf.fit(X_train, y_train)\n",
    "print('Optimized Hyperparameters: %s' % search.best_params_)"
   ]
  },
  {
   "cell_type": "code",
   "execution_count": null,
   "id": "81b8a523-8622-46d2-be62-9068d35e318e",
   "metadata": {
    "colab": {
     "base_uri": "https://localhost:8080/",
     "height": 467
    },
    "id": "gnr_TPxHdCJ0",
    "outputId": "1f202070-8cb2-40c7-fada-4bb7ca36212e",
    "scrolled": true
   },
   "outputs": [],
   "source": [
    "svm = SVC(random_state = 42,\n",
    "          probability = True,\n",
    "          kernel = 'rbf',\n",
    "          gamma =search.best_params_['gamma'],\n",
    "          C= search.best_params_['C'])\n",
    "\n",
    "svm.fit(X_train, y_train)\n",
    "\n",
    "y_pred_svm_mca = svm.predict(X_test)\n",
    "svm_accuracy_mca = metrics.accuracy_score(y_test, y_pred_svm_mca)\n",
    "print(\"Accuracy of SVM: {:.3f}%\".format(100*svm_accuracy_mca))\n",
    "\n",
    "ConfusionMatrixDisplay(confusion_matrix(y_test, y_pred_svm_mca)).plot()\n",
    "plt.show()"
   ]
  },
  {
   "cell_type": "markdown",
   "id": "099b89ef-23ff-4238-83c9-2a58ea655336",
   "metadata": {
    "id": "HikNJYSmizfj"
   },
   "source": [
    "#### Logistic Regression on MCA Components"
   ]
  },
  {
   "cell_type": "code",
   "execution_count": null,
   "id": "94d5e06a-270c-4cfd-a862-2d843dff838e",
   "metadata": {
    "colab": {
     "base_uri": "https://localhost:8080/"
    },
    "id": "Mg1zRUyve_eJ",
    "outputId": "cf31e169-aaaf-4166-9ec5-46dea6c93bf8"
   },
   "outputs": [],
   "source": [
    "logistic = LogisticRegression(random_state=0, solver='saga',\n",
    "                              tol=1e-2, max_iter=200)\n",
    "\n",
    "distributions = {\"C\": stats.uniform(0, 4),\n",
    "                 \"penalty\": ['l2', 'l1']}\n",
    "clf = RandomizedSearchCV(logistic,\n",
    "    param_distributions = distributions,\n",
    "    n_iter = 20, n_jobs = 4, cv = 3,\n",
    "    random_state = 0,\n",
    "    scoring = 'roc_auc')\n",
    "\n",
    "search = clf.fit(X_train, y_train)\n",
    "print('Optimized Hyperparameters: %s' % search.best_params_)"
   ]
  },
  {
   "cell_type": "code",
   "execution_count": null,
   "id": "1726cbab-02da-445e-ad70-f4b73599e5ab",
   "metadata": {
    "colab": {
     "base_uri": "https://localhost:8080/",
     "height": 467
    },
    "id": "DyL3dKFfiQrJ",
    "outputId": "b16e346f-e554-445b-9f24-424e9e165713",
    "scrolled": true
   },
   "outputs": [],
   "source": [
    "logistic = LogisticRegression(random_state=0,\n",
    "                              solver='saga', tol=1e-2, max_iter=200,\n",
    "                              C= search.best_params_['C'],\n",
    "                              penalty =search.best_params_['penalty'])\n",
    "\n",
    "logistic.fit(X_train, y_train)\n",
    "\n",
    "y_pred_logistic_mca = logistic.predict(X_test)\n",
    "logistic_accuracy_mca = metrics.accuracy_score(y_test, y_pred_logistic_mca)\n",
    "print(\"Accuracy of Logistic Regression: {:.3f}%\".format(100*logistic_accuracy_mca))\n",
    "\n",
    "ConfusionMatrixDisplay(confusion_matrix(y_test, y_pred_logistic_mca)).plot()\n",
    "plt.show()"
   ]
  },
  {
   "cell_type": "markdown",
   "id": "5757bac2-4b97-410e-915f-7912abe2688a",
   "metadata": {},
   "source": [
    "##### <span style=\"color:purple\">**Todo:** Compare the different accuracies obtained previously.</span>\n"
   ]
  },
  {
   "cell_type": "code",
   "execution_count": null,
   "id": "946772ca-2dbe-48e6-9038-bab0a4db60e8",
   "metadata": {},
   "outputs": [],
   "source": [
    "### TO BE COMPLETED ###\n",
    "\n",
    "[...]"
   ]
  },
  {
   "cell_type": "code",
   "execution_count": null,
   "id": "443921b0-3cec-4de2-8466-46063af33ca5",
   "metadata": {},
   "outputs": [],
   "source": [
    "# %load solutions/pred/compare.py"
   ]
  },
  {
   "cell_type": "code",
   "execution_count": null,
   "id": "f6d8caa2-ff86-41fc-b9ec-089ef1dd3d5e",
   "metadata": {},
   "outputs": [],
   "source": []
  }
 ],
 "metadata": {
  "colab": {
   "provenance": [],
   "toc_visible": true
  },
  "kernelspec": {
   "display_name": "Python 3 (ipykernel)",
   "language": "python",
   "name": "python3"
  },
  "language_info": {
   "codemirror_mode": {
    "name": "ipython",
    "version": 3
   },
   "file_extension": ".py",
   "mimetype": "text/x-python",
   "name": "python",
   "nbconvert_exporter": "python",
   "pygments_lexer": "ipython3",
   "version": "3.12.2"
  }
 },
 "nbformat": 4,
 "nbformat_minor": 5
}
