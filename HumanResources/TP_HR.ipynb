{
 "cells": [
  {
   "cell_type": "markdown",
   "id": "638644a5-2fc9-4e38-a147-5a1cbe315bc4",
   "metadata": {},
   "source": [
    "# Human Resources Data Analysis and Attrition Prediction\n",
    "\n",
    "_Exploratory Analysis of HR Dataset_\n",
    "\n",
    "--- \n",
    "\n",
    "HR analysis helps us to interpret organizational data. It identifies people-related trends in the data, and enables the HR department to take appropriate action to keep the organization running smoothly and profitably. Attrition in a company is one of the complex challenges faced by human resources managers and HR staff.\n",
    "Interestingly, machine learning models can be deployed to predict potential cases of attrition, helping HR staff to take the necessary steps to retain the employee.\n",
    "\n",
    "Before any statistical processing, we need to ensure the quality of our data by (possibly) **cleaning** it - deleting redundant data, formatting strings, deleting NaNs, possibly performing data transformations - and **visualizing** it."
   ]
  },
  {
   "cell_type": "code",
   "execution_count": null,
   "id": "d8aa3e3a-da13-4f51-955a-230a1258e4ee",
   "metadata": {},
   "outputs": [],
   "source": [
    "import numpy as np\n",
    "import pandas as pd"
   ]
  },
  {
   "cell_type": "code",
   "execution_count": null,
   "id": "10e8c256-bfa8-431d-b924-867734b4632e",
   "metadata": {},
   "outputs": [],
   "source": [
    "import matplotlib.pyplot as plt\n",
    "import seaborn as sns \n",
    "\n",
    "%matplotlib inline"
   ]
  },
  {
   "cell_type": "markdown",
   "id": "4c0368e7-d8da-4438-9791-44490a8609cd",
   "metadata": {},
   "source": [
    "## Data Loading\n",
    "\n",
    "_Note:_ In Python, [colormap](https://matplotlib.org/stable/users/explain/colors/colormaps.html) allows easier dataframe visualization."
   ]
  },
  {
   "cell_type": "code",
   "execution_count": null,
   "id": "0fc8f0b4-61ad-4354-a090-3706d4587b65",
   "metadata": {},
   "outputs": [],
   "source": [
    "data = pd.read_csv('HR-Employee-Attrition.csv')\n",
    "\n",
    "display( data.head().style.background_gradient(cmap='BuPu') )"
   ]
  },
  {
   "cell_type": "markdown",
   "id": "1dd21c51-70d2-424c-b5ae-3fa80687cd96",
   "metadata": {},
   "source": [
    "For each employee, we observe the following 35 variables:\n",
    "* `Age` : Age in years of the employee\n",
    "* `Attrition` : People who people leave\n",
    "* `BusinessTravel` : How often an employee embark on a job related travel\n",
    "* `DailyRate` : Daily rate at which an employee is paid\n",
    "* `Department` : Department where the employee works\n",
    "* `DistanceFromHome` : Distance an employee travels from home to work\n",
    "* `Education` : Level of education of the employee\n",
    "* `EducationField` : What field the employee studied in school\n",
    "* `EmployeeCount` : Count of employee\n",
    "* `EmployeeNumber` : EMployee number\n",
    "* `EnvironmentSatisfaction` : Employee environment satisfaction\n",
    "* `Gender` : Gender of the employee\n",
    "* `HourlyRate` : Hourly rate of pay of the employee\n",
    "* `JobInvolvement` : Employee job involvement ratings\n",
    "* `JobLevel` : Employee Job level\n",
    "* `JobRole` : Employee Job role\n",
    "* `JobSatisfaction` : Employee Job Staisfaction\n",
    "* `MaritalStatus` : Employee Marital Status\n",
    "* `MonthlyIncome` : Employee monthly income\n",
    "* `MonthlyRate` : Employee Monthly rate\n",
    "* `NumCompaniesWorked` : Number of companies worked\n",
    "* `Over18` : Age over 18 years\n",
    "* `OverTime` : Work overtime\n",
    "* `PercentSalaryHike` : Salary increment in Percentages\n",
    "* `PerformanceRating` : Performance rating\n",
    "* `RelationshipSatisfaction` : Relationship satisfaction\n",
    "* `StandardHours` : Employee standard hours worked\n",
    "* `StockOptionLevel` : Stock options level\n",
    "* `TotalWorkingYears` : Total working hours\n",
    "* `TrainingTimesLastYear` : Total working years\n",
    "* `WorkLifeBalance` : Work life balance rating\n",
    "* `YearsAtCompany` : Years at the company\n",
    "* `YearsInCurrentRole` : Years in current role\n",
    "* `YearsSinceLastPromotion` : Years since last promotion\n",
    "* `YearsWithCurrManager` : Years with current manager"
   ]
  },
  {
   "cell_type": "markdown",
   "id": "457c8640-9bd6-4ef4-9b87-a0ce67b24e78",
   "metadata": {},
   "source": [
    "##### <span style=\"color:purple\"> **Question:** How many employees are we looking at? </span>"
   ]
  },
  {
   "cell_type": "code",
   "execution_count": null,
   "id": "77b6661f-0da8-4c52-a7b5-2244ea7fed1f",
   "metadata": {},
   "outputs": [],
   "source": [
    "### TO BE COMPLETED ###\n",
    "\n",
    "[...]"
   ]
  },
  {
   "cell_type": "markdown",
   "id": "c263957a-4f9d-4ea5-a6e2-d4d58012383d",
   "metadata": {},
   "source": [
    "## Data Cleaning"
   ]
  },
  {
   "cell_type": "markdown",
   "id": "5f8d2a4c-4322-46bb-a954-773ba57916bd",
   "metadata": {},
   "source": [
    "##### <span style=\"color:purple\"> **Todo:** Check data quality.</span>\n",
    "\n",
    "1. Does this dataset contain duplicate rows?\n",
    "2. How many distinct (unique) values does each variable take?\n",
    "3. How many empty cells are there in each column?\n",
    "4. How are the variables encoded? What type?"
   ]
  },
  {
   "cell_type": "code",
   "execution_count": null,
   "id": "bd388784-d875-4873-9836-000d5fca4890",
   "metadata": {},
   "outputs": [],
   "source": [
    "### TO BE COMPLETED ###\n",
    "\n",
    "[...]"
   ]
  },
  {
   "cell_type": "code",
   "execution_count": 33,
   "id": "dbde5034-df7f-4e64-8d96-7cf3af38b6ec",
   "metadata": {
    "tags": []
   },
   "outputs": [],
   "source": [
    "# %load solutions/data_quality.py"
   ]
  },
  {
   "cell_type": "markdown",
   "id": "a2243b30-d25e-4b54-8750-826038620d7c",
   "metadata": {},
   "source": [
    "> Comments."
   ]
  },
  {
   "cell_type": "markdown",
   "id": "b5409a6f-371c-43a7-b0d0-a9b585c01d20",
   "metadata": {},
   "source": [
    "##### <span style=\"color:purple\"> **Todo:** Remove unnecessary columns.</span>\n",
    "\n",
    "Dropping columns that have:\n",
    "- Only _one_ inside it that doesn't contribute to the analysis\n",
    "- Columns that contain _index_ value\n",
    "\n",
    "Use pandas [`drop`](https://pandas.pydata.org/docs/reference/api/pandas.DataFrame.drop.html) function."
   ]
  },
  {
   "cell_type": "code",
   "execution_count": null,
   "id": "5913dd5e-25c8-4a34-9a90-25f868acbf4f",
   "metadata": {},
   "outputs": [],
   "source": [
    "### TO BE COMPLETED ###\n",
    "\n",
    "[...]"
   ]
  },
  {
   "cell_type": "code",
   "execution_count": 32,
   "id": "87a25f20-87da-46bd-842b-0467c7aa67da",
   "metadata": {},
   "outputs": [],
   "source": [
    "# %load solutions/data_drop.py"
   ]
  },
  {
   "cell_type": "markdown",
   "id": "62502906-f18a-473b-993e-9a21e49b62ac",
   "metadata": {},
   "source": [
    "Consider two dataframes, `num` and `cat`, containing _quantitative_ and _qualitative_ data respectively."
   ]
  },
  {
   "cell_type": "code",
   "execution_count": null,
   "id": "1fabec79-74e7-456b-853d-c558c74c8777",
   "metadata": {},
   "outputs": [],
   "source": [
    "num = data.select_dtypes(exclude='O')\n",
    "display(num.head())"
   ]
  },
  {
   "cell_type": "code",
   "execution_count": null,
   "id": "dea03897-0914-44ba-a965-272d93da3cf0",
   "metadata": {},
   "outputs": [],
   "source": [
    "cat = data.select_dtypes(include='O')\n",
    "display(cat.head())"
   ]
  },
  {
   "cell_type": "markdown",
   "id": "d72f82dd-1894-4cb3-8291-42ea6738fbce",
   "metadata": {},
   "source": [
    "##### <span style=\"color:purple\"> **Question:**  What is the proportion of qualitative data in this dataset? Of quantitative data?</span>"
   ]
  },
  {
   "cell_type": "code",
   "execution_count": null,
   "id": "fe842df6-328a-4c5a-a62e-12b915c051c8",
   "metadata": {},
   "outputs": [],
   "source": [
    "### TO BE COMPLETED ###\n",
    "\n",
    "[...]"
   ]
  },
  {
   "cell_type": "code",
   "execution_count": 34,
   "id": "f6585e47-1046-430c-a613-0c571433130a",
   "metadata": {},
   "outputs": [],
   "source": [
    "# %load solutions/data_proportion.py"
   ]
  },
  {
   "cell_type": "markdown",
   "id": "4b8ce204-0acb-42bb-a5aa-ab8d66ecd5ee",
   "metadata": {},
   "source": [
    "##### <span style=\"color:purple\"> **Todo:** For each variable, display its basic statistical descriptors: variable, mean, quantiles, _etc._</span>"
   ]
  },
  {
   "cell_type": "code",
   "execution_count": null,
   "id": "b9bff85c-5e28-4bc5-8a48-628a2fd38a32",
   "metadata": {},
   "outputs": [],
   "source": [
    "### TO BE COMPLETED ###\n",
    "\n",
    "[...]"
   ]
  },
  {
   "cell_type": "code",
   "execution_count": 35,
   "id": "3fdc6d46-4bf2-4419-8456-31c7cc20cd86",
   "metadata": {},
   "outputs": [],
   "source": [
    "# %load solutions/stat_summary.py"
   ]
  },
  {
   "cell_type": "markdown",
   "id": "756136dc-db3a-4c86-ab12-a2311dc3d6ea",
   "metadata": {},
   "source": [
    "## Correlation Analysis"
   ]
  },
  {
   "cell_type": "markdown",
   "id": "682d8f1e-3101-402b-9882-537390e3e149",
   "metadata": {},
   "source": [
    "##### <span style=\"color:purple\"> **Todo:** Assess the correlation between variables.</span>\n",
    "\n",
    "1. Plot the Correlation Matrix between variables,\n",
    "2. You can select columns with high correlation:"
   ]
  },
  {
   "cell_type": "code",
   "execution_count": null,
   "id": "c9dcb475-e9dc-4432-805b-e57e7727dda1",
   "metadata": {},
   "outputs": [],
   "source": [
    "### TO BE COMPLETED ###\n",
    "\n",
    "[...]"
   ]
  },
  {
   "cell_type": "code",
   "execution_count": 36,
   "id": "4421f321-d071-4a61-8cc3-ac5ca5793721",
   "metadata": {},
   "outputs": [],
   "source": [
    "# %load solutions/data_correlation.py"
   ]
  },
  {
   "cell_type": "markdown",
   "id": "00ac54e2-d93d-4a4b-a51a-e2ff2c648be0",
   "metadata": {},
   "source": [
    "##### <span style=\"color:purple\"> **Todo:** Draw a pairplot for the 5 highest correlation variable.</span>\n",
    "\n",
    "Color the observations according to their attribution."
   ]
  },
  {
   "cell_type": "code",
   "execution_count": null,
   "id": "912982b8-977e-43d9-b523-f7d2a6170a0b",
   "metadata": {},
   "outputs": [],
   "source": [
    "### TO BE COMPLETED ###\n",
    "\n",
    "[...]"
   ]
  },
  {
   "cell_type": "code",
   "execution_count": null,
   "id": "fbf9e45e-fd96-4184-a79f-0a4f1cfc11df",
   "metadata": {},
   "outputs": [],
   "source": [
    "# %load solutions/data_pairplot.py"
   ]
  },
  {
   "cell_type": "markdown",
   "id": "efaaaa2f-089f-49c2-af95-29b2da4e5d83",
   "metadata": {},
   "source": [
    "According to the figure above, attrition appears to be strongly correlated with employees' career history. \n",
    "\n",
    "##### <span style=\"color:purple\"> **Todo:** Represent attrition according to the worker's historical profile.</span>\n",
    "\n",
    "- Plot the total number of years worked as a function of (i) the number of years spent in this company, (ii) the number of years spent in the current position and, finally, (iii) the number of years since the last promotion. \n",
    "- Colour the dots according to attrition."
   ]
  },
  {
   "cell_type": "code",
   "execution_count": null,
   "id": "fa3adb5e-20b5-4990-aa4c-fc5d13752546",
   "metadata": {},
   "outputs": [],
   "source": [
    "### TO BE COMPLETED ###\n",
    "\n",
    "[...]"
   ]
  },
  {
   "cell_type": "code",
   "execution_count": null,
   "id": "49320b17-5676-468f-8464-e2c8592d79ad",
   "metadata": {},
   "outputs": [],
   "source": [
    "# %load solutions/history.py"
   ]
  },
  {
   "cell_type": "markdown",
   "id": "b9f7eeca-f6f7-4aa1-a245-8f0169ab61f2",
   "metadata": {},
   "source": [
    "> Comments."
   ]
  },
  {
   "cell_type": "markdown",
   "id": "e03b0875-a687-4692-a55d-9ca7c44c0c11",
   "metadata": {},
   "source": [
    "## Data Visualization¶"
   ]
  },
  {
   "cell_type": "markdown",
   "id": "98778a5a-f69e-4a31-a312-588f3c4a2c97",
   "metadata": {},
   "source": [
    "### Breakdown of Overtime Work"
   ]
  },
  {
   "cell_type": "markdown",
   "id": "0f48922f-0ff5-4eac-bb19-f3457638fb68",
   "metadata": {},
   "source": [
    "##### <span style=\"color:purple\"> **Question:** What is the profile of employees working overtime?</span>\n",
    "\n",
    "View the distribution of overtime hours worked according to, for example, employees' marital status, department of practice, gender or age.\n",
    "\n",
    "You can use the [histplot](https://seaborn.pydata.org/generated/seaborn.histplot.html#seaborn.histplot) function."
   ]
  },
  {
   "cell_type": "code",
   "execution_count": null,
   "id": "c46a9a1f-e620-437a-ae17-631cf87472dc",
   "metadata": {},
   "outputs": [],
   "source": [
    "### TO BE COMPLETED ###\n",
    "\n",
    "[...]"
   ]
  },
  {
   "cell_type": "code",
   "execution_count": null,
   "id": "6ccf613f-bd63-4b9f-be3f-e905852d574a",
   "metadata": {},
   "outputs": [],
   "source": [
    "# %load solutions/overtime.py"
   ]
  },
  {
   "cell_type": "markdown",
   "id": "57bf3dfa-12e7-488f-a392-efc412e8d8dc",
   "metadata": {},
   "source": [
    "> Comments."
   ]
  },
  {
   "cell_type": "markdown",
   "id": "69132185-31ae-4841-a1d4-32b54a9c6478",
   "metadata": {},
   "source": [
    "## Company Departure"
   ]
  },
  {
   "cell_type": "markdown",
   "id": "ecae229a-c900-44c7-b66b-c5c2bebc96ea",
   "metadata": {},
   "source": [
    "##### <span style=\"color:purple\"> **Question:** What is the profile of employees working overtime?</span>\n",
    "\n",
    "Carry out the same exploratory study, but distinguish between employees who leave the company (attrition) and those who do not."
   ]
  },
  {
   "cell_type": "code",
   "execution_count": null,
   "id": "5d1c3a72-c2f8-43f5-bd5d-1107c726eb9c",
   "metadata": {},
   "outputs": [],
   "source": [
    "### TO BE COMPLETED ###\n",
    "\n",
    "[...]"
   ]
  },
  {
   "cell_type": "code",
   "execution_count": null,
   "id": "f0ddf2bb-c5cf-40d8-9f14-db2b704eafbc",
   "metadata": {},
   "outputs": [],
   "source": [
    "# %load solutions/attrition.py"
   ]
  },
  {
   "cell_type": "markdown",
   "id": "aeb45e22-6bad-49ea-9beb-b59059dc2d94",
   "metadata": {},
   "source": [
    "> Comments."
   ]
  },
  {
   "cell_type": "markdown",
   "id": "05bb2813-00d3-4ea7-bd89-6957025c8767",
   "metadata": {},
   "source": [
    "## One-hot Encoding of Categorical Data\n",
    "\n",
    "To facilitate statistical analysis (LDA decomposition), we will \"translate\" the various categorical variables into [one-hot](https://fr.wikipedia.org/wiki/Encodage_one-hot) encoder form."
   ]
  },
  {
   "cell_type": "markdown",
   "id": "747783c4-d3ca-4fe5-b9a3-bfe84cade875",
   "metadata": {},
   "source": [
    "### Attrition"
   ]
  },
  {
   "cell_type": "code",
   "execution_count": null,
   "id": "1cabf5cf-3df5-4871-99db-7043d546f5ab",
   "metadata": {},
   "outputs": [],
   "source": [
    "data.loc[data['Attrition']=='No','Attrition'] = 0\n",
    "data.loc[data['Attrition']=='Yes','Attrition'] = 1\n",
    "\n",
    "data['Attrition'] = data['Attrition'].astype('int')"
   ]
  },
  {
   "cell_type": "markdown",
   "id": "f6ea34a8-0a60-4fe7-b52a-16774f42adf8",
   "metadata": {},
   "source": [
    "### Business Travel"
   ]
  },
  {
   "cell_type": "code",
   "execution_count": null,
   "id": "3098b6ee-3add-4c20-b31a-66b5a06333cc",
   "metadata": {},
   "outputs": [],
   "source": [
    "BT = data['BusinessTravel'].unique()\n",
    "\n",
    "for travel in BT:\n",
    "    data['Business_'+travel] = 0\n",
    "    data.loc[data['BusinessTravel']==travel,'Business_'+travel] = 1\n",
    "    data['Business_'+travel] = data['Business_'+travel].astype('int')\n",
    "\n",
    "data = data.drop('BusinessTravel',axis=1)\n",
    "# data.head()"
   ]
  },
  {
   "cell_type": "markdown",
   "id": "cd42b4ae-8806-4307-83ca-ec6b7c1e11eb",
   "metadata": {},
   "source": [
    "### Working Department"
   ]
  },
  {
   "cell_type": "code",
   "execution_count": null,
   "id": "8e0a2efc-361f-47e4-ab74-433ec27a657e",
   "metadata": {},
   "outputs": [],
   "source": [
    "DPT = data['Department'].unique()\n",
    "DPT_names = ['Sales', 'R & D', 'Dpt HR']\n",
    "\n",
    "for i, dpt in enumerate(DPT):\n",
    "    data[DPT_names[i]] = 0\n",
    "    data.loc[data['Department']==dpt, DPT_names[i]] = 1\n",
    "    data[DPT_names[i]] = data[DPT_names[i]].astype('int')\n",
    "\n",
    "data = data.drop('Department',axis=1)\n",
    "# data.head()"
   ]
  },
  {
   "cell_type": "markdown",
   "id": "2a5b5cfd-6d94-45af-ad79-6104a243f038",
   "metadata": {},
   "source": [
    "### Education Field"
   ]
  },
  {
   "cell_type": "code",
   "execution_count": null,
   "id": "9c04951e-8c9d-469f-9266-40f8c858e221",
   "metadata": {},
   "outputs": [],
   "source": [
    "EDUC = data['EducationField'].unique()\n",
    "EDUC_names = ['Life Sciences', 'Other', 'Medical', 'Marketing', 'Technical Degree', 'Educ HR']\n",
    "\n",
    "for i, educ in enumerate(EDUC):\n",
    "    data[EDUC_names[i]] = 0\n",
    "    data.loc[data['EducationField']==educ, EDUC_names[i]] = 1\n",
    "    data[EDUC_names[i]] = data[EDUC_names[i]].astype('int')\n",
    "\n",
    "data = data.drop('EducationField',axis=1)\n",
    "# data.head()"
   ]
  },
  {
   "cell_type": "markdown",
   "id": "1ac23079-616a-444d-92ba-ffd47ca975ee",
   "metadata": {},
   "source": [
    "### Gender"
   ]
  },
  {
   "cell_type": "code",
   "execution_count": null,
   "id": "a57add48-3a2e-41e6-b507-21fd08de9f5e",
   "metadata": {},
   "outputs": [],
   "source": [
    "data.loc[data['Gender']=='Male','Gender'] = 1\n",
    "data.loc[data['Gender']=='Female','Gender'] = 0\n",
    "\n",
    "data['Gender'] = data['Gender'].astype('int')"
   ]
  },
  {
   "cell_type": "markdown",
   "id": "58d63d9c-f98d-4e04-b3d6-02b115a44a24",
   "metadata": {},
   "source": [
    "### Job Role"
   ]
  },
  {
   "cell_type": "code",
   "execution_count": null,
   "id": "8390700e-a766-4b6a-b287-ab196169b2bf",
   "metadata": {},
   "outputs": [],
   "source": [
    "JOB = data['JobRole'].unique()\n",
    "JOB_names = JOB\n",
    "JOB_names[-1] = 'Job HR'\n",
    "\n",
    "for i, job in enumerate(JOB):\n",
    "    data[JOB_names[i]] = 0\n",
    "    data.loc[data['JobRole']==job, JOB_names[i]] = 1\n",
    "    data[JOB_names[i]] = data[JOB_names[i]].astype('int')\n",
    "\n",
    "data = data.drop('JobRole',axis=1)\n",
    "# data.head()"
   ]
  },
  {
   "cell_type": "markdown",
   "id": "d72d346c-fd27-4d64-911c-c841ac890769",
   "metadata": {},
   "source": [
    "### MaritalStatus"
   ]
  },
  {
   "cell_type": "code",
   "execution_count": null,
   "id": "eb42a764-4f1f-4ac4-a619-43062f8591e0",
   "metadata": {},
   "outputs": [],
   "source": [
    "STATUS = data['MaritalStatus'].unique()\n",
    "STATUS_names = STATUS\n",
    "\n",
    "for i, statues in enumerate(STATUS):\n",
    "    data[STATUS_names[i]] = 0\n",
    "    data.loc[data['MaritalStatus']==statues, STATUS_names[i]] = 1\n",
    "    data[STATUS_names[i]] = data[STATUS_names[i]].astype('int')\n",
    "\n",
    "data = data.drop('MaritalStatus',axis=1)\n",
    "# data.head()"
   ]
  },
  {
   "cell_type": "markdown",
   "id": "4c596f35-76c8-471d-bc7a-0162e25149e6",
   "metadata": {},
   "source": [
    "### OverTime"
   ]
  },
  {
   "cell_type": "code",
   "execution_count": null,
   "id": "adb310b7-340b-4645-a433-38ae9f6e11d4",
   "metadata": {},
   "outputs": [],
   "source": [
    "data.loc[data['OverTime']=='No','OverTime'] = 0\n",
    "data.loc[data['OverTime']=='Yes','OverTime'] = 1\n",
    "\n",
    "data['OverTime'] = data['OverTime'].astype('int')"
   ]
  },
  {
   "cell_type": "markdown",
   "id": "862a4d00-81c7-4358-a9d3-2314c2ecefe9",
   "metadata": {},
   "source": [
    "We check:"
   ]
  },
  {
   "cell_type": "code",
   "execution_count": null,
   "id": "943e6660-f1a0-4942-8562-6d419b0867a9",
   "metadata": {
    "scrolled": true,
    "tags": []
   },
   "outputs": [],
   "source": [
    "data.dtypes"
   ]
  },
  {
   "cell_type": "markdown",
   "id": "03bc1518-e798-4904-b3bf-e80744a6130d",
   "metadata": {},
   "source": [
    "## Prediction of Attrition by **Logistic Regression**"
   ]
  },
  {
   "cell_type": "code",
   "execution_count": null,
   "id": "f08c0f38-cdc9-4451-96b1-12376841ebf4",
   "metadata": {},
   "outputs": [],
   "source": [
    "from sklearn.model_selection import train_test_split\n",
    "from sklearn.metrics import accuracy_score, classification_report\n",
    "\n",
    "from sklearn.linear_model import LogisticRegression"
   ]
  },
  {
   "cell_type": "markdown",
   "id": "04f3fa9b-61f1-4abb-9016-aa69ecfce8f9",
   "metadata": {},
   "source": [
    "##### <span style=\"color:purple\"> **Todo:** Using the [`train_test_split`](https://scikit-learn.org/stable/modules/generated/sklearn.model_selection.train_test_split.html) function, define a training and test data set.</span>"
   ]
  },
  {
   "cell_type": "code",
   "execution_count": null,
   "id": "f527acf6-4864-4ce7-8265-6b2477578d1e",
   "metadata": {},
   "outputs": [],
   "source": [
    "### TO BE COMPLETED ###\n",
    "\n",
    "[...]\n",
    "\n",
    "train_x, test_x, train_y, test_y = ..."
   ]
  },
  {
   "cell_type": "code",
   "execution_count": null,
   "id": "9ac07eb6-6a92-4846-b954-3df258fd76df",
   "metadata": {},
   "outputs": [],
   "source": [
    "# %load solutions/train_test_split.py"
   ]
  },
  {
   "cell_type": "markdown",
   "id": "57d55a81-3c3f-467f-8a2d-fa6d5bd41781",
   "metadata": {},
   "source": [
    "##### <span style=\"color:purple\"> **Todo:** Implement attrition prediction using a logistic regression model.</span>"
   ]
  },
  {
   "cell_type": "code",
   "execution_count": null,
   "id": "7a37d96f-9e5b-488f-8eb4-f251ea4c92a3",
   "metadata": {},
   "outputs": [],
   "source": [
    "### TO BE COMPLETED ###\n",
    "\n",
    "clf = LogisticRegression(solver='newton-cholesky')\n",
    "clf.fit(...)\n",
    "\n",
    "[...]\n",
    "\n",
    "accuracy = ...\n",
    "\n",
    "print( classification_report( ... ) )"
   ]
  },
  {
   "cell_type": "code",
   "execution_count": null,
   "id": "326d3638-7084-4efd-be35-e9d534eb22e5",
   "metadata": {},
   "outputs": [],
   "source": [
    "# %load solutions/logistic_regression.py"
   ]
  },
  {
   "cell_type": "markdown",
   "id": "47244512-0ee2-4f07-9e37-6246bf6d0712",
   "metadata": {},
   "source": [
    "> Comments"
   ]
  },
  {
   "cell_type": "markdown",
   "id": "3775d306-6742-479f-bef1-cc2637c8e7e0",
   "metadata": {},
   "source": [
    "## Prediction of Attrition by **Linear Discriminant Analysis** (LDA)"
   ]
  },
  {
   "cell_type": "code",
   "execution_count": null,
   "id": "740d53f1-4737-4c1e-b4bf-2853162ebb17",
   "metadata": {},
   "outputs": [],
   "source": [
    "from sklearn.discriminant_analysis import LinearDiscriminantAnalysis"
   ]
  },
  {
   "cell_type": "markdown",
   "id": "c5420bdc-73e6-4a30-9f0a-bad754e3cb4f",
   "metadata": {},
   "source": [
    "##### <span style=\"color:purple\"> **Todo:** Implement attrition prediction using LDA decomposition.</span>"
   ]
  },
  {
   "cell_type": "code",
   "execution_count": null,
   "id": "59eac9c4-6e82-4b1a-a3ac-251ea55dada9",
   "metadata": {},
   "outputs": [],
   "source": [
    "### TO BE COMPLETED ###\n",
    "\n",
    "[...]"
   ]
  },
  {
   "cell_type": "code",
   "execution_count": null,
   "id": "332ac1c4-ee0a-4432-85c0-71bc944d2530",
   "metadata": {},
   "outputs": [],
   "source": [
    "# %load solutions/linear_discriminant_analysis.py"
   ]
  },
  {
   "cell_type": "markdown",
   "id": "750824e0-6b46-4216-b57f-fd10a768d882",
   "metadata": {},
   "source": [
    "> Comments."
   ]
  },
  {
   "cell_type": "markdown",
   "id": "4c31ccc9-1ed2-4736-ab91-835cc7034b01",
   "metadata": {},
   "source": [
    "## Prediction of Attrition by **Quadratic Discriminant Analysis** (QDA)"
   ]
  },
  {
   "cell_type": "code",
   "execution_count": null,
   "id": "d230c256-a5f7-443c-a68b-077872a938a7",
   "metadata": {},
   "outputs": [],
   "source": [
    "from sklearn.discriminant_analysis import QuadraticDiscriminantAnalysis"
   ]
  },
  {
   "cell_type": "markdown",
   "id": "52aa8fe5-7d48-46fd-91b1-a08451f58592",
   "metadata": {},
   "source": [
    "##### <span style=\"color:purple\"> **Todo:** Implement attrition prediction using QDA decomposition.</span>"
   ]
  },
  {
   "cell_type": "code",
   "execution_count": null,
   "id": "942d8575-16f8-4d59-bd5e-5d2f511d9274",
   "metadata": {},
   "outputs": [],
   "source": [
    "### TO BE COMPLETED ###\n",
    "\n",
    "[...]"
   ]
  },
  {
   "cell_type": "code",
   "execution_count": null,
   "id": "ecf6b2b9-03c2-4266-a431-4f32a867d410",
   "metadata": {},
   "outputs": [],
   "source": [
    "# %load solutions/quadratic_discriminant_analysis.py"
   ]
  },
  {
   "cell_type": "markdown",
   "id": "981ea50e-655a-4e08-8394-e8309ec2c5cf",
   "metadata": {},
   "source": [
    "> Comments."
   ]
  },
  {
   "cell_type": "code",
   "execution_count": null,
   "id": "662e0138-b440-45d1-95b6-f4e00ff2f36f",
   "metadata": {},
   "outputs": [],
   "source": []
  },
  {
   "cell_type": "code",
   "execution_count": null,
   "id": "88c40ef2-3180-4a95-8239-ceca95063cc0",
   "metadata": {},
   "outputs": [],
   "source": []
  },
  {
   "cell_type": "code",
   "execution_count": null,
   "id": "2e68d154-a9cf-4d15-945e-6982a885afcd",
   "metadata": {},
   "outputs": [],
   "source": []
  },
  {
   "cell_type": "code",
   "execution_count": null,
   "id": "689fac99-ea1f-4262-bf8c-426beda3ffad",
   "metadata": {},
   "outputs": [],
   "source": []
  }
 ],
 "metadata": {
  "kernelspec": {
   "display_name": "Python 3 (ipykernel)",
   "language": "python",
   "name": "python3"
  },
  "language_info": {
   "codemirror_mode": {
    "name": "ipython",
    "version": 3
   },
   "file_extension": ".py",
   "mimetype": "text/x-python",
   "name": "python",
   "nbconvert_exporter": "python",
   "pygments_lexer": "ipython3",
   "version": "3.9.12"
  }
 },
 "nbformat": 4,
 "nbformat_minor": 5
}
