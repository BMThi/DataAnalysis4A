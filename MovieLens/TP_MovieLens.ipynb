{
 "cells": [
  {
   "cell_type": "markdown",
   "id": "2df52fd0-86bb-4ae2-9108-0ac943559323",
   "metadata": {},
   "source": [
    "# Non-negative Matrix Factorization: _Movie Recommendation_\n",
    "_\"What movie should I watch this evening?\"_\n",
    "\n",
    "---\n",
    "\n",
    "The objective of this tutorial is to use in practice Non-Negative Matrix Factorization (NMF). More precisely, we will build a movie recommendation system, which is a standard problem where NMF is used.\n",
    "Here, we apply NMF to user-item matrix, representing the ratings of different persons for different movies. The goal is to make good use of these data to predict the movies that a new user is likely to like.\n",
    "\n",
    "---"
   ]
  },
  {
   "cell_type": "code",
   "execution_count": null,
   "id": "67da683c",
   "metadata": {},
   "outputs": [],
   "source": [
    "import pandas as pd\n",
    "import numpy as np\n",
    "import matplotlib.pyplot as plt\n",
    "import time\n",
    "\n",
    "%matplotlib inline\n",
    "\n",
    "import seaborn as sns\n",
    "sns.set_theme(style=\"darkgrid\")"
   ]
  },
  {
   "cell_type": "markdown",
   "id": "747dbb85",
   "metadata": {},
   "source": [
    "___\n",
    "\n",
    "## Data exploration\n",
    "\n",
    "For this study, you will need to download the [MovieLens](https://en.wikipedia.org/wiki/MovieLens) dataset from the Grouplens site [grouplens.org/datasets/movielens](https://grouplens.org/datasets/movielens/). There are several datasets available on this page. In order to keep the digital cost under control, we will download [MovieLens 100k Dataset ](https://grouplens.org/datasets/movielens/100k/).\n",
    "\n",
    "The MovieLens datasets were collected by the GroupLens Research Project at the University of [Minnesota Harper and Konstan (2015)](https://dl.acm.org/doi/10.1145/2827872). The data was collected through the MovieLens web site between September 19th, 1997 and April 22nd, 1998. Users who had less than 20 ratings or did not have complete demographic information were removed from this dataset. More information about this dataset can be found in the [ml-100k-README.txt](https://files.grouplens.org/datasets/movielens/ml-100k-README.txt) page on the Grouplens page."
   ]
  },
  {
   "cell_type": "markdown",
   "id": "eacb2b20",
   "metadata": {},
   "source": [
    "### Load the dataset"
   ]
  },
  {
   "cell_type": "markdown",
   "id": "f8da4ded-8f5d-420c-b9b9-09e80caef443",
   "metadata": {},
   "source": [
    "##### <span style=\"color:purple\">**Todo:** Download and unzip the `ml-100k.zip` file.</span>\n",
    "\n",
    "This \"small\" dataset consists of 100 000 ratings. Each user has rated at least 20 movies. Simple demographic info for the users (age, gender, occupation) are also available."
   ]
  },
  {
   "cell_type": "markdown",
   "id": "cc506560-a211-4444-806b-072d05c45263",
   "metadata": {},
   "source": [
    "##### <span style=\"color:purple\">**Todo:** Read the `u.data` file using the `read_csv` method.</span>\n",
    "\n",
    "We will only use the first three columns, which correspond respectively to `User_ID`, `Movie ID` and `Rating`."
   ]
  },
  {
   "cell_type": "code",
   "execution_count": null,
   "id": "b7da6b45-6e80-4776-8d65-540b72e292f0",
   "metadata": {},
   "outputs": [],
   "source": [
    "### TO BE COMPLETED ### \n",
    "\n",
    "names = ['User ID', 'Movie ID', 'Rating']\n",
    "ratings_df = ..."
   ]
  },
  {
   "cell_type": "code",
   "execution_count": null,
   "id": "8ea78062",
   "metadata": {},
   "outputs": [],
   "source": [
    "# %load solutions/load_ratings.py"
   ]
  },
  {
   "cell_type": "markdown",
   "id": "60fc967d-8fe2-4a32-87fc-faa5e8b5a440",
   "metadata": {},
   "source": [
    "##### <span style=\"color:purple\">**Todo:** Check that the dataset contains 100k ratings.</span>\n",
    "\n",
    "1. How many different users are in this dataset? \n",
    "2. How many different movies did they rate? "
   ]
  },
  {
   "cell_type": "code",
   "execution_count": null,
   "id": "5e07a206-4007-4509-ae02-ffc626f8f991",
   "metadata": {},
   "outputs": [],
   "source": [
    "### TO BE COMPLETED ### \n",
    "\n",
    "n_ratings = ...\n",
    "n_users = ...\n",
    "n_items = ...\n",
    "\n",
    "print(\"Total number of ratings in the dataset: %i\" % (n_ratings))\n",
    "print(\"Number of persons who rated movies: %i\" % (n_users))\n",
    "print(\"Number of rated movies: %i\" % (n_items))"
   ]
  },
  {
   "cell_type": "code",
   "execution_count": null,
   "id": "5c901e63-7d47-48f0-a976-4a408ec6a686",
   "metadata": {},
   "outputs": [],
   "source": [
    "# %load solutions/check_dataset.py"
   ]
  },
  {
   "cell_type": "markdown",
   "id": "52df0b74-8990-4cfd-8172-2b76584fbabe",
   "metadata": {},
   "source": [
    "### Distribution of the ratings"
   ]
  },
  {
   "cell_type": "markdown",
   "id": "3af59ea1-2b33-495d-a298-d16b13d14836",
   "metadata": {},
   "source": [
    "##### <span style=\"color:purple\">**Todo:** Study the distribution of ratings.</span>\n",
    "\n",
    "1. On what scale are the ratings given?\n",
    "2. What is the mean score? median?\n",
    "\n",
    "You may use the `describe()` method."
   ]
  },
  {
   "cell_type": "code",
   "execution_count": null,
   "id": "34d45bbc-312a-40ab-8e05-6c529ca50f21",
   "metadata": {},
   "outputs": [],
   "source": [
    "### TO BE COMPLETED ### \n",
    "# Statistics of the ratings\n",
    "\n",
    "ratings_df[\"Rating\"].describe()\n",
    "\n",
    "[...]"
   ]
  },
  {
   "cell_type": "code",
   "execution_count": null,
   "id": "5e9fb437-dff1-4acc-b161-62dac2f925ba",
   "metadata": {},
   "outputs": [],
   "source": [
    "# %load solutions/stats_ratings.py"
   ]
  },
  {
   "cell_type": "markdown",
   "id": "18008f2d-59f6-46ce-af49-1def790194f7",
   "metadata": {},
   "source": [
    "##### <span style=\"color:purple\">**Todo:** Plot the histogram of the ratings.</span>\n",
    "\n",
    "Should we normalize these values before applying NMF?"
   ]
  },
  {
   "cell_type": "code",
   "execution_count": null,
   "id": "be1044cb-432c-4d2c-8a92-62e86f06f2cf",
   "metadata": {},
   "outputs": [],
   "source": [
    "### TO BE COMPLETED ### \n",
    "# Histogram of the ratings\n",
    "\n",
    "[...]"
   ]
  },
  {
   "cell_type": "code",
   "execution_count": null,
   "id": "20163e1d",
   "metadata": {},
   "outputs": [],
   "source": [
    "# %load solutions/hists_ratings.py"
   ]
  },
  {
   "cell_type": "markdown",
   "id": "10bc518b",
   "metadata": {},
   "source": [
    "### Ratings per user"
   ]
  },
  {
   "cell_type": "markdown",
   "id": "f68a897b-2db9-48e0-8353-f2b21414d49d",
   "metadata": {},
   "source": [
    "##### <span style=\"color:purple\">**Todo:** Plot the histogram representing the number of ratings per user.</span>"
   ]
  },
  {
   "cell_type": "code",
   "execution_count": null,
   "id": "16276794-b7ac-4815-af00-74f7d4227f93",
   "metadata": {},
   "outputs": [],
   "source": [
    "### TO BE COMPLETED ### \n",
    "# Histogram of the ratings per user\n",
    "\n",
    "users_list = ...\n",
    "n_ratings_ind = ... # Number of movies rated by the user i\n",
    "n_ratings_ind = np.array(n_ratings_ind)\n",
    "\n",
    "[...]"
   ]
  },
  {
   "cell_type": "code",
   "execution_count": null,
   "id": "162cb655",
   "metadata": {},
   "outputs": [],
   "source": [
    "# %load solutions/hists_ratings_user.py"
   ]
  },
  {
   "cell_type": "markdown",
   "id": "28735700",
   "metadata": {},
   "source": [
    "##### <span style=\"color:purple\">**Question:** How many movies did people rate on average?</span>\n",
    "\n",
    "Other statistics: min, max, median, quartiles?"
   ]
  },
  {
   "cell_type": "code",
   "execution_count": null,
   "id": "cfb95e06-acc9-45b6-ab8d-949870c12722",
   "metadata": {},
   "outputs": [],
   "source": [
    "### TO BE COMPLETED ### \n",
    "# Statistics of the ratings per user\n",
    "\n",
    "[...]"
   ]
  },
  {
   "cell_type": "code",
   "execution_count": null,
   "id": "6b3b1f28",
   "metadata": {},
   "outputs": [],
   "source": [
    "# %load solutions/stats_ratings_user.py"
   ]
  },
  {
   "cell_type": "markdown",
   "id": "ffe17805-2306-4efb-860e-7564e5ca6023",
   "metadata": {},
   "source": [
    "##### <span style=\"color:purple\">**Question:** What is the profile of the user who has rated the most films?</span>\n",
    "\n",
    "The `u.user` file contains the demographic information for each user. We load it with the command below."
   ]
  },
  {
   "cell_type": "code",
   "execution_count": null,
   "id": "495f7fad-1a70-4045-a4b6-429ae2349b87",
   "metadata": {},
   "outputs": [],
   "source": [
    "# Loading demographic information about the users\n",
    "\n",
    "names = ['User ID', 'Age', 'Gender', 'Occupation']\n",
    "users_df = pd.read_csv(\"ml-100k/u.user\", sep=\"|\", header=None, usecols=[0,1,2,3], \n",
    "                           encoding='iso-8859-1', names=names)\n",
    "\n",
    "users_df.head()"
   ]
  },
  {
   "cell_type": "code",
   "execution_count": null,
   "id": "5dd307cf-c7a2-42a4-a6f0-9f8afce63af6",
   "metadata": {},
   "outputs": [],
   "source": [
    "### TO BE COMPLETED ### \n",
    "# User who rated the most films\n",
    "\n",
    "[...]"
   ]
  },
  {
   "cell_type": "code",
   "execution_count": null,
   "id": "4064238a-21c6-4508-adce-f11a033a5231",
   "metadata": {},
   "outputs": [],
   "source": [
    "# %load solutions/max_ratings.py"
   ]
  },
  {
   "cell_type": "markdown",
   "id": "82da49bb",
   "metadata": {},
   "source": [
    "### Average ratings per movie"
   ]
  },
  {
   "cell_type": "markdown",
   "id": "017f8009-ef43-405b-bd6a-c892aef82ac7",
   "metadata": {},
   "source": [
    "##### <span style=\"color:purple\">**Todo:** Plot the histogram representing the average rating per movie.</span>"
   ]
  },
  {
   "cell_type": "code",
   "execution_count": null,
   "id": "de8fb414-70e2-4623-9609-550fac8461a0",
   "metadata": {},
   "outputs": [],
   "source": [
    "### TO BE COMPLETED ### \n",
    "# Histogram of the ratings per user\n",
    "\n",
    "movies_list = ...\n",
    "mean_ratings = ... # Average rating of the k-th movie\n",
    "\n",
    "[...]"
   ]
  },
  {
   "cell_type": "code",
   "execution_count": null,
   "id": "903c289f",
   "metadata": {},
   "outputs": [],
   "source": [
    "# %load solutions/hists_ratings_movie.py"
   ]
  },
  {
   "cell_type": "markdown",
   "id": "200b9dab",
   "metadata": {},
   "source": [
    "##### <span style=\"color:purple\">**Todo:** Find movies with ratings 1 and 5.</span>\n",
    "\n",
    "The movie titles can be read from the `u.item` file, using the following line of code: "
   ]
  },
  {
   "cell_type": "code",
   "execution_count": null,
   "id": "eaa3c538-cc77-4673-b720-e01db1a7344e",
   "metadata": {},
   "outputs": [],
   "source": [
    "# Loading movies' genre\n",
    "genre_df = pd.read_csv(\"ml-100k/u.genre\", sep=\"|\", header=None, usecols=[0], encoding='latin-1', names=[\"Genre\"])\n",
    "genre = genre_df.values.squeeze().tolist()\n",
    "\n",
    "# Loading movies \n",
    "cols = [1] + np.arange(5,24).tolist()\n",
    "names = [\"Title\"] + np.arange(19).tolist()\n",
    "movies_df = pd.read_csv(\"ml-100k/u.item\", sep=\"|\", header=None, usecols=cols, encoding='iso-8859-1', names=names)\n",
    "\n",
    "# Each movie is assigned its first genre encountered in the list, in alphabetical order (arbitrary choice).\n",
    "movies_df.insert(1, \"Genre\", movies_df.eq(1).idxmax(axis=1).values.squeeze().tolist(), True)\n",
    "\n",
    "# Rename dataframe columns\n",
    "movies_df.columns = [\"Title\",\"Genre\"]+genre\n",
    "\n",
    "movies_df.head()\n",
    "# movies_df['Title'].head()"
   ]
  },
  {
   "cell_type": "code",
   "execution_count": null,
   "id": "46fee03d-04bf-4b77-b34e-e7c1b8217e1b",
   "metadata": {},
   "outputs": [],
   "source": [
    "### TO BE COMPLETED ### \n",
    "# Example of a *bad* and a *good* movie\n",
    "\n",
    "[...]"
   ]
  },
  {
   "cell_type": "code",
   "execution_count": null,
   "id": "b7264806",
   "metadata": {},
   "outputs": [],
   "source": [
    "# %load solutions/bad_good_movies.py"
   ]
  },
  {
   "cell_type": "markdown",
   "id": "025f5162-5b6d-42fe-8281-a0fa4e02e12c",
   "metadata": {},
   "source": [
    "## Applying Non-negative Matrix Factorization (NMF)\n",
    "\n",
    "Most recommendation models consist in building a user-by-item matrix with some sort of \"interaction\"\n",
    "number in each cell. Here, users give items numerical ratings, this is called an explicit feedback model."
   ]
  },
  {
   "cell_type": "code",
   "execution_count": null,
   "id": "978dbf64-ede0-4bfb-89a4-0c22b8bbfbdd",
   "metadata": {},
   "outputs": [],
   "source": [
    "from scipy import sparse"
   ]
  },
  {
   "cell_type": "markdown",
   "id": "a3883e6e-5527-45f8-be30-8fce08f0d746",
   "metadata": {},
   "source": [
    "### User-item matrix\n",
    "\n",
    "<a id='user-item-matrix'></a>"
   ]
  },
  {
   "cell_type": "markdown",
   "id": "2bc2a749-164a-4020-a4a1-0deb992529fc",
   "metadata": {},
   "source": [
    "##### <span style=\"color:purple\">**Todo:** Build the user-item matrix for the movie rating problem studied here.</span>\n",
    "\n",
    "- We can use the [`scipy.sparse.csr_matrix`](https://docs.scipy.org/doc/scipy/reference/generated/scipy.sparse.csr_matrix.html) function to build a sparse matrix. This matrix can then be converted to dense using the `todense()` method.\n",
    "- Note that there is no user '0' in the dataset.\n",
    "\n",
    "<br>\n",
    "\n",
    "The command `print(R[:10,:20])` returns\n",
    "```\n",
    "[[5 3 4 3 3 5 4 1 5 3 2 5 5 5 5 5 3 4 5 4]\n",
    " [4 0 0 0 0 0 0 0 0 2 0 0 4 4 0 0 0 0 3 0]\n",
    " [0 0 0 0 0 0 0 0 0 0 0 0 0 0 0 0 0 0 0 0]\n",
    " [0 0 0 0 0 0 0 0 0 0 4 0 0 0 0 0 0 0 0 0]\n",
    " [4 3 0 0 0 0 0 0 0 0 0 0 0 0 0 0 4 0 0 0]\n",
    " [4 0 0 0 0 0 2 4 4 0 0 4 2 5 3 0 0 0 4 0]\n",
    " [0 0 0 5 0 0 5 5 5 4 3 5 0 0 0 0 0 0 0 0]\n",
    " [0 0 0 0 0 0 3 0 0 0 3 0 0 0 0 0 0 0 0 0]\n",
    " [0 0 0 0 0 5 4 0 0 0 0 0 0 0 0 0 0 0 0 0]\n",
    " [4 0 0 4 0 0 4 0 4 0 4 5 3 0 0 4 0 0 0 0]]\n",
    "```\n",
    "What should be the size of this matrix ?"
   ]
  },
  {
   "cell_type": "code",
   "execution_count": null,
   "id": "43862f30-7212-410c-a935-fc9c2933dcd7",
   "metadata": {},
   "outputs": [],
   "source": [
    "### TO BE COMPLETED ### \n",
    "# R user-item matrix\n",
    "\n",
    "[...]"
   ]
  },
  {
   "cell_type": "code",
   "execution_count": null,
   "id": "24ff1174-bf53-4f33-83ce-958d1aa8e9ff",
   "metadata": {},
   "outputs": [],
   "source": [
    "# %load solutions/R_matrix.py"
   ]
  },
  {
   "cell_type": "markdown",
   "id": "c552456a-28fe-4605-9408-43416f14be2c",
   "metadata": {},
   "source": [
    "##### <span style=\"color:purple\">**Todo:** Choose a pair (user,movie) and check that the rating in the R-matrix matches the rating in the dataset.</span>\n",
    "\n",
    "For example, we can look at the first row of the dataset."
   ]
  },
  {
   "cell_type": "code",
   "execution_count": null,
   "id": "00e15b45-9bec-4aff-9eda-83003033d5c7",
   "metadata": {},
   "outputs": [],
   "source": [
    "### TO BE COMPLETED ### \n",
    "\n",
    "[...]"
   ]
  },
  {
   "cell_type": "code",
   "execution_count": null,
   "id": "fb68d222-7a4e-46bc-9482-aae2044d0c9b",
   "metadata": {},
   "outputs": [],
   "source": [
    "# %load solutions/R_matrix_check.py"
   ]
  },
  {
   "cell_type": "markdown",
   "id": "7654961a-8952-40b8-b574-87e081f1f7ee",
   "metadata": {},
   "source": [
    "##### <span style=\"color:purple\">**Question:** What is the sparsity, _i.e._ the proportion of zeros, of the matrix obtained?</span>\n",
    "\n",
    "- We can use the [`nonzero()`](https://numpy.org/doc/stable/reference/generated/numpy.nonzero.html) method.\n",
    "\n",
    "What are your thoughts on this? Does it interfere with the chosen scoring system?"
   ]
  },
  {
   "cell_type": "code",
   "execution_count": null,
   "id": "e891feb0-276e-4806-82a9-b8cba9e9473b",
   "metadata": {},
   "outputs": [],
   "source": [
    "### TO BE COMPLETED ### \n",
    "\n",
    "[...]"
   ]
  },
  {
   "cell_type": "code",
   "execution_count": null,
   "id": "f408d9f7-3c1b-49fc-979f-88f0a3f97dea",
   "metadata": {},
   "outputs": [],
   "source": [
    "# %load solutions/R_matrix_sparsity.py"
   ]
  },
  {
   "cell_type": "markdown",
   "id": "70212a03-8865-4bd4-8acb-1068e0c350be",
   "metadata": {},
   "source": [
    "### Implementation of NMF decomposition"
   ]
  },
  {
   "cell_type": "code",
   "execution_count": null,
   "id": "c2a213b5-389e-4dc1-8710-27146d44d118",
   "metadata": {},
   "outputs": [],
   "source": [
    "from sklearn.decomposition import NMF"
   ]
  },
  {
   "cell_type": "markdown",
   "id": "704c23ce-f9fb-432a-9fff-e77b36e4fab1",
   "metadata": {},
   "source": [
    "##### <span style=\"color:purple\">**Todo:** Apply NMF with 20 components.</span>\n",
    "\n",
    "1. How many iterations to convergence?\n",
    "2. Verify the shape of the feature matrix representing the different movies.\n",
    "3. Verify the shape of the feature matrix representing the different users."
   ]
  },
  {
   "cell_type": "code",
   "execution_count": null,
   "id": "c94f38e6-4d73-47e9-b3f5-7fea0967782f",
   "metadata": {},
   "outputs": [],
   "source": [
    "### TO BE COMPLETED ### \n",
    "# NMF decomposition\n",
    "\n",
    "[...]"
   ]
  },
  {
   "cell_type": "code",
   "execution_count": null,
   "id": "a7d91266-9bd9-4326-a706-731513c3eace",
   "metadata": {},
   "outputs": [],
   "source": [
    "# %load solutions/nmf.py"
   ]
  },
  {
   "cell_type": "markdown",
   "id": "2ea0b605-6529-4d7c-a1c3-a7447b8f4e56",
   "metadata": {},
   "source": [
    "### Topics of the different components \n",
    "\n",
    "The cell below displays the titles of the films most \"strongly\" associated with each of the 20 components of the decomposition. \n",
    "\n",
    "<a id='topic_plot'></a>"
   ]
  },
  {
   "cell_type": "code",
   "execution_count": null,
   "id": "2034cac8-8f25-4111-b860-7c4fecf8a991",
   "metadata": {},
   "outputs": [],
   "source": [
    "from matplotlib import colors"
   ]
  },
  {
   "cell_type": "markdown",
   "id": "06e17663-35c5-4821-ad63-d0e35d91d3a5",
   "metadata": {},
   "source": [
    "For each of the \"topics\" found in the decomposition, we will represent the films that contribued most to it, colored according to their genre. To do this, we will use the color palette below."
   ]
  },
  {
   "cell_type": "code",
   "execution_count": null,
   "id": "fe9790cc-9554-48d6-9c80-ee2e53fc8f76",
   "metadata": {},
   "outputs": [],
   "source": [
    "cmap = plt.get_cmap('tab20', len(genre))\n",
    "plt.barh(genre, .5, color=cmap.colors, label=genre)\n",
    "\n",
    "plt.title(\"Color by movie genre\")\n",
    "plt.show()"
   ]
  },
  {
   "cell_type": "markdown",
   "id": "554d4908-85db-409a-a311-cb084f71a01d",
   "metadata": {},
   "source": [
    "##### <span style=\"color:purple\">**Question:** What do you think about the resulting decomposition?</span>\n",
    "\n",
    "- Comment the above figure.\n",
    "- What does the bar length represent?"
   ]
  },
  {
   "cell_type": "code",
   "execution_count": null,
   "id": "1befd0a3-aeb5-49e0-b184-cc426404d97e",
   "metadata": {},
   "outputs": [],
   "source": [
    "n_top_words = 5\n",
    "fig, axes = plt.subplots(5, 4, figsize=(50, 60), sharex=True)\n",
    "axes = axes.flatten()\n",
    "cmap = plt.get_cmap('tab20', len(genre))\n",
    "\n",
    "for i in range(H.shape[0]):\n",
    "    topic = H[i, :]\n",
    "    top_features = topic.argsort()[: -n_top_words - 1 : -1]\n",
    "    top_features_names = [movies_df[\"Title\"][j][:20] for j in top_features]\n",
    "    top_features_scores = [topic[j] for j in top_features]\n",
    "    top_features_genres = [movies_df[\"Genre\"][j] for j in top_features]\n",
    "    top_cmap = colors.ListedColormap(cmap.colors[top_features_genres])\n",
    "    \n",
    "    ax = axes[i]\n",
    "    ax.barh(top_features_names, top_features_scores, height=0.7, color=top_cmap.colors)\n",
    "    ax.set_title(f\"Topic {i+1}\", fontdict={\"fontsize\": 30})\n",
    "    ax.invert_yaxis()\n",
    "    ax.tick_params(axis=\"both\", which=\"major\", labelsize=20)\n",
    "    for i in \"top right left\".split():\n",
    "        ax.spines[i].set_visible(False)\n",
    "\n",
    "plt.subplots_adjust(top=0.90, bottom=0.05, wspace=0.90, hspace=0.3)\n",
    "plt.show()"
   ]
  },
  {
   "cell_type": "markdown",
   "id": "2f898293-ecd2-4565-9c7c-eabbc823baee",
   "metadata": {},
   "source": [
    "### Reconstructed user-item matrix."
   ]
  },
  {
   "cell_type": "markdown",
   "id": "9149f238-22a1-4266-a07c-6afa61a02ef3",
   "metadata": {},
   "source": [
    "##### <span style=\"color:purple\">**Question:** What is the average reconstruction error?</span>\n",
    "\n",
    "Consider only the true ratings, _i.e_ the ones present in the original dataset."
   ]
  },
  {
   "cell_type": "code",
   "execution_count": null,
   "id": "8ce028a9-665c-405c-ac21-8fddf03d3937",
   "metadata": {},
   "outputs": [],
   "source": [
    "### TO BE COMPLETED ### \n",
    "# Average reconstruction error\n",
    "\n",
    "[...]"
   ]
  },
  {
   "cell_type": "code",
   "execution_count": null,
   "id": "220ee752-7c91-4c54-bace-99ab7e9c9976",
   "metadata": {},
   "outputs": [],
   "source": [
    "# %load solutions/reconstruction_error.py"
   ]
  },
  {
   "cell_type": "markdown",
   "id": "583390ed-2feb-41aa-8d45-1172facbabf6",
   "metadata": {},
   "source": [
    "##### <span style=\"color:purple\">**Todo:** Observe the range of values taken by `R_pred`.</span>\n",
    "\n",
    "1. What do you notice?\n",
    "2. Suggest an improvement."
   ]
  },
  {
   "cell_type": "code",
   "execution_count": null,
   "id": "336d93e8-eb07-4c4d-b217-0fb6d6dc13d8",
   "metadata": {},
   "outputs": [],
   "source": [
    "### TO BE COMPLETED ### \n",
    "# Range of values\n",
    "\n",
    "[...]"
   ]
  },
  {
   "cell_type": "code",
   "execution_count": null,
   "id": "25981cee-9b7d-4943-9359-30aac274604a",
   "metadata": {},
   "outputs": [],
   "source": [
    "# %load solutions/reconstruction_error_range.py"
   ]
  },
  {
   "cell_type": "code",
   "execution_count": null,
   "id": "85bfe1a2-ef79-4dd4-9a35-bbf01e94ac05",
   "metadata": {},
   "outputs": [],
   "source": [
    "### TO BE COMPLETED ### \n",
    "# Improvement\n",
    "\n",
    "[...]"
   ]
  },
  {
   "cell_type": "code",
   "execution_count": null,
   "id": "f183ded2-458a-42f0-8878-68ef7fe59f92",
   "metadata": {},
   "outputs": [],
   "source": [
    "# %load solutions/improve_prediction.py"
   ]
  },
  {
   "cell_type": "markdown",
   "id": "a2d0e605-3a8b-488b-948a-7e54043b6522",
   "metadata": {},
   "source": [
    "### Known User \n",
    "\n",
    "Let's start with the simplest situation: recommending new movies to a user already in our database."
   ]
  },
  {
   "cell_type": "markdown",
   "id": "438bf630-3f9b-433d-a99b-d049080df385",
   "metadata": {},
   "source": [
    "##### <span style=\"color:purple\">**Todo:** Select a user at random within the dataset and recommend five movies he has not seen.</span>\n",
    "\n",
    "The recommended movies are the ones with highest reconstruction scores among the unseen movies. These predictions can be displayed as a dataframe: one column for the title, one for the prediction score and one for the genre of the predicted movie."
   ]
  },
  {
   "cell_type": "code",
   "execution_count": null,
   "id": "980b724d-b417-4d2a-bc70-c028b242893c",
   "metadata": {},
   "outputs": [],
   "source": [
    "### TO BE COMPLETED ### \n",
    "# Recommendations known user\n",
    "\n",
    "n_recommendations = 5\n",
    "\n",
    "user_idx = ...\n",
    "user = users_df[users_df['User ID']==user_idx]\n",
    "\n",
    "A = user.iloc[0]['Age']\n",
    "G = user.iloc[0]['Gender']\n",
    "O = user.iloc[0]['Occupation']\n",
    "print(\"Recommended movies for user %i: A %i year old\" % (user_idx, A), G, O,'\\n')\n",
    "\n",
    "# ----- #\n",
    "\n",
    "[...]\n",
    "    \n",
    "predicted_movies"
   ]
  },
  {
   "cell_type": "code",
   "execution_count": null,
   "id": "4fe3ba62-fc3f-4b6d-b604-25c565a1605a",
   "metadata": {},
   "outputs": [],
   "source": [
    "# %load solutions/reco_known_user.py"
   ]
  },
  {
   "cell_type": "markdown",
   "id": "1cd3adad-fd4b-43ac-aa15-38282b8dacd4",
   "metadata": {},
   "source": [
    "##### <span style=\"color:purple\">**Todo:** Display the predicted movies in a horizontal barplot.</span>\n",
    "\n",
    "Using the [horizontal barplot of the topics](#topic_plot), draw a horizontal barplot where the length of the bars is given by the rating of the predicted movie, and its color by the genre of the movie."
   ]
  },
  {
   "cell_type": "code",
   "execution_count": null,
   "id": "b84391eb-987d-4bfa-b704-8720c87c4ea6",
   "metadata": {},
   "outputs": [],
   "source": [
    "### TO BE COMPLETED ### \n",
    "# Horizontal barplot\n",
    "\n",
    "[...]"
   ]
  },
  {
   "cell_type": "code",
   "execution_count": null,
   "id": "ea835e30-d0c0-460b-8f01-e75c7e69f15e",
   "metadata": {},
   "outputs": [],
   "source": [
    "# %load solutions/horizontal_barplot.py"
   ]
  },
  {
   "cell_type": "markdown",
   "id": "59fb085f-c9cc-4bdc-9e78-64b798c4fc9c",
   "metadata": {},
   "source": [
    "##### <span style=\"color:purple\">**Todo:** Compare the prediction with his/her favorite movies.</span>\n",
    "\n",
    "1. Build the dataframe of these 5 favorite movies\n",
    "2. Draw for these favorite movies the analog of the previous figure\n",
    "3. Comment"
   ]
  },
  {
   "cell_type": "code",
   "execution_count": null,
   "id": "95654f24-40e2-4af6-a0c1-e96f93e55e05",
   "metadata": {},
   "outputs": [],
   "source": [
    "### TO BE COMPLETED ### \n",
    "# Favorite movies\n",
    "\n",
    "[...]"
   ]
  },
  {
   "cell_type": "code",
   "execution_count": null,
   "id": "dc30b7eb-2f0f-4904-a010-4555fe8f9f24",
   "metadata": {},
   "outputs": [],
   "source": [
    "# %load solutions/favorite_movies.py"
   ]
  },
  {
   "cell_type": "code",
   "execution_count": null,
   "id": "84746767-a669-49d0-b2ce-cceeab4c0a75",
   "metadata": {},
   "outputs": [],
   "source": [
    "### TO BE COMPLETED ### \n",
    "# Visual comparison\n",
    "\n",
    "[...]"
   ]
  },
  {
   "cell_type": "code",
   "execution_count": null,
   "id": "242b787b-f506-4311-a1df-9edaad56ca57",
   "metadata": {},
   "outputs": [],
   "source": [
    "# %load solutions/visual_comparison.py"
   ]
  },
  {
   "cell_type": "markdown",
   "id": "5c385d4d-578a-440a-90ab-d8aa7a657f30",
   "metadata": {},
   "source": [
    "##### <span style=\"color:purple\">**Todo:** Find the three \"topics\" used by the NMF algorithm to choose the recommendations.</span>"
   ]
  },
  {
   "cell_type": "code",
   "execution_count": null,
   "id": "216208d1-156f-44ca-81b2-a254efe6241d",
   "metadata": {},
   "outputs": [],
   "source": [
    "### TO BE COMPLETED ### \n",
    "# Top topics\n",
    "\n",
    "top_topics = ...\n",
    "\n",
    "[...]"
   ]
  },
  {
   "cell_type": "code",
   "execution_count": null,
   "id": "ee55e30b-03b1-4e94-97df-02d9c23d26b8",
   "metadata": {},
   "outputs": [],
   "source": [
    "# %load solutions/top_topics.py"
   ]
  },
  {
   "cell_type": "markdown",
   "id": "54020f8e-20f5-47e3-b2e1-55f837971475",
   "metadata": {},
   "source": [
    "As a reminder, these are the topics associated with the following films: "
   ]
  },
  {
   "cell_type": "code",
   "execution_count": null,
   "id": "58356e08-29cb-4659-9b47-957bb43da4e8",
   "metadata": {},
   "outputs": [],
   "source": [
    "n_top_words = 5\n",
    "fig, axes = plt.subplots(1, 3, figsize=(30, 10), sharex=True)\n",
    "axes = axes.flatten()\n",
    "cmap = plt.get_cmap('tab20', len(genre))\n",
    "\n",
    "for idx, i in enumerate(top_topics):\n",
    "    topic = H[i, :]\n",
    "    top_features = topic.argsort()[: -n_top_words - 1 : -1]\n",
    "    top_features_names = [movies_df[\"Title\"][j][:20] for j in top_features]\n",
    "    top_features_scores = [topic[j] for j in top_features]\n",
    "    top_features_genres = [movies_df[\"Genre\"][j] for j in top_features]\n",
    "    top_cmap = colors.ListedColormap(cmap.colors[top_features_genres])\n",
    "    \n",
    "    ax = axes[idx]\n",
    "    ax.barh(top_features_names, top_features_scores, height=0.7, color=top_cmap.colors)\n",
    "    ax.set_title(f\"Topic {i+1}\", fontdict={\"fontsize\": 30})\n",
    "    ax.invert_yaxis()\n",
    "    ax.tick_params(axis=\"both\", which=\"major\", labelsize=20)\n",
    "    for i in \"top right left\".split():\n",
    "        ax.spines[i].set_visible(False)\n",
    "\n",
    "plt.subplots_adjust(top=0.90, bottom=0.05, wspace=0.90, hspace=0.3)\n",
    "plt.show()"
   ]
  },
  {
   "cell_type": "markdown",
   "id": "8f2dfdd7-b8df-49e4-93c9-4656f615c4af",
   "metadata": {},
   "source": [
    "### New user with rating history"
   ]
  },
  {
   "cell_type": "markdown",
   "id": "b5976022-9c67-405f-a3df-2e02e188084b",
   "metadata": {},
   "source": [
    "##### <span style=\"color:purple\">**Todo:** Create a new user, or use the `new_user.txt` file.</span>"
   ]
  },
  {
   "cell_type": "code",
   "execution_count": null,
   "id": "758af58b-45f7-4881-b7aa-8f7353c5670a",
   "metadata": {},
   "outputs": [],
   "source": [
    "### TO BE COMPLETED ### \n",
    "# New user\n",
    "\n",
    "[...]"
   ]
  },
  {
   "cell_type": "code",
   "execution_count": null,
   "id": "eacb7630-feb2-45d1-93c1-318926163d15",
   "metadata": {},
   "outputs": [],
   "source": [
    "# %load new_user.txt"
   ]
  },
  {
   "cell_type": "markdown",
   "id": "c1e113bf-f879-40aa-8ab8-31138f597706",
   "metadata": {},
   "source": [
    "##### <span style=\"color:purple\">**Todo:** Make recommendations for this new user.</span>\n",
    "\n",
    "1. Update the user-item matrix,\n",
    "2. Retrain the NMF model with the new matrix,\n",
    "3. Make 5 recommendation for this new user,\n",
    "4. Visually compare predictions and favorite movies.\n",
    "\n",
    "_Note: Beware of the values taken by the predicted scores!_"
   ]
  },
  {
   "cell_type": "code",
   "execution_count": null,
   "id": "40a4f3d4-331f-445f-8ce0-a10b4d9bb89c",
   "metadata": {},
   "outputs": [],
   "source": [
    "### TO BE COMPLETED ### \n",
    "# Recompute NMF\n",
    "\n",
    "[...]"
   ]
  },
  {
   "cell_type": "code",
   "execution_count": null,
   "id": "d50128e9-608a-4065-b3f3-5b4931942085",
   "metadata": {},
   "outputs": [],
   "source": [
    "# %load solutions/nmf_new_user_history.py"
   ]
  },
  {
   "cell_type": "code",
   "execution_count": null,
   "id": "32119e31-c587-43e3-9810-ead2fd6d24f5",
   "metadata": {},
   "outputs": [],
   "source": [
    "### TO BE COMPLETED ### \n",
    "# Make recommendations\n",
    "\n",
    "[...]"
   ]
  },
  {
   "cell_type": "code",
   "execution_count": null,
   "id": "9eae0673-fe2a-45c5-86b3-0f9db045ad56",
   "metadata": {},
   "outputs": [],
   "source": [
    "# %load solutions/reco_new_user_history.py"
   ]
  },
  {
   "cell_type": "code",
   "execution_count": null,
   "id": "693d2a97-3562-48e7-8625-7f62523752d4",
   "metadata": {},
   "outputs": [],
   "source": [
    "### TO BE COMPLETED ### \n",
    "# Visual comparison\n",
    "\n",
    "[...]"
   ]
  },
  {
   "cell_type": "code",
   "execution_count": null,
   "id": "de1bb96e-f780-4920-b013-2ec2ab3708df",
   "metadata": {},
   "outputs": [],
   "source": [
    "# %load solutions/visual_comparison_new_user_history.py"
   ]
  },
  {
   "cell_type": "code",
   "execution_count": null,
   "id": "b3770f75-b0d1-43ff-a7ed-afce6184ba5d",
   "metadata": {},
   "outputs": [],
   "source": [
    "# Top topics\n",
    "\n",
    "topics_used = newW[-1, :]\n",
    "top_topics = topics_used.argsort()[: -3 - 1 : -1]\n",
    "top_topics.sort()\n",
    "print(\"Top topics: %i, %i, %i\" % tuple(top_topics + 1))"
   ]
  },
  {
   "cell_type": "markdown",
   "id": "13f447fe-aeba-4a8a-9871-4bac0645d056",
   "metadata": {},
   "source": [
    "### New user with no rating history\n",
    "\n",
    "The last case is that of a new user with no rating history, but currently watching a movie from our corpus. \n",
    "\n",
    "Without a history of notes, we will not be able to proceed as before. The idea here is, by placing ourselves in the \"movies embedding\" induced by the NMF decomposition, to compute a dissimilarity measure between the different movies and to recommend a movie close to the currently watched movie, in the sense of this dissimilarity. The underlying intuition is that the movie embedding of the NMF decomposition induces a good understanding of the movie corpus. \n",
    "\n",
    "We use [cosine similarity](https://en.wikipedia.org/wiki/Cosine_similarity) to measure the similarity between movies. Other choices are possible."
   ]
  },
  {
   "cell_type": "code",
   "execution_count": null,
   "id": "c95c95e0-2314-4245-af52-56b5bfe7e826",
   "metadata": {},
   "outputs": [],
   "source": [
    "from sklearn.metrics.pairwise import cosine_similarity"
   ]
  },
  {
   "cell_type": "markdown",
   "id": "728c9c92-1b14-49f1-ba67-916b3195351c",
   "metadata": {},
   "source": [
    "##### <span style=\"color:purple\">**Todo:** Compute the similarity between movies.</span>\n",
    "\n",
    "1. Compute the movie-to-movie similarity matrix using the [cosine_similarity](https://scikit-learn.org/stable/modules/generated/sklearn.metrics.pairwise.cosine_similarity.html) function,\n",
    "2. Display the image representing this similarity."
   ]
  },
  {
   "cell_type": "code",
   "execution_count": null,
   "id": "0f4eb6ad-b7b7-41e4-ab49-3c709e39f550",
   "metadata": {},
   "outputs": [],
   "source": [
    "### TO BE COMPLETED ### \n",
    "# Movies similarity\n",
    "\n",
    "[...]"
   ]
  },
  {
   "cell_type": "code",
   "execution_count": null,
   "id": "c60549be-8ce3-4ff1-9bde-c11413c31942",
   "metadata": {},
   "outputs": [],
   "source": [
    "# %load solutions/movies_similarity.py"
   ]
  },
  {
   "cell_type": "markdown",
   "id": "ccdbb9a6-65c5-40af-b6ee-67087f4adfa0",
   "metadata": {},
   "source": [
    "##### <span style=\"color:purple\">**Todo:** Recommend the most similar movie to what the new user is watching.</span>\n",
    "\n",
    "The movie currently being watched can be chosen at random."
   ]
  },
  {
   "cell_type": "code",
   "execution_count": null,
   "id": "598c32da-b5a8-4bdd-bd26-40a67bd322b7",
   "metadata": {},
   "outputs": [],
   "source": [
    "### TO BE COMPLETED ### \n",
    "# Suggested movies\n",
    "\n",
    "[...]"
   ]
  },
  {
   "cell_type": "code",
   "execution_count": null,
   "id": "db5bce03-7c74-4b46-8f86-92e866ddaf02",
   "metadata": {},
   "outputs": [],
   "source": [
    "# %load solutions/suggested_movies.py"
   ]
  },
  {
   "cell_type": "code",
   "execution_count": null,
   "id": "490d2cfd-bbdf-481f-aba8-a8e46fc5900e",
   "metadata": {},
   "outputs": [],
   "source": [
    "### TO BE COMPLETED ### \n",
    "# Visualise suggestion\n",
    "\n",
    "[...]"
   ]
  },
  {
   "cell_type": "code",
   "execution_count": null,
   "id": "6d1b1920-6382-4662-9ca1-1d169ab15dee",
   "metadata": {},
   "outputs": [],
   "source": [
    "# %load solutions/visualise_suggestion.py"
   ]
  },
  {
   "cell_type": "markdown",
   "id": "7b3658d6-665e-4b69-90b3-0945ba88866e",
   "metadata": {},
   "source": [
    "## Optimize NMF parameters <span style=\"color:purple\">(To go further)</span>\n",
    "\n",
    "The next step is to optimize different parameters influencing the NMF model. To do so, you can conduct a K-fold cross-validation. You may choose $K=5$.\n",
    "\n",
    "More precisely, we aim to select the optimal parameters for the [NMF scikit function](https://scikit-learn.org/stable/modules/generated/sklearn.decomposition.NMF.html): $\\texttt{n_components}$, $\\texttt{solver}$, $\\texttt{init}$, $\\texttt{beta_loss}$, $\\texttt{alpha_W}$, $\\texttt{alpha_H}$, and $\\texttt{l1_ratio}$. You can choose three values per parameters and test all combinations through a grid search."
   ]
  },
  {
   "cell_type": "code",
   "execution_count": null,
   "id": "ac248c8f-d83e-4d24-af0d-7f8e9c12a880",
   "metadata": {},
   "outputs": [],
   "source": [
    "from sklearn.model_selection import train_test_split, ShuffleSplit\n",
    "from sklearn.metrics import mean_squared_error"
   ]
  },
  {
   "cell_type": "markdown",
   "id": "ffb9f743-52ff-47ac-9e55-374da7f467f6",
   "metadata": {},
   "source": [
    "The function below creates the [user-item matrix](#user-item-matrix) $R$ from the numpy-array matrices $X$ and $y$.\n",
    "\n",
    "- $\\texttt{X = ratings_df[['User ID','Movie ID']].values}$\n",
    "- $\\texttt{y = ratings_df['Rating'].values}$"
   ]
  },
  {
   "cell_type": "code",
   "execution_count": null,
   "id": "06c49662-5acc-4548-a8dd-82592e0d778f",
   "metadata": {},
   "outputs": [],
   "source": [
    "def make_R(X, y, shape):\n",
    "    # X = ratings_df[['User ID','Movie ID']].values\n",
    "    # y = ratings_df['Rating'].values\n",
    "    \n",
    "    matrix_sparse = sparse.csr_matrix((y, (X[:,0], X[:,1])), shape=(shape[0]+1,shape[1]+1))\n",
    "    R = matrix_sparse.todense()\n",
    "    R = np.array(R[1:, 1:])\n",
    "    \n",
    "    return R"
   ]
  },
  {
   "cell_type": "markdown",
   "id": "d8d240c2-dac4-48f5-b811-9f6817615769",
   "metadata": {},
   "source": [
    "##### <span style=\"color:purple\">**Todo:** Split the data set into a training set and a test set.</span>\n",
    "\n",
    "We will perform the cross-validation only on the training set. The test set will be used to validate a posteriori the procedure on data that were not used to train the NMF decomposition."
   ]
  },
  {
   "cell_type": "code",
   "execution_count": null,
   "id": "068e2643-2b2d-4527-baab-563b0efc34c1",
   "metadata": {},
   "outputs": [],
   "source": [
    "### TO BE COMPLETED ### \n",
    "# Train-vs-Test\n",
    "\n",
    "[...]"
   ]
  },
  {
   "cell_type": "code",
   "execution_count": null,
   "id": "73a4b597-5c79-4725-938d-1fd603473ee7",
   "metadata": {},
   "outputs": [],
   "source": [
    "# %load solutions/split_train_test.py"
   ]
  },
  {
   "cell_type": "markdown",
   "id": "a349d341-9a67-4d0d-9597-4ad4fc7522bc",
   "metadata": {},
   "source": [
    "We will need to evaluate the error (RMSE) to adjust the hyperparameters."
   ]
  },
  {
   "cell_type": "code",
   "execution_count": null,
   "id": "1b2828fc-9852-4af4-8e8b-5ec220f0062c",
   "metadata": {},
   "outputs": [],
   "source": [
    "def get_rmse(pred, actual):\n",
    "    pred = pred[actual.nonzero()].flatten()     # Ignore nonzero terms\n",
    "    actual = actual[actual.nonzero()].flatten() # Ignore nonzero terms\n",
    "    return np.sqrt(mean_squared_error(pred, actual))"
   ]
  },
  {
   "cell_type": "markdown",
   "id": "6d3bb766-9aab-4816-b75a-caba181adc62",
   "metadata": {},
   "source": [
    "##### <span style=\"color:purple\">**Todo:** Find the optimal parameters.</span>\n",
    "\n",
    "You can use the [`ShuffleSplit`](https://scikit-learn.org/stable/modules/generated/sklearn.model_selection.ShuffleSplit.html) function."
   ]
  },
  {
   "cell_type": "code",
   "execution_count": null,
   "id": "1d371ade-9f35-4f4a-9d2a-d7b018b78cae",
   "metadata": {},
   "outputs": [],
   "source": [
    "### TO BE COMPLETED ### \n",
    "# Cross-Validation\n",
    "\n",
    "[...]"
   ]
  },
  {
   "cell_type": "code",
   "execution_count": null,
   "id": "ff058bcc-fa9f-4cdb-b4c2-cbc3653c697f",
   "metadata": {
    "scrolled": true,
    "tags": []
   },
   "outputs": [],
   "source": [
    "# %load solutions/cross_validation.py"
   ]
  },
  {
   "cell_type": "markdown",
   "id": "c5269a87-bdad-42e2-bd2b-481a405a94b2",
   "metadata": {},
   "source": [
    "##### <span style=\"color:purple\">**Todo:** Evaluate the model obtained on the test set.</span>\n"
   ]
  },
  {
   "cell_type": "code",
   "execution_count": null,
   "id": "2d7bc871-baea-4a04-93db-3452484c90c3",
   "metadata": {},
   "outputs": [],
   "source": [
    "### TO BE COMPLETED ### \n",
    "# Final evaluation\n",
    "\n",
    "[...]"
   ]
  },
  {
   "cell_type": "code",
   "execution_count": null,
   "id": "0356db57-6047-4650-9c23-6443c5a3925b",
   "metadata": {},
   "outputs": [],
   "source": [
    "# %load solutions/final_evaluation.py"
   ]
  }
 ],
 "metadata": {
  "kernelspec": {
   "display_name": "Python 3 (ipykernel)",
   "language": "python",
   "name": "python3"
  },
  "language_info": {
   "codemirror_mode": {
    "name": "ipython",
    "version": 3
   },
   "file_extension": ".py",
   "mimetype": "text/x-python",
   "name": "python",
   "nbconvert_exporter": "python",
   "pygments_lexer": "ipython3",
   "version": "3.12.2"
  }
 },
 "nbformat": 4,
 "nbformat_minor": 5
}
